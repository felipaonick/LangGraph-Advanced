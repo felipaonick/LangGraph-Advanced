{
 "cells": [
  {
   "cell_type": "markdown",
   "metadata": {},
   "source": [
    "# Stato\n",
    "\n",
    "Possiamo definire lo stato utilizzando **TypeDict** e **Pydantic**\n",
    "\n",
    "Ora vedimao le diferrenze tra esse\n",
    "\n",
    "## Dict vs TypeDict vs Pydantic"
   ]
  },
  {
   "cell_type": "code",
   "execution_count": 1,
   "metadata": {},
   "outputs": [],
   "source": [
    "person = {\"name\": \"Alice\", \"age\": 30}\n",
    "person2 = {\"name\": \"John\", \"Age\": 50, \"job_title\": \"Manager\"}"
   ]
  },
  {
   "cell_type": "markdown",
   "metadata": {},
   "source": [
    "vediamo che i due dizionari si differiscono \"Age\" e \"job_title\".\n",
    "\n",
    "Quindi non sappiamo quali chiavi una persona dovrebbe avere.\n",
    "\n",
    "Usare TypeDict risolve questo problema.\n",
    "\n",
    "TypeDict spiega come definire un oggetto.\n",
    "\n",
    "In questo vogliamo definire una persona.\n",
    "\n",
    "Con TypeDict definiamo gli attibuti richiesti per la classe e devono essere di tipo specifico di dato (str, list, dict, ecc) evitando ambiguità"
   ]
  },
  {
   "cell_type": "code",
   "execution_count": 2,
   "metadata": {},
   "outputs": [],
   "source": [
    "from typing import TypedDict\n",
    "\n",
    "class Person(TypedDict):\n",
    "    name: str\n",
    "    age: int\n",
    "\n",
    "\n",
    "person: Person = {\"name\": \"Alice\", \"age\": \"wrong\"} # mettiamo un stinga in age al posto di un intero e vediamo che succede"
   ]
  },
  {
   "cell_type": "markdown",
   "metadata": {},
   "source": [
    "come vidiamo non succede niente se mettiamo un stringa l posto di un intero.\n",
    "\n",
    "Questo perchè TypeDict fa rispettare il type checking.\n",
    "\n",
    "Se eseguiamo lo stesso codice in un file .py con mypy vedremo che ci da errore:\n",
    "\n",
    "(.venv) C:\\Users\\felip\\Desktop\\LangGraph_Advanced\\LangGraph-Udemy-Course>mypy 00_typeddict_with_mypy.py\n",
    "00_typeddict_with_mypy.py:9: error: Missing key \"age\" for TypedDict \"Person\"  [typeddict-item]\n",
    "00_typeddict_with_mypy.py:9: error: Extra keys (\"Age\", \"job_title\") for TypedDict \"Person\"  [typeddict-unknown-key]\n",
    "Found 2 errors in 1 file (checked 1 source file)\n",
    "\n",
    "\n",
    "Quindi mypy ci aiuta a detettare questi errori, ma non saranno fprazi come errori nel runtime.\n",
    "\n",
    "Se vogliamo che vada in errore nel runtime per errori di type-checking dobbiamo usare la libreria **Pydantic**\n",
    "\n"
   ]
  },
  {
   "cell_type": "code",
   "execution_count": 3,
   "metadata": {},
   "outputs": [
    {
     "ename": "ValidationError",
     "evalue": "1 validation error for Person\nage\n  Input should be a valid integer, unable to parse string as an integer [type=int_parsing, input_value='wrong', input_type=str]\n    For further information visit https://errors.pydantic.dev/2.9/v/int_parsing",
     "output_type": "error",
     "traceback": [
      "\u001b[1;31m---------------------------------------------------------------------------\u001b[0m",
      "\u001b[1;31mValidationError\u001b[0m                           Traceback (most recent call last)",
      "Cell \u001b[1;32mIn[3], line 7\u001b[0m\n\u001b[0;32m      4\u001b[0m     name: \u001b[38;5;28mstr\u001b[39m\n\u001b[0;32m      5\u001b[0m     age: \u001b[38;5;28mint\u001b[39m\n\u001b[1;32m----> 7\u001b[0m person \u001b[38;5;241m=\u001b[39m \u001b[43mPerson\u001b[49m\u001b[43m(\u001b[49m\u001b[43mname\u001b[49m\u001b[38;5;241;43m=\u001b[39;49m\u001b[38;5;124;43m\"\u001b[39;49m\u001b[38;5;124;43mAlice\u001b[39;49m\u001b[38;5;124;43m\"\u001b[39;49m\u001b[43m,\u001b[49m\u001b[43m \u001b[49m\u001b[43mage\u001b[49m\u001b[38;5;241;43m=\u001b[39;49m\u001b[38;5;124;43m\"\u001b[39;49m\u001b[38;5;124;43mwrong\u001b[39;49m\u001b[38;5;124;43m\"\u001b[39;49m\u001b[43m)\u001b[49m  \u001b[38;5;66;03m# ci da validation error\u001b[39;00m\n",
      "File \u001b[1;32mc:\\Users\\felip\\Desktop\\LangGraph_Advanced\\LangGraph-mio\\.venv\\lib\\site-packages\\pydantic\\main.py:212\u001b[0m, in \u001b[0;36mBaseModel.__init__\u001b[1;34m(self, **data)\u001b[0m\n\u001b[0;32m    210\u001b[0m \u001b[38;5;66;03m# `__tracebackhide__` tells pytest and some other tools to omit this function from tracebacks\u001b[39;00m\n\u001b[0;32m    211\u001b[0m __tracebackhide__ \u001b[38;5;241m=\u001b[39m \u001b[38;5;28;01mTrue\u001b[39;00m\n\u001b[1;32m--> 212\u001b[0m validated_self \u001b[38;5;241m=\u001b[39m \u001b[38;5;28;43mself\u001b[39;49m\u001b[38;5;241;43m.\u001b[39;49m\u001b[43m__pydantic_validator__\u001b[49m\u001b[38;5;241;43m.\u001b[39;49m\u001b[43mvalidate_python\u001b[49m\u001b[43m(\u001b[49m\u001b[43mdata\u001b[49m\u001b[43m,\u001b[49m\u001b[43m \u001b[49m\u001b[43mself_instance\u001b[49m\u001b[38;5;241;43m=\u001b[39;49m\u001b[38;5;28;43mself\u001b[39;49m\u001b[43m)\u001b[49m\n\u001b[0;32m    213\u001b[0m \u001b[38;5;28;01mif\u001b[39;00m \u001b[38;5;28mself\u001b[39m \u001b[38;5;129;01mis\u001b[39;00m \u001b[38;5;129;01mnot\u001b[39;00m validated_self:\n\u001b[0;32m    214\u001b[0m     warnings\u001b[38;5;241m.\u001b[39mwarn(\n\u001b[0;32m    215\u001b[0m         \u001b[38;5;124m'\u001b[39m\u001b[38;5;124mA custom validator is returning a value other than `self`.\u001b[39m\u001b[38;5;130;01m\\n\u001b[39;00m\u001b[38;5;124m'\u001b[39m\n\u001b[0;32m    216\u001b[0m         \u001b[38;5;124m\"\u001b[39m\u001b[38;5;124mReturning anything other than `self` from a top level model validator isn\u001b[39m\u001b[38;5;124m'\u001b[39m\u001b[38;5;124mt supported when validating via `__init__`.\u001b[39m\u001b[38;5;130;01m\\n\u001b[39;00m\u001b[38;5;124m\"\u001b[39m\n\u001b[0;32m    217\u001b[0m         \u001b[38;5;124m'\u001b[39m\u001b[38;5;124mSee the `model_validator` docs (https://docs.pydantic.dev/latest/concepts/validators/#model-validators) for more details.\u001b[39m\u001b[38;5;124m'\u001b[39m,\n\u001b[0;32m    218\u001b[0m         category\u001b[38;5;241m=\u001b[39m\u001b[38;5;28;01mNone\u001b[39;00m,\n\u001b[0;32m    219\u001b[0m     )\n",
      "\u001b[1;31mValidationError\u001b[0m: 1 validation error for Person\nage\n  Input should be a valid integer, unable to parse string as an integer [type=int_parsing, input_value='wrong', input_type=str]\n    For further information visit https://errors.pydantic.dev/2.9/v/int_parsing"
     ]
    }
   ],
   "source": [
    "from pydantic import BaseModel\n",
    "\n",
    "class Person(BaseModel):\n",
    "    name: str\n",
    "    age: int\n",
    "\n",
    "person = Person(name=\"Alice\", age=\"wrong\")  # ci da validation error"
   ]
  },
  {
   "cell_type": "markdown",
   "metadata": {},
   "source": [
    "Quindi in confronto un dizionario normale non ha nessun tipo di validazione.\n",
    "\n",
    "Un TypeDict fa solo lo static type checking. (non va in errore in runtime)\n",
    "\n",
    "Pydantic fa il runtime checking e anche il parsing.\n",
    "\n",
    "Utilizzeremo TypeDict per via della sua flessibilità, ma se necessitiamo o vogliamo un runtime validation allora possiamo usrae anche Pydantic"
   ]
  },
  {
   "cell_type": "code",
   "execution_count": null,
   "metadata": {},
   "outputs": [],
   "source": []
  }
 ],
 "metadata": {
  "kernelspec": {
   "display_name": ".venv",
   "language": "python",
   "name": "python3"
  },
  "language_info": {
   "codemirror_mode": {
    "name": "ipython",
    "version": 3
   },
   "file_extension": ".py",
   "mimetype": "text/x-python",
   "name": "python",
   "nbconvert_exporter": "python",
   "pygments_lexer": "ipython3",
   "version": "3.10.0"
  }
 },
 "nbformat": 4,
 "nbformat_minor": 2
}
