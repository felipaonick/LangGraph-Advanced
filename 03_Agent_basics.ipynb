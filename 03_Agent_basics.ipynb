{
 "cells": [
  {
   "cell_type": "code",
   "execution_count": 21,
   "metadata": {},
   "outputs": [
    {
     "data": {
      "text/plain": [
       "True"
      ]
     },
     "execution_count": 21,
     "metadata": {},
     "output_type": "execute_result"
    }
   ],
   "source": [
    "from dotenv import load_dotenv\n",
    "\n",
    "load_dotenv()"
   ]
  },
  {
   "cell_type": "code",
   "execution_count": 24,
   "metadata": {},
   "outputs": [],
   "source": [
    "# MessageState è una classe TypedDict \n",
    "# class MessageState(TypedDict):\n",
    "#     messages: Annotated[list[AnyMessages], add_messages]\n",
    "# aggiunge sempre l'ultimno messaggio alla lista messages\n",
    "from langgraph.graph import END, START, StateGraph, MessagesState\n",
    "\n",
    "from langchain_openai import ChatOpenAI\n",
    "from langchain_core.tools import tool\n",
    "# possiamo utilizzare la classe ToolNode che convertirà il nostro tool in un nodo del grafo\n",
    "from langgraph.prebuilt import ToolNode\n",
    "\n",
    "from typing import Literal"
   ]
  },
  {
   "cell_type": "code",
   "execution_count": 25,
   "metadata": {},
   "outputs": [],
   "source": [
    "# creiamo il nostro tool\n",
    "@tool \n",
    "def get_weather(location: str):\n",
    "    \"\"\"Call to get the current weather.\"\"\"\n",
    "    if location.lower() in [\"munich\"]:\n",
    "        return \"It's 15 degrees Celsius and cloudly.\"\n",
    "    else:\n",
    "        return \"It's 32 degrees Celsius and sunny.\""
   ]
  },
  {
   "cell_type": "code",
   "execution_count": 26,
   "metadata": {},
   "outputs": [
    {
     "data": {
      "text/plain": [
       "\"It's 15 degrees Celsius and cloudly.\""
      ]
     },
     "execution_count": 26,
     "metadata": {},
     "output_type": "execute_result"
    }
   ],
   "source": [
    "get_weather.invoke(input={\"location\": \"munich\"})"
   ]
  },
  {
   "cell_type": "code",
   "execution_count": 27,
   "metadata": {},
   "outputs": [],
   "source": [
    "tools = [get_weather]\n",
    "model = ChatOpenAI(model=\"gpt-4o\").bind_tools(tools)"
   ]
  },
  {
   "cell_type": "code",
   "execution_count": 28,
   "metadata": {},
   "outputs": [
    {
     "data": {
      "text/plain": [
       "AIMessage(content='Hello! How can I assist you today?', additional_kwargs={'refusal': None}, response_metadata={'token_usage': {'completion_tokens': 11, 'prompt_tokens': 45, 'total_tokens': 56, 'completion_tokens_details': {'accepted_prediction_tokens': 0, 'audio_tokens': 0, 'reasoning_tokens': 0, 'rejected_prediction_tokens': 0}, 'prompt_tokens_details': {'audio_tokens': 0, 'cached_tokens': 0}}, 'model_name': 'gpt-4o-2024-08-06', 'system_fingerprint': 'fp_eb9dce56a8', 'finish_reason': 'stop', 'logprobs': None}, id='run-c1a44479-7b8f-44c2-afba-b12f04c88895-0', usage_metadata={'input_tokens': 45, 'output_tokens': 11, 'total_tokens': 56, 'input_token_details': {'audio': 0, 'cache_read': 0}, 'output_token_details': {'audio': 0, 'reasoning': 0}})"
      ]
     },
     "execution_count": 28,
     "metadata": {},
     "output_type": "execute_result"
    }
   ],
   "source": [
    "model.invoke(\"hello\")"
   ]
  },
  {
   "cell_type": "code",
   "execution_count": 29,
   "metadata": {},
   "outputs": [
    {
     "data": {
      "text/plain": [
       "AIMessage(content='', additional_kwargs={'tool_calls': [{'id': 'call_ofml82CqvrHtJwuJOvwhMQAe', 'function': {'arguments': '{\"location\":\"munich\"}', 'name': 'get_weather'}, 'type': 'function'}], 'refusal': None}, response_metadata={'token_usage': {'completion_tokens': 16, 'prompt_tokens': 52, 'total_tokens': 68, 'completion_tokens_details': {'accepted_prediction_tokens': 0, 'audio_tokens': 0, 'reasoning_tokens': 0, 'rejected_prediction_tokens': 0}, 'prompt_tokens_details': {'audio_tokens': 0, 'cached_tokens': 0}}, 'model_name': 'gpt-4o-2024-08-06', 'system_fingerprint': 'fp_eb9dce56a8', 'finish_reason': 'tool_calls', 'logprobs': None}, id='run-296935ce-3d12-44fd-8af4-6adce1c4b50d-0', tool_calls=[{'name': 'get_weather', 'args': {'location': 'munich'}, 'id': 'call_ofml82CqvrHtJwuJOvwhMQAe', 'type': 'tool_call'}], usage_metadata={'input_tokens': 52, 'output_tokens': 16, 'total_tokens': 68, 'input_token_details': {'audio': 0, 'cache_read': 0}, 'output_token_details': {'audio': 0, 'reasoning': 0}})"
      ]
     },
     "execution_count": 29,
     "metadata": {},
     "output_type": "execute_result"
    }
   ],
   "source": [
    "model.invoke(\"How is the weather in munich?\")"
   ]
  },
  {
   "cell_type": "code",
   "execution_count": 30,
   "metadata": {},
   "outputs": [],
   "source": [
    "# per integrare sudetto flusso in langgraph dobbiamo prima creare le funzioni \n",
    "# che aggiungeremo come nodi al nostro workflow\n",
    "\n",
    "def call_model(state: MessagesState):\n",
    "    messages = state['messages']\n",
    "    response = model.invoke(messages)\n",
    "    return {\"messages\": [response]} # aggiungiamo solo l'ultimo messaggio, dato che usiamo la reduce function (add_message), che è la responsabile di aggiungere tale response dal modello alla message list.\n",
    "\n",
    "\n",
    "# funzione per arco codizionale\n",
    "def should_continue(state: MessagesState) -> Literal[\"tools\", \"__end__\"]:\n",
    "    messages = state['messages']\n",
    "    last_message = messages[-1]\n",
    "    if last_message.tool_calls:\n",
    "        return \"tools\"\n",
    "    return \"__end__\""
   ]
  },
  {
   "cell_type": "code",
   "execution_count": 31,
   "metadata": {},
   "outputs": [],
   "source": [
    "# creiamo il nostro workflow (grafo)\n",
    "workflow = StateGraph(MessagesState)\n",
    "# utilizziamo un nodo speciale il quale è un tool node, e solo li passiamo la lista di tools\n",
    "# questo è molto conveniente perchè possiamo aggiungere un nodo che esegue un tool\n",
    "# e restituisce una risposta ToolMessage() che viene inserita nello stato del grafo sotto la chiave che si usa nell'input che gli si è dato in questo caso 'messages'\n",
    "# vedi: https://langchain-ai.github.io/langgraph/how-tos/tool-calling/#manually-call-toolnode \n",
    "tool_node = ToolNode(tools)\n",
    "\n",
    "workflow.add_node(\"agent\", call_model)\n",
    "\n",
    "# il secondo nodo sarà il ToolNode dove li forniamo il nostro tool_node che abbiamo creato dalla\n",
    "# nostra lista di tools\n",
    "workflow.add_node(\"tools\", tool_node)\n",
    "\n",
    "\n",
    "# settiamo l'entry point del grafo\n",
    "workflow.add_edge(START, \"agent\") # due in colpo solo (entrypoint e arco)\n",
    "\n",
    "\n",
    "workflow.add_conditional_edges(\n",
    "    \"agent\",\n",
    "    should_continue,\n",
    "    path_map={\"tools\": \"tools\", \"__end__\": END}\n",
    ")\n",
    "\n",
    "workflow.add_edge(\"tools\", \"agent\") # torna indietro\n",
    "\n",
    "graph = workflow.compile()\n"
   ]
  },
  {
   "cell_type": "code",
   "execution_count": 32,
   "metadata": {},
   "outputs": [
    {
     "data": {
      "image/png": "[encoded data removed]",
      "text/plain": [
       "<IPython.core.display.Image object>"
      ]
     },
     "metadata": {},
     "output_type": "display_data"
    }
   ],
   "source": [
    "from IPython.display import Image, display\n",
    "from langchain_core.runnables.graph import MermaidDrawMethod\n",
    "\n",
    "display(\n",
    "    Image(\n",
    "        graph.get_graph().draw_mermaid_png(\n",
    "            draw_method=MermaidDrawMethod.API\n",
    "        )\n",
    "    )\n",
    ")"
   ]
  },
  {
   "cell_type": "code",
   "execution_count": 33,
   "metadata": {},
   "outputs": [],
   "source": [
    "# creaimo i messaggi \n",
    "from langchain_core.messages import HumanMessage\n",
    "\n",
    "message1 = [HumanMessage(content=\"Hello, how are you?\")]\n",
    "message2 = [HumanMessage(content=\"How is the weather in munich?\")]\n"
   ]
  },
  {
   "cell_type": "code",
   "execution_count": 34,
   "metadata": {},
   "outputs": [
    {
     "data": {
      "text/plain": [
       "{'messages': [HumanMessage(content='Hello, how are you?', additional_kwargs={}, response_metadata={}, id='9474ab0f-d244-4d12-ab8a-7becf265149b'),\n",
       "  AIMessage(content=\"Hello! I'm just a computer program, so I don't have feelings, but I'm here and ready to help you. How can I assist you today?\", additional_kwargs={'refusal': None}, response_metadata={'token_usage': {'completion_tokens': 32, 'prompt_tokens': 50, 'total_tokens': 82, 'completion_tokens_details': {'accepted_prediction_tokens': 0, 'audio_tokens': 0, 'reasoning_tokens': 0, 'rejected_prediction_tokens': 0}, 'prompt_tokens_details': {'audio_tokens': 0, 'cached_tokens': 0}}, 'model_name': 'gpt-4o-2024-08-06', 'system_fingerprint': 'fp_eb9dce56a8', 'finish_reason': 'stop', 'logprobs': None}, id='run-cdd93cef-41ad-4929-a5df-a6aec9e4c3e0-0', usage_metadata={'input_tokens': 50, 'output_tokens': 32, 'total_tokens': 82, 'input_token_details': {'audio': 0, 'cache_read': 0}, 'output_token_details': {'audio': 0, 'reasoning': 0}})]}"
      ]
     },
     "execution_count": 34,
     "metadata": {},
     "output_type": "execute_result"
    }
   ],
   "source": [
    "# non chiama il tool e va subito verso il nodo end\n",
    "graph.invoke({\"messages\": message1})"
   ]
  },
  {
   "cell_type": "code",
   "execution_count": 35,
   "metadata": {},
   "outputs": [
    {
     "data": {
      "text/plain": [
       "{'messages': [HumanMessage(content='How is the weather in munich?', additional_kwargs={}, response_metadata={}, id='e10d9b21-81dd-40a1-b050-ee7c53e611b4'),\n",
       "  AIMessage(content='', additional_kwargs={'tool_calls': [{'id': 'call_SrM2MuCdSH4wRMOcnMuPolJI', 'function': {'arguments': '{\"location\":\"Munich\"}', 'name': 'get_weather'}, 'type': 'function'}], 'refusal': None}, response_metadata={'token_usage': {'completion_tokens': 16, 'prompt_tokens': 52, 'total_tokens': 68, 'completion_tokens_details': {'accepted_prediction_tokens': 0, 'audio_tokens': 0, 'reasoning_tokens': 0, 'rejected_prediction_tokens': 0}, 'prompt_tokens_details': {'audio_tokens': 0, 'cached_tokens': 0}}, 'model_name': 'gpt-4o-2024-08-06', 'system_fingerprint': 'fp_eb9dce56a8', 'finish_reason': 'tool_calls', 'logprobs': None}, id='run-a5906704-6e12-48ef-856b-03a1285f847c-0', tool_calls=[{'name': 'get_weather', 'args': {'location': 'Munich'}, 'id': 'call_SrM2MuCdSH4wRMOcnMuPolJI', 'type': 'tool_call'}], usage_metadata={'input_tokens': 52, 'output_tokens': 16, 'total_tokens': 68, 'input_token_details': {'audio': 0, 'cache_read': 0}, 'output_token_details': {'audio': 0, 'reasoning': 0}}),\n",
       "  ToolMessage(content=\"It's 15 degrees Celsius and cloudly.\", name='get_weather', id='f4b051dd-82a9-415c-aa2f-7e6a0cb7f959', tool_call_id='call_SrM2MuCdSH4wRMOcnMuPolJI'),\n",
       "  AIMessage(content='The weather in Munich is currently 15 degrees Celsius and cloudy.', additional_kwargs={'refusal': None}, response_metadata={'token_usage': {'completion_tokens': 15, 'prompt_tokens': 84, 'total_tokens': 99, 'completion_tokens_details': {'accepted_prediction_tokens': 0, 'audio_tokens': 0, 'reasoning_tokens': 0, 'rejected_prediction_tokens': 0}, 'prompt_tokens_details': {'audio_tokens': 0, 'cached_tokens': 0}}, 'model_name': 'gpt-4o-2024-08-06', 'system_fingerprint': 'fp_eb9dce56a8', 'finish_reason': 'stop', 'logprobs': None}, id='run-91aa0853-ea63-42c6-982e-fe42813be7e2-0', usage_metadata={'input_tokens': 84, 'output_tokens': 15, 'total_tokens': 99, 'input_token_details': {'audio': 0, 'cache_read': 0}, 'output_token_details': {'audio': 0, 'reasoning': 0}})]}"
      ]
     },
     "execution_count": 35,
     "metadata": {},
     "output_type": "execute_result"
    }
   ],
   "source": [
    "# col secondo messaggio va a chiamare il tool get_weather e quindi va verso il nodo Tool che esegue il tooò\n",
    "# poi ritorna in agent che poi va in end\n",
    "graph.invoke({\"messages\": message2})"
   ]
  },
  {
   "cell_type": "code",
   "execution_count": 36,
   "metadata": {},
   "outputs": [
    {
     "data": {
      "text/plain": [
       "{'messages': [HumanMessage(content='What would you recommend to do in that city than?', additional_kwargs={}, response_metadata={}, id='2da7152a-af80-4c1b-ad04-b70d2e1c8c77'),\n",
       "  AIMessage(content='Sure, I can help with that! Could you please tell me which city you are interested in?', additional_kwargs={'refusal': None}, response_metadata={'token_usage': {'completion_tokens': 22, 'prompt_tokens': 55, 'total_tokens': 77, 'completion_tokens_details': {'accepted_prediction_tokens': 0, 'audio_tokens': 0, 'reasoning_tokens': 0, 'rejected_prediction_tokens': 0}, 'prompt_tokens_details': {'audio_tokens': 0, 'cached_tokens': 0}}, 'model_name': 'gpt-4o-2024-08-06', 'system_fingerprint': 'fp_eb9dce56a8', 'finish_reason': 'stop', 'logprobs': None}, id='run-5a234845-4ee3-4e98-b692-77da35e48d65-0', usage_metadata={'input_tokens': 55, 'output_tokens': 22, 'total_tokens': 77, 'input_token_details': {'audio': 0, 'cache_read': 0}, 'output_token_details': {'audio': 0, 'reasoning': 0}})]}"
      ]
     },
     "execution_count": 36,
     "metadata": {},
     "output_type": "execute_result"
    }
   ],
   "source": [
    "graph.invoke(\n",
    "    {\"messages\": [HumanMessage(content=\"What would you recommend to do in that city than?\")]}\n",
    ")"
   ]
  },
  {
   "cell_type": "markdown",
   "metadata": {},
   "source": [
    "come vediamo una volta arrivati alla fine del grafo nel nodo END lo stato viene restituito e non può essere cambiato. se diamo in input un nuovo messaggio lo stato rinizia da zero quindi sarà di nuovo il primo messaggio e pertanto non sa di che città si sta parlando dato che si inizia con una history completamente nuova per l'LLM.\n",
    "\n",
    "Se vogliamo peroformare una conversazione reale col LLM, dobbiamo usare un layer persistente.\n",
    "\n",
    "LangGraph ha un layer persistente incorporato chiamato **checkpoint**."
   ]
  },
  {
   "cell_type": "markdown",
   "metadata": {},
   "source": [
    "### Memory with checkpoints\n",
    "\n",
    "Se vogliamo avere una conversazione reale con gli LLM, abbiamo bisogno di qualche tipo di persistenza per memorizzare effettivamente la conversazione.\n",
    "\n",
    "LangGraph ha incorporato un layer persistente, e che è implementato con checkpoiinters.\n",
    "\n",
    "Il più semplice è un memory checkpointer, dunque memorizziamo tutto in memoria, non abbiamo bisogno di una database per farlo.\n",
    "\n",
    "Dobbiamo importare la classe memory saver dal modulo chekpoint.memory e poi creaiamo una isatnza di MemorySaver()"
   ]
  },
  {
   "cell_type": "code",
   "execution_count": 43,
   "metadata": {},
   "outputs": [],
   "source": [
    "from langgraph.checkpoint.memory import MemorySaver\n",
    "\n",
    "checkpointer = MemorySaver()"
   ]
  },
  {
   "cell_type": "code",
   "execution_count": 44,
   "metadata": {},
   "outputs": [],
   "source": [
    "workflow = StateGraph(MessagesState)\n",
    "\n",
    "workflow.add_node(\"agent\", call_model)\n",
    "workflow.add_node(\"tools\", tool_node)\n",
    "workflow.add_edge(START, \"agent\") # due piccioni con una fava\n",
    "\n",
    "workflow.add_conditional_edges(\n",
    "    \"agent\",\n",
    "    should_continue,\n",
    "    path_map={\"tools\": \"tools\", \"__end__\": END}\n",
    ")\n",
    "\n",
    "\n",
    "workflow.add_edge(\"tools\", \"agent\")\n",
    "\n",
    "# quando andiamo a compilare passiamo il chekpointer come argomento\n",
    "graph = workflow.compile(checkpointer=checkpointer)\n"
   ]
  },
  {
   "cell_type": "markdown",
   "metadata": {},
   "source": [
    "#per usrae il checkpointer, dentro il metodo invoke possiamo non solo passare\n",
    "i messaggi ma anche passare il config object\n",
    "il config object ha un dizionario, con una chiave 'configurable'\n",
    "'configurable' ha un altro dizionario e, MOLTO IMPORTANTE, dobbiamo usare \"thread_id\"\n",
    "\n",
    "### Thread\n",
    "Un Thread rappresenta un unico identificatore che è usato per tracciare lo stato (gli stati) di un workflow tramite checkpoints\n",
    "\n",
    "Gli utilizziamo per memorizzare la storia, ma poi useremo un più complesso workflow **human in the loop**."
   ]
  },
  {
   "cell_type": "code",
   "execution_count": 45,
   "metadata": {},
   "outputs": [
    {
     "data": {
      "text/plain": [
       "{'messages': [HumanMessage(content='How is the weather in munich?', additional_kwargs={}, response_metadata={}, id='b53f5a7d-67fa-44bd-b497-e077367b8023'),\n",
       "  AIMessage(content='', additional_kwargs={'tool_calls': [{'id': 'call_sGqiQkncjGHpJ6ZvlqEB4Xd8', 'function': {'arguments': '{\"location\":\"munich\"}', 'name': 'get_weather'}, 'type': 'function'}], 'refusal': None}, response_metadata={'token_usage': {'completion_tokens': 16, 'prompt_tokens': 52, 'total_tokens': 68, 'completion_tokens_details': {'accepted_prediction_tokens': 0, 'audio_tokens': 0, 'reasoning_tokens': 0, 'rejected_prediction_tokens': 0}, 'prompt_tokens_details': {'audio_tokens': 0, 'cached_tokens': 0}}, 'model_name': 'gpt-4o-2024-08-06', 'system_fingerprint': 'fp_eb9dce56a8', 'finish_reason': 'tool_calls', 'logprobs': None}, id='run-c39434be-e6c7-461e-a79d-4432835b9a00-0', tool_calls=[{'name': 'get_weather', 'args': {'location': 'munich'}, 'id': 'call_sGqiQkncjGHpJ6ZvlqEB4Xd8', 'type': 'tool_call'}], usage_metadata={'input_tokens': 52, 'output_tokens': 16, 'total_tokens': 68, 'input_token_details': {'audio': 0, 'cache_read': 0}, 'output_token_details': {'audio': 0, 'reasoning': 0}}),\n",
       "  ToolMessage(content=\"It's 15 degrees Celsius and cloudly.\", name='get_weather', id='4faa68db-d2f2-4786-b7d6-eceb356e5814', tool_call_id='call_sGqiQkncjGHpJ6ZvlqEB4Xd8'),\n",
       "  AIMessage(content='The current weather in Munich is 15 degrees Celsius and cloudy.', additional_kwargs={'refusal': None}, response_metadata={'token_usage': {'completion_tokens': 15, 'prompt_tokens': 84, 'total_tokens': 99, 'completion_tokens_details': {'accepted_prediction_tokens': 0, 'audio_tokens': 0, 'reasoning_tokens': 0, 'rejected_prediction_tokens': 0}, 'prompt_tokens_details': {'audio_tokens': 0, 'cached_tokens': 0}}, 'model_name': 'gpt-4o-2024-08-06', 'system_fingerprint': 'fp_eb9dce56a8', 'finish_reason': 'stop', 'logprobs': None}, id='run-939e4fe4-70f0-426d-82b6-652701644953-0', usage_metadata={'input_tokens': 84, 'output_tokens': 15, 'total_tokens': 99, 'input_token_details': {'audio': 0, 'cache_read': 0}, 'output_token_details': {'audio': 0, 'reasoning': 0}})]}"
      ]
     },
     "execution_count": 45,
     "metadata": {},
     "output_type": "execute_result"
    }
   ],
   "source": [
    "graph.invoke(\n",
    "    {\"messages\": [HumanMessage(content=\"How is the weather in munich?\")]},\n",
    "    config={\"configurable\": {\"thread_id\": 1}}\n",
    ")"
   ]
  },
  {
   "cell_type": "markdown",
   "metadata": {},
   "source": [
    "Ora abbiamo memorizzato lo stato finale del grafo nel workflow con thread_id=1, se vogliamo riprendere la conversazione con questo stato delle cose possiamo passare un nuovo messaggio (che andrà nel nodo **agent** ed eseguirà il modello) con lo stesso **thread_id**. Dunque il nuovo messaggio andrà ad aggiungersi nello stato  "
   ]
  },
  {
   "cell_type": "code",
   "execution_count": 46,
   "metadata": {},
   "outputs": [
    {
     "data": {
      "text/plain": [
       "{'messages': [HumanMessage(content='How is the weather in munich?', additional_kwargs={}, response_metadata={}, id='b53f5a7d-67fa-44bd-b497-e077367b8023'),\n",
       "  AIMessage(content='', additional_kwargs={'tool_calls': [{'id': 'call_sGqiQkncjGHpJ6ZvlqEB4Xd8', 'function': {'arguments': '{\"location\":\"munich\"}', 'name': 'get_weather'}, 'type': 'function'}], 'refusal': None}, response_metadata={'token_usage': {'completion_tokens': 16, 'prompt_tokens': 52, 'total_tokens': 68, 'completion_tokens_details': {'accepted_prediction_tokens': 0, 'audio_tokens': 0, 'reasoning_tokens': 0, 'rejected_prediction_tokens': 0}, 'prompt_tokens_details': {'audio_tokens': 0, 'cached_tokens': 0}}, 'model_name': 'gpt-4o-2024-08-06', 'system_fingerprint': 'fp_eb9dce56a8', 'finish_reason': 'tool_calls', 'logprobs': None}, id='run-c39434be-e6c7-461e-a79d-4432835b9a00-0', tool_calls=[{'name': 'get_weather', 'args': {'location': 'munich'}, 'id': 'call_sGqiQkncjGHpJ6ZvlqEB4Xd8', 'type': 'tool_call'}], usage_metadata={'input_tokens': 52, 'output_tokens': 16, 'total_tokens': 68, 'input_token_details': {'audio': 0, 'cache_read': 0}, 'output_token_details': {'audio': 0, 'reasoning': 0}}),\n",
       "  ToolMessage(content=\"It's 15 degrees Celsius and cloudly.\", name='get_weather', id='4faa68db-d2f2-4786-b7d6-eceb356e5814', tool_call_id='call_sGqiQkncjGHpJ6ZvlqEB4Xd8'),\n",
       "  AIMessage(content='The current weather in Munich is 15 degrees Celsius and cloudy.', additional_kwargs={'refusal': None}, response_metadata={'token_usage': {'completion_tokens': 15, 'prompt_tokens': 84, 'total_tokens': 99, 'completion_tokens_details': {'accepted_prediction_tokens': 0, 'audio_tokens': 0, 'reasoning_tokens': 0, 'rejected_prediction_tokens': 0}, 'prompt_tokens_details': {'audio_tokens': 0, 'cached_tokens': 0}}, 'model_name': 'gpt-4o-2024-08-06', 'system_fingerprint': 'fp_eb9dce56a8', 'finish_reason': 'stop', 'logprobs': None}, id='run-939e4fe4-70f0-426d-82b6-652701644953-0', usage_metadata={'input_tokens': 84, 'output_tokens': 15, 'total_tokens': 99, 'input_token_details': {'audio': 0, 'cache_read': 0}, 'output_token_details': {'audio': 0, 'reasoning': 0}}),\n",
       "  HumanMessage(content='What would you recommend to do in that city than?', additional_kwargs={}, response_metadata={}, id='93a085d5-ef11-4469-9756-76282b0d90ec'),\n",
       "  AIMessage(content='With the weather being 15 degrees Celsius and cloudy in Munich, here are a few recommendations for things to do:\\n\\n1. **Visit Museums**: Munich has several great museums like the Deutsches Museum or the Alte Pinakothek, perfect for indoor exploration.\\n\\n2. **Explore Marienplatz**: Take a stroll around this central square, enjoy the architecture, and perhaps visit the nearby shops and cafes.\\n\\n3. **Visit a Beer Hall**: Enjoy a traditional Bavarian meal and beer at a famous beer hall like Hofbräuhaus München.\\n\\n4. **Nymphenburg Palace**: If the weather permits, a visit to this beautiful baroque palace and its gardens can be quite enjoyable.\\n\\n5. **Shopping**: Explore the shopping streets like Maximilianstraße for some high-end shopping or Kaufingerstraße for more mainstream options.\\n\\n6. **Indoor Activities**: Consider visiting SEA LIFE Munich or doing an escape room challenge for some fun indoor activities.\\n\\nThese activities offer a mix of cultural, historical, and leisure experiences suitable for cloudy weather.', additional_kwargs={'refusal': None}, response_metadata={'token_usage': {'completion_tokens': 215, 'prompt_tokens': 116, 'total_tokens': 331, 'completion_tokens_details': {'accepted_prediction_tokens': 0, 'audio_tokens': 0, 'reasoning_tokens': 0, 'rejected_prediction_tokens': 0}, 'prompt_tokens_details': {'audio_tokens': 0, 'cached_tokens': 0}}, 'model_name': 'gpt-4o-2024-08-06', 'system_fingerprint': 'fp_eb9dce56a8', 'finish_reason': 'stop', 'logprobs': None}, id='run-0e922d34-380e-44c8-acd0-bb202c1163f5-0', usage_metadata={'input_tokens': 116, 'output_tokens': 215, 'total_tokens': 331, 'input_token_details': {'audio': 0, 'cache_read': 0}, 'output_token_details': {'audio': 0, 'reasoning': 0}})]}"
      ]
     },
     "execution_count": 46,
     "metadata": {},
     "output_type": "execute_result"
    }
   ],
   "source": [
    "graph.invoke({\"messages\": [HumanMessage(content=\"What would you recommend to do in that city than?\")]},\n",
    "             config={\"configurable\": {\"thread_id\": 1}})"
   ]
  }
 ],
 "metadata": {
  "kernelspec": {
   "display_name": ".venv",
   "language": "python",
   "name": "python3"
  },
  "language_info": {
   "codemirror_mode": {
    "name": "ipython",
    "version": 3
   },
   "file_extension": ".py",
   "mimetype": "text/x-python",
   "name": "python",
   "nbconvert_exporter": "python",
   "pygments_lexer": "ipython3",
   "version": "3.10.0"
  }
 },
 "nbformat": 4,
 "nbformat_minor": 2
}
