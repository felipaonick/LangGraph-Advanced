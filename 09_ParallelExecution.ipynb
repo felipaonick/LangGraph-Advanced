{
 "cells": [
  {
   "cell_type": "markdown",
   "metadata": {},
   "source": [
    "# Parallel Node Execution\n",
    "\n",
    "A volte il nostro grafo non segue un semplice flusso lineare che parte dallo start node e aggiunge nodi in sequenza uno dopo l'altro.\n",
    "\n",
    "Potremmo incotrare casi dove molteplici nodi come append node A, append node B, e append node C. Tutti scritti allo stesso stato condiviso (figli di un unico nodo) e che passano i loro outputs ad un singolo nodo come una combinazione.\n",
    "\n",
    "![alt text](parallel.png)\n",
    "\n",
    "Questo design consente il parallel processing (esecuzione in parallelo dei tre nodi) prima di mergiare i risultati dentro uno step unificato.\n"
   ]
  },
  {
   "cell_type": "code",
   "execution_count": 1,
   "metadata": {},
   "outputs": [],
   "source": [
    "import operator \n",
    "from typing import TypedDict, Annotated, Any\n",
    "\n",
    "from langgraph.graph import StateGraph, START, END \n",
    "\n",
    "class InputState(TypedDict):\n",
    "    string_value: str\n",
    "    # string_value: Annotated[str, operator.add]"
   ]
  },
  {
   "cell_type": "code",
   "execution_count": 2,
   "metadata": {},
   "outputs": [],
   "source": [
    "def append_a(state: InputState) -> Any:\n",
    "    print(f\"append_a: Current string_value='{state['string_value']}'\")\n",
    "    state[\"string_value\"] += \"a\"\n",
    "    return state\n",
    "\n",
    "def append_b(state: InputState) -> Any:\n",
    "    print(f\"append_b: Current string_value='{state['string_value']}'\")\n",
    "    state[\"string_value\"] += \"b\"\n",
    "    return state\n",
    "\n",
    "def append_c(state: InputState) -> Any:\n",
    "    print(f\"append_c: Current string_value='{state['string_value']}'\")\n",
    "    state['string_value'] += \"c\"\n",
    "    return state\n",
    "\n",
    "def combine_strings(state: InputState) -> Any:\n",
    "    combined_string = state['string_value']\n",
    "\n",
    "    print(f\"combine_strings: Combined string_value='{combined_string}'\")\n",
    "\n",
    "    final_string = combined_string.upper()\n",
    "    print(f\"combine_strings: Final string_value='{final_string}'\")\n",
    "    state['string_value'] = final_string\n",
    "    return state"
   ]
  },
  {
   "cell_type": "code",
   "execution_count": 3,
   "metadata": {},
   "outputs": [],
   "source": [
    "builder = StateGraph(InputState)\n",
    "\n",
    "builder.add_node(\"start_node\", lambda state: state)\n",
    "builder.add_node(\"append_a_node\", append_a)\n",
    "builder.add_node(\"append_b_node\", append_b)\n",
    "builder.add_node(\"append_c_node\", append_c)\n",
    "builder.add_node(\"combine_node\", combine_strings)\n",
    "\n",
    "builder.add_edge(START, \"start_node\")\n",
    "\n",
    "builder.add_edge(\"start_node\", \"append_a_node\")\n",
    "builder.add_edge(\"start_node\", \"append_b_node\")\n",
    "builder.add_edge(\"start_node\", \"append_c_node\")\n",
    "\n",
    "builder.add_edge(\"append_a_node\", \"combine_node\")\n",
    "builder.add_edge(\"append_b_node\", \"combine_node\")\n",
    "builder.add_edge(\"append_c_node\", \"combine_node\")\n",
    "\n",
    "builder.add_edge(\"combine_node\", END)\n",
    "\n",
    "graph = builder.compile()"
   ]
  },
  {
   "cell_type": "code",
   "execution_count": 4,
   "metadata": {},
   "outputs": [
    {
     "data": {
      "image/png": "[encoded data removed]",
      "text/plain": [
       "<IPython.core.display.Image object>"
      ]
     },
     "metadata": {},
     "output_type": "display_data"
    }
   ],
   "source": [
    "from IPython.display import Image, display\n",
    "\n",
    "display(Image(graph.get_graph().draw_mermaid_png()))"
   ]
  },
  {
   "cell_type": "code",
   "execution_count": 5,
   "metadata": {},
   "outputs": [
    {
     "name": "stdout",
     "output_type": "stream",
     "text": [
      "append_a: Current string_value=''append_b: Current string_value=''\n",
      "\n",
      "append_c: Current string_value=''\n"
     ]
    },
    {
     "ename": "InvalidUpdateError",
     "evalue": "At key 'string_value': Can receive only one value per step. Use an Annotated key to handle multiple values.\nFor troubleshooting, visit: https://python.langchain.com/docs/troubleshooting/errors/INVALID_CONCURRENT_GRAPH_UPDATE",
     "output_type": "error",
     "traceback": [
      "\u001b[1;31m---------------------------------------------------------------------------\u001b[0m",
      "\u001b[1;31mInvalidUpdateError\u001b[0m                        Traceback (most recent call last)",
      "Cell \u001b[1;32mIn[5], line 3\u001b[0m\n\u001b[0;32m      1\u001b[0m \u001b[38;5;66;03m# vediamo cosa accade se eseguiamo tale grafo\u001b[39;00m\n\u001b[0;32m      2\u001b[0m initial_state \u001b[38;5;241m=\u001b[39m {\u001b[38;5;124m\"\u001b[39m\u001b[38;5;124mstring_value\u001b[39m\u001b[38;5;124m\"\u001b[39m: \u001b[38;5;124m\"\u001b[39m\u001b[38;5;124m\"\u001b[39m}\n\u001b[1;32m----> 3\u001b[0m result \u001b[38;5;241m=\u001b[39m \u001b[43mgraph\u001b[49m\u001b[38;5;241;43m.\u001b[39;49m\u001b[43minvoke\u001b[49m\u001b[43m(\u001b[49m\u001b[43minitial_state\u001b[49m\u001b[43m)\u001b[49m\n\u001b[0;32m      4\u001b[0m \u001b[38;5;28mprint\u001b[39m(result)\n",
      "File \u001b[1;32mc:\\Users\\felip\\Desktop\\LangGraph_Advanced\\LangGraph-mio\\.venv\\lib\\site-packages\\langgraph\\pregel\\__init__.py:1936\u001b[0m, in \u001b[0;36mPregel.invoke\u001b[1;34m(self, input, config, stream_mode, output_keys, interrupt_before, interrupt_after, debug, **kwargs)\u001b[0m\n\u001b[0;32m   1934\u001b[0m \u001b[38;5;28;01melse\u001b[39;00m:\n\u001b[0;32m   1935\u001b[0m     chunks \u001b[38;5;241m=\u001b[39m []\n\u001b[1;32m-> 1936\u001b[0m \u001b[38;5;28;01mfor\u001b[39;00m chunk \u001b[38;5;129;01min\u001b[39;00m \u001b[38;5;28mself\u001b[39m\u001b[38;5;241m.\u001b[39mstream(\n\u001b[0;32m   1937\u001b[0m     \u001b[38;5;28minput\u001b[39m,\n\u001b[0;32m   1938\u001b[0m     config,\n\u001b[0;32m   1939\u001b[0m     stream_mode\u001b[38;5;241m=\u001b[39mstream_mode,\n\u001b[0;32m   1940\u001b[0m     output_keys\u001b[38;5;241m=\u001b[39moutput_keys,\n\u001b[0;32m   1941\u001b[0m     interrupt_before\u001b[38;5;241m=\u001b[39minterrupt_before,\n\u001b[0;32m   1942\u001b[0m     interrupt_after\u001b[38;5;241m=\u001b[39minterrupt_after,\n\u001b[0;32m   1943\u001b[0m     debug\u001b[38;5;241m=\u001b[39mdebug,\n\u001b[0;32m   1944\u001b[0m     \u001b[38;5;241m*\u001b[39m\u001b[38;5;241m*\u001b[39mkwargs,\n\u001b[0;32m   1945\u001b[0m ):\n\u001b[0;32m   1946\u001b[0m     \u001b[38;5;28;01mif\u001b[39;00m stream_mode \u001b[38;5;241m==\u001b[39m \u001b[38;5;124m\"\u001b[39m\u001b[38;5;124mvalues\u001b[39m\u001b[38;5;124m\"\u001b[39m:\n\u001b[0;32m   1947\u001b[0m         latest \u001b[38;5;241m=\u001b[39m chunk\n",
      "File \u001b[1;32mc:\\Users\\felip\\Desktop\\LangGraph_Advanced\\LangGraph-mio\\.venv\\lib\\site-packages\\langgraph\\pregel\\__init__.py:1655\u001b[0m, in \u001b[0;36mPregel.stream\u001b[1;34m(self, input, config, stream_mode, output_keys, interrupt_before, interrupt_after, debug, subgraphs)\u001b[0m\n\u001b[0;32m   1649\u001b[0m     get_waiter \u001b[38;5;241m=\u001b[39m \u001b[38;5;28;01mNone\u001b[39;00m  \u001b[38;5;66;03m# type: ignore[assignment]\u001b[39;00m\n\u001b[0;32m   1650\u001b[0m \u001b[38;5;66;03m# Similarly to Bulk Synchronous Parallel / Pregel model\u001b[39;00m\n\u001b[0;32m   1651\u001b[0m \u001b[38;5;66;03m# computation proceeds in steps, while there are channel updates\u001b[39;00m\n\u001b[0;32m   1652\u001b[0m \u001b[38;5;66;03m# channel updates from step N are only visible in step N+1\u001b[39;00m\n\u001b[0;32m   1653\u001b[0m \u001b[38;5;66;03m# channels are guaranteed to be immutable for the duration of the step,\u001b[39;00m\n\u001b[0;32m   1654\u001b[0m \u001b[38;5;66;03m# with channel updates applied only at the transition between steps\u001b[39;00m\n\u001b[1;32m-> 1655\u001b[0m \u001b[38;5;28;01mwhile\u001b[39;00m \u001b[43mloop\u001b[49m\u001b[38;5;241;43m.\u001b[39;49m\u001b[43mtick\u001b[49m\u001b[43m(\u001b[49m\u001b[43minput_keys\u001b[49m\u001b[38;5;241;43m=\u001b[39;49m\u001b[38;5;28;43mself\u001b[39;49m\u001b[38;5;241;43m.\u001b[39;49m\u001b[43minput_channels\u001b[49m\u001b[43m)\u001b[49m:\n\u001b[0;32m   1656\u001b[0m     \u001b[38;5;28;01mfor\u001b[39;00m _ \u001b[38;5;129;01min\u001b[39;00m runner\u001b[38;5;241m.\u001b[39mtick(\n\u001b[0;32m   1657\u001b[0m         loop\u001b[38;5;241m.\u001b[39mtasks\u001b[38;5;241m.\u001b[39mvalues(),\n\u001b[0;32m   1658\u001b[0m         timeout\u001b[38;5;241m=\u001b[39m\u001b[38;5;28mself\u001b[39m\u001b[38;5;241m.\u001b[39mstep_timeout,\n\u001b[1;32m   (...)\u001b[0m\n\u001b[0;32m   1661\u001b[0m     ):\n\u001b[0;32m   1662\u001b[0m         \u001b[38;5;66;03m# emit output\u001b[39;00m\n\u001b[0;32m   1663\u001b[0m         \u001b[38;5;28;01myield from\u001b[39;00m output()\n",
      "File \u001b[1;32mc:\\Users\\felip\\Desktop\\LangGraph_Advanced\\LangGraph-mio\\.venv\\lib\\site-packages\\langgraph\\pregel\\loop.py:386\u001b[0m, in \u001b[0;36mPregelLoop.tick\u001b[1;34m(self, input_keys)\u001b[0m\n\u001b[0;32m    376\u001b[0m     print_step_writes(\n\u001b[0;32m    377\u001b[0m         \u001b[38;5;28mself\u001b[39m\u001b[38;5;241m.\u001b[39mstep,\n\u001b[0;32m    378\u001b[0m         writes,\n\u001b[1;32m   (...)\u001b[0m\n\u001b[0;32m    383\u001b[0m         ),\n\u001b[0;32m    384\u001b[0m     )\n\u001b[0;32m    385\u001b[0m \u001b[38;5;66;03m# all tasks have finished\u001b[39;00m\n\u001b[1;32m--> 386\u001b[0m mv_writes \u001b[38;5;241m=\u001b[39m \u001b[43mapply_writes\u001b[49m\u001b[43m(\u001b[49m\n\u001b[0;32m    387\u001b[0m \u001b[43m    \u001b[49m\u001b[38;5;28;43mself\u001b[39;49m\u001b[38;5;241;43m.\u001b[39;49m\u001b[43mcheckpoint\u001b[49m\u001b[43m,\u001b[49m\n\u001b[0;32m    388\u001b[0m \u001b[43m    \u001b[49m\u001b[38;5;28;43mself\u001b[39;49m\u001b[38;5;241;43m.\u001b[39;49m\u001b[43mchannels\u001b[49m\u001b[43m,\u001b[49m\n\u001b[0;32m    389\u001b[0m \u001b[43m    \u001b[49m\u001b[38;5;28;43mself\u001b[39;49m\u001b[38;5;241;43m.\u001b[39;49m\u001b[43mtasks\u001b[49m\u001b[38;5;241;43m.\u001b[39;49m\u001b[43mvalues\u001b[49m\u001b[43m(\u001b[49m\u001b[43m)\u001b[49m\u001b[43m,\u001b[49m\n\u001b[0;32m    390\u001b[0m \u001b[43m    \u001b[49m\u001b[38;5;28;43mself\u001b[39;49m\u001b[38;5;241;43m.\u001b[39;49m\u001b[43mcheckpointer_get_next_version\u001b[49m\u001b[43m,\u001b[49m\n\u001b[0;32m    391\u001b[0m \u001b[43m\u001b[49m\u001b[43m)\u001b[49m\n\u001b[0;32m    392\u001b[0m \u001b[38;5;66;03m# apply writes to managed values\u001b[39;00m\n\u001b[0;32m    393\u001b[0m \u001b[38;5;28;01mfor\u001b[39;00m key, values \u001b[38;5;129;01min\u001b[39;00m mv_writes\u001b[38;5;241m.\u001b[39mitems():\n",
      "File \u001b[1;32mc:\\Users\\felip\\Desktop\\LangGraph_Advanced\\LangGraph-mio\\.venv\\lib\\site-packages\\langgraph\\pregel\\algo.py:293\u001b[0m, in \u001b[0;36mapply_writes\u001b[1;34m(checkpoint, channels, tasks, get_next_version)\u001b[0m\n\u001b[0;32m    291\u001b[0m \u001b[38;5;28;01mfor\u001b[39;00m chan, vals \u001b[38;5;129;01min\u001b[39;00m pending_writes_by_channel\u001b[38;5;241m.\u001b[39mitems():\n\u001b[0;32m    292\u001b[0m     \u001b[38;5;28;01mif\u001b[39;00m chan \u001b[38;5;129;01min\u001b[39;00m channels:\n\u001b[1;32m--> 293\u001b[0m         \u001b[38;5;28;01mif\u001b[39;00m \u001b[43mchannels\u001b[49m\u001b[43m[\u001b[49m\u001b[43mchan\u001b[49m\u001b[43m]\u001b[49m\u001b[38;5;241;43m.\u001b[39;49m\u001b[43mupdate\u001b[49m\u001b[43m(\u001b[49m\u001b[43mvals\u001b[49m\u001b[43m)\u001b[49m \u001b[38;5;129;01mand\u001b[39;00m get_next_version \u001b[38;5;129;01mis\u001b[39;00m \u001b[38;5;129;01mnot\u001b[39;00m \u001b[38;5;28;01mNone\u001b[39;00m:\n\u001b[0;32m    294\u001b[0m             checkpoint[\u001b[38;5;124m\"\u001b[39m\u001b[38;5;124mchannel_versions\u001b[39m\u001b[38;5;124m\"\u001b[39m][chan] \u001b[38;5;241m=\u001b[39m get_next_version(\n\u001b[0;32m    295\u001b[0m                 max_version,\n\u001b[0;32m    296\u001b[0m                 channels[chan],\n\u001b[0;32m    297\u001b[0m             )\n\u001b[0;32m    298\u001b[0m         updated_channels\u001b[38;5;241m.\u001b[39madd(chan)\n",
      "File \u001b[1;32mc:\\Users\\felip\\Desktop\\LangGraph_Advanced\\LangGraph-mio\\.venv\\lib\\site-packages\\langgraph\\channels\\last_value.py:47\u001b[0m, in \u001b[0;36mLastValue.update\u001b[1;34m(self, values)\u001b[0m\n\u001b[0;32m     42\u001b[0m \u001b[38;5;28;01mif\u001b[39;00m \u001b[38;5;28mlen\u001b[39m(values) \u001b[38;5;241m!=\u001b[39m \u001b[38;5;241m1\u001b[39m:\n\u001b[0;32m     43\u001b[0m     msg \u001b[38;5;241m=\u001b[39m create_error_message(\n\u001b[0;32m     44\u001b[0m         message\u001b[38;5;241m=\u001b[39m\u001b[38;5;124mf\u001b[39m\u001b[38;5;124m\"\u001b[39m\u001b[38;5;124mAt key \u001b[39m\u001b[38;5;124m'\u001b[39m\u001b[38;5;132;01m{\u001b[39;00m\u001b[38;5;28mself\u001b[39m\u001b[38;5;241m.\u001b[39mkey\u001b[38;5;132;01m}\u001b[39;00m\u001b[38;5;124m'\u001b[39m\u001b[38;5;124m: Can receive only one value per step. Use an Annotated key to handle multiple values.\u001b[39m\u001b[38;5;124m\"\u001b[39m,\n\u001b[0;32m     45\u001b[0m         error_code\u001b[38;5;241m=\u001b[39mErrorCode\u001b[38;5;241m.\u001b[39mINVALID_CONCURRENT_GRAPH_UPDATE,\n\u001b[0;32m     46\u001b[0m     )\n\u001b[1;32m---> 47\u001b[0m     \u001b[38;5;28;01mraise\u001b[39;00m InvalidUpdateError(msg)\n\u001b[0;32m     49\u001b[0m \u001b[38;5;28mself\u001b[39m\u001b[38;5;241m.\u001b[39mvalue \u001b[38;5;241m=\u001b[39m values[\u001b[38;5;241m-\u001b[39m\u001b[38;5;241m1\u001b[39m]\n\u001b[0;32m     50\u001b[0m \u001b[38;5;28;01mreturn\u001b[39;00m \u001b[38;5;28;01mTrue\u001b[39;00m\n",
      "\u001b[1;31mInvalidUpdateError\u001b[0m: At key 'string_value': Can receive only one value per step. Use an Annotated key to handle multiple values.\nFor troubleshooting, visit: https://python.langchain.com/docs/troubleshooting/errors/INVALID_CONCURRENT_GRAPH_UPDATE"
     ]
    }
   ],
   "source": [
    "# vediamo cosa accade se eseguiamo tale grafo\n",
    "initial_state = {\"string_value\": \"\"}\n",
    "result = graph.invoke(initial_state)\n",
    "print(result)"
   ]
  },
  {
   "cell_type": "markdown",
   "metadata": {},
   "source": [
    "Vediamo che l'errore ci dice che:\n",
    "\n",
    "At key 'string_value': Can receive only one value per step. Use an Annotated key to handle multiple values.\n",
    "\n",
    "Quinndi, quando eseguimo un workflow parallelo dobbiamo utilizzare Annotated. Quindi dobbiamo utilizzare una reducer function (operator.add)"
   ]
  },
  {
   "cell_type": "code",
   "execution_count": 6,
   "metadata": {},
   "outputs": [],
   "source": [
    "import operator \n",
    "from typing import TypedDict, Annotated, Any\n",
    "\n",
    "from langgraph.graph import StateGraph, START, END \n",
    "\n",
    "class InputState(TypedDict):\n",
    "    # string_value: str\n",
    "    string_value: Annotated[str, operator.add]\n",
    "\n",
    "\n",
    "def append_a(state: InputState) -> Any:\n",
    "    print(f\"append_a: Current string_value='{state['string_value']}'\")\n",
    "    state[\"string_value\"] += \"a\"\n",
    "    return state\n",
    "\n",
    "def append_b(state: InputState) -> Any:\n",
    "    print(f\"append_b: Current string_value='{state['string_value']}'\")\n",
    "    state[\"string_value\"] += \"b\"\n",
    "    return state\n",
    "\n",
    "def append_c(state: InputState) -> Any:\n",
    "    print(f\"append_c: Current string_value='{state['string_value']}'\")\n",
    "    state['string_value'] += \"c\"\n",
    "    return state\n",
    "\n",
    "def combine_strings(state: InputState) -> Any:\n",
    "    combined_string = state['string_value']\n",
    "\n",
    "    print(f\"combine_strings: Combined string_value='{combined_string}'\")\n",
    "\n",
    "    final_string = combined_string.upper()\n",
    "    print(f\"combine_strings: Final string_value='{final_string}'\")\n",
    "    state['string_value'] = final_string\n",
    "    return state\n",
    "\n",
    "builder = StateGraph(InputState)\n",
    "\n",
    "builder.add_node(\"start_node\", lambda state: state)\n",
    "builder.add_node(\"append_a_node\", append_a)\n",
    "builder.add_node(\"append_b_node\", append_b)\n",
    "builder.add_node(\"append_c_node\", append_c)\n",
    "builder.add_node(\"combine_node\", combine_strings)\n",
    "\n",
    "builder.add_edge(START, \"start_node\")\n",
    "\n",
    "builder.add_edge(\"start_node\", \"append_a_node\")\n",
    "builder.add_edge(\"start_node\", \"append_b_node\")\n",
    "builder.add_edge(\"start_node\", \"append_c_node\")\n",
    "\n",
    "builder.add_edge(\"append_a_node\", \"combine_node\")\n",
    "builder.add_edge(\"append_b_node\", \"combine_node\")\n",
    "builder.add_edge(\"append_c_node\", \"combine_node\")\n",
    "\n",
    "builder.add_edge(\"combine_node\", END)\n",
    "\n",
    "graph = builder.compile()"
   ]
  },
  {
   "cell_type": "code",
   "execution_count": 7,
   "metadata": {},
   "outputs": [
    {
     "name": "stdout",
     "output_type": "stream",
     "text": [
      "append_a: Current string_value=''\n",
      "append_b: Current string_value=''\n",
      "append_c: Current string_value=''\n",
      "combine_strings: Combined string_value='abc'\n",
      "combine_strings: Final string_value='ABC'\n",
      "{'string_value': 'abcABC'}\n"
     ]
    }
   ],
   "source": [
    "initial_state = {\"string_value\": \"\"}\n",
    "result = graph.invoke(initial_state)\n",
    "print(result)"
   ]
  },
  {
   "cell_type": "markdown",
   "metadata": {},
   "source": [
    "Ora, se l'ordine di esecuzione è importante allora questo parallelismo non è adatto.\n",
    "\n",
    "Possiamo usare il parallel processing se l'ordine di esecuzione non è importante, dato che l'ordine di esecuzione dipende dal nome dei nodi (nel caso di esecuzione parallela).\n",
    "\n",
    "Dunque se cambiamo il nome di append_a_node in append_x_node allora vedremo che l'ordine e sbagliato dato che append_x_node che aggiunge la lettera \"a\" viene eseguito per ultimo.\n"
   ]
  },
  {
   "cell_type": "code",
   "execution_count": 9,
   "metadata": {},
   "outputs": [
    {
     "name": "stdout",
     "output_type": "stream",
     "text": [
      "append_a: Current string_value=''\n",
      "append_b: Current string_value=''\n",
      "append_c: Current string_value=''\n",
      "combine_strings: Combined string_value='bca'\n",
      "combine_strings: Final string_value='BCA'\n",
      "{'string_value': 'bcaBCA'}\n"
     ]
    }
   ],
   "source": [
    "import operator \n",
    "from typing import TypedDict, Annotated, Any\n",
    "\n",
    "from langgraph.graph import StateGraph, START, END \n",
    "\n",
    "class InputState(TypedDict):\n",
    "    # string_value: str\n",
    "    string_value: Annotated[str, operator.add]\n",
    "\n",
    "\n",
    "def append_a(state: InputState) -> Any:\n",
    "    print(f\"append_a: Current string_value='{state['string_value']}'\")\n",
    "    state[\"string_value\"] += \"a\"\n",
    "    return state\n",
    "\n",
    "def append_b(state: InputState) -> Any:\n",
    "    print(f\"append_b: Current string_value='{state['string_value']}'\")\n",
    "    state[\"string_value\"] += \"b\"\n",
    "    return state\n",
    "\n",
    "def append_c(state: InputState) -> Any:\n",
    "    print(f\"append_c: Current string_value='{state['string_value']}'\")\n",
    "    state['string_value'] += \"c\"\n",
    "    return state\n",
    "\n",
    "def combine_strings(state: InputState) -> Any:\n",
    "    combined_string = state['string_value']\n",
    "\n",
    "    print(f\"combine_strings: Combined string_value='{combined_string}'\")\n",
    "\n",
    "    final_string = combined_string.upper()\n",
    "    print(f\"combine_strings: Final string_value='{final_string}'\")\n",
    "    state['string_value'] = final_string\n",
    "    return state\n",
    "\n",
    "builder = StateGraph(InputState)\n",
    "\n",
    "builder.add_node(\"start_node\", lambda state: state)\n",
    "builder.add_node(\"append_x_node\", append_a)\n",
    "builder.add_node(\"append_b_node\", append_b)\n",
    "builder.add_node(\"append_c_node\", append_c)\n",
    "builder.add_node(\"combine_node\", combine_strings)\n",
    "\n",
    "builder.add_edge(START, \"start_node\")\n",
    "\n",
    "builder.add_edge(\"start_node\", \"append_x_node\")\n",
    "builder.add_edge(\"start_node\", \"append_b_node\")\n",
    "builder.add_edge(\"start_node\", \"append_c_node\")\n",
    "\n",
    "builder.add_edge(\"append_x_node\", \"combine_node\")\n",
    "builder.add_edge(\"append_b_node\", \"combine_node\")\n",
    "builder.add_edge(\"append_c_node\", \"combine_node\")\n",
    "\n",
    "builder.add_edge(\"combine_node\", END)\n",
    "\n",
    "graph = builder.compile()\n",
    "\n",
    "initial_state = {\"string_value\": \"\"}\n",
    "result = graph.invoke(initial_state)\n",
    "print(result)"
   ]
  },
  {
   "cell_type": "markdown",
   "metadata": {},
   "source": [
    "# Mapreduce with Send API\n",
    "\n",
    "La maggior parte delle volte lavoriamo con una lista e vogliamo che faccia l'esecuzione parallela, non sappiamo l'ordine di esecuzione in anticipo.\n",
    "\n",
    "Come dovemmo gestire questo?\n",
    "\n",
    "LangGraph ha una Send API per rendere la funzionalità MapReduce disponibile.\n"
   ]
  },
  {
   "cell_type": "code",
   "execution_count": null,
   "metadata": {},
   "outputs": [],
   "source": [
    "import operator\n",
    "import random \n",
    "from typing import Any, Annotated, List, TypedDict\n",
    "from langgraph.graph import StateGraph, START, END\n",
    "from langgraph.types import Send\n",
    "from IPython.display import Image, display\n",
    "\n",
    "class State(TypedDict):\n",
    "    string_value: Annotated[str, operator.add]\n",
    "    letters: List[str]\n",
    "\n",
    "\n",
    "def generate_letters(_: State) -> Any:\n",
    "    num_nodes = random.randint(5, 10)\n",
    "    letters = random.choices(['a', 'b', 'c', 'd', 'e'], k= num_nodes)\n",
    "    print(f\"Generated letters: {letters}\")\n",
    "    return {'letters': letters}\n",
    "\n",
    "def generate_random_nodes(state: State):\n",
    "    letters = state['letters']\n",
    "    print(f\"Using letters from state: {letters}\")\n",
    "    # la funzione Send prende due argomenti\n",
    "    # il primo è un il nome del nodo target \n",
    "    # e il secondo è args che è lo stato o messaggio \n",
    "    # da inviare al nodo target\n",
    "    # usiamo Send API moltepllici volte per inviare una lettera ad \"append_node\" \n",
    "    return [Send(\"append_letter\", {\"letter\": letter}) for letter in letters]\n",
    "\n",
    "def append_letter(state: State) -> Any:\n",
    "    letter = state['letter']\n",
    "    print(f\"Appending '{letter}'\")\n",
    "    return {'string_value': letter}\n",
    "\n",
    "def combine_strings(state: State) -> Any:\n",
    "    combined_string = state['string_value']\n",
    "    print(f\"combine_strings: Combined string_value='{combined_string}'\")\n",
    "    final_string = combined_string.upper()\n",
    "    print(f\"combine_strings: Final string_value='{final_string}'\")\n",
    "    return {'string_value': final_string}\n",
    "\n",
    "builder = StateGraph(State)\n",
    "\n",
    "builder.add_node(\"start_node\", lambda state: state)\n",
    "builder.add_node(\"generate_letters\", generate_letters)\n",
    "builder.add_node(\"append_letter\", append_letter)\n",
    "builder.add_node(\"combine_node\", combine_strings)\n",
    "\n",
    "builder.add_edge(START, \"start_node\")\n",
    "builder.add_edge(\"start_node\",  \"generate_letters\")\n",
    "\n",
    "\n",
    "builder.add_edge(START, \"start_node\")\n",
    "builder.add_edge(\"start_node\", \"generate_letters\")\n",
    "builder.add_conditional_edges(\"generate_letters\", generate_random_nodes, [\"append_letter\"])\n",
    "builder.add_edge('append_letter', 'combine_node')\n",
    "builder.add_edge('combine_node', END)\n",
    "\n",
    "graph = builder.compile()\n"
   ]
  },
  {
   "cell_type": "code",
   "execution_count": 16,
   "metadata": {},
   "outputs": [
    {
     "data": {
      "image/png": "[encoded data removed]",
      "text/plain": [
       "<IPython.core.display.Image object>"
      ]
     },
     "metadata": {},
     "output_type": "display_data"
    }
   ],
   "source": [
    "display(Image(graph.get_graph().draw_mermaid_png()))"
   ]
  },
  {
   "cell_type": "markdown",
   "metadata": {},
   "source": [
    "Come vediamo dall'immagine sembra un grafo lineare tuttavia non lo è dato che si generano un numero random di nodi che prendono lo stato da generate_letters e poi inviano con Send dei messaggi o stati al nodo append_letter.\n",
    "\n",
    "Con Send() simuliamo i nodi dato che prendono uno sato e inviano uno stato a un'altro nodo."
   ]
  },
  {
   "cell_type": "code",
   "execution_count": 17,
   "metadata": {},
   "outputs": [
    {
     "name": "stdout",
     "output_type": "stream",
     "text": [
      "Generated letters: ['b', 'a', 'e', 'a', 'a', 'b', 'd', 'c', 'e']\n",
      "Using letters from state: ['b', 'a', 'e', 'a', 'a', 'b', 'd', 'c', 'e']\n",
      "Appending 'b'\n",
      "Appending 'a'\n",
      "Appending 'e'\n",
      "Appending 'a'\n",
      "Appending 'a'\n",
      "Appending 'b'\n",
      "Appending 'd'\n",
      "Appending 'c'\n",
      "Appending 'e'\n",
      "combine_strings: Combined string_value='baeaabdce'\n",
      "combine_strings: Final string_value='BAEAABDCE'\n",
      "{'string_value': 'baeaabdceBAEAABDCE', 'letters': ['b', 'a', 'e', 'a', 'a', 'b', 'd', 'c', 'e']}\n"
     ]
    }
   ],
   "source": [
    "initial_state = {\"string_value\": \"\"}\n",
    "result = graph.invoke(initial_state)\n",
    "print(result)"
   ]
  },
  {
   "cell_type": "markdown",
   "metadata": {},
   "source": []
  },
  {
   "cell_type": "code",
   "execution_count": null,
   "metadata": {},
   "outputs": [],
   "source": []
  }
 ],
 "metadata": {
  "kernelspec": {
   "display_name": ".venv",
   "language": "python",
   "name": "python3"
  },
  "language_info": {
   "codemirror_mode": {
    "name": "ipython",
    "version": 3
   },
   "file_extension": ".py",
   "mimetype": "text/x-python",
   "name": "python",
   "nbconvert_exporter": "python",
   "pygments_lexer": "ipython3",
   "version": "3.10.0"
  }
 },
 "nbformat": 4,
 "nbformat_minor": 2
}
