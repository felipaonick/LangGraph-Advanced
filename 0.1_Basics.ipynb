{
 "cells": [
  {
   "cell_type": "markdown",
   "metadata": {},
   "source": [
    "# Basic Concepts: Nodes, Edges & State"
   ]
  },
  {
   "cell_type": "code",
   "execution_count": 9,
   "metadata": {},
   "outputs": [],
   "source": [
    "from typing import TypedDict\n",
    "from langgraph.graph import END, StateGraph\n",
    "\n",
    "class InputState(TypedDict):\n",
    "    string_value: str\n",
    "    numeric_value: int\n",
    "\n",
    "# in LangGraph sempre modifichiamo lo stato e poi restituiamo il nuovo stato\n",
    "def modify_state(input: InputState):\n",
    "    print(f\"Current value: {input}\")\n",
    "    return input # importante poichè definisce lo stato nel prossimo nodo (in questo caso invariato)\n",
    "\n",
    "\n",
    "# creiamo il nostro grafo quindi passiamo lo state object, InputState, al costruttore StateGraph\n",
    "# in questo modo definiamo il nostro grafo\n",
    "graph = StateGraph(InputState)\n",
    "\n",
    "# l'oggetto garfo ha molteplici metodi tra cui .add_node con il quale aggiungiamo un nodo al grafo\n",
    "\n",
    "graph.add_node(\"branch_a\", modify_state)\n",
    "graph.add_node(\"branch_b\", modify_state)\n",
    "graph.add_edge(\"branch_a\", \"branch_b\")\n",
    "graph.add_edge(\"branch_b\", END)\n",
    "\n",
    "# dopo aver definito i nodi e gli archi, LangGraph deve sapere dove effetivamente iniziare,\n",
    "# questo deve essere fatto creando un entrypoint \n",
    "# mettiamo come entrypoint del nostrografo il nodo branch_a\n",
    "graph.set_entry_point(\"branch_a\")\n",
    "\n",
    "# prima di runnare il nostro grafo dobbiamo prima compilarlo \n",
    "# il metodo .compile valida il grafo controllando incosistenze logiche come: connessioni dimenticate o nodi non raggiungibili,\n",
    "# e lo prepara per l'esecuzione come un runnable workflow \n",
    "runnable = graph.compile()\n",
    "\n",
    "# un'altra cosa utile è visualizzare il grafo\n"
   ]
  },
  {
   "cell_type": "markdown",
   "metadata": {},
   "source": [
    "# Visualize graph"
   ]
  },
  {
   "cell_type": "code",
   "execution_count": 10,
   "metadata": {},
   "outputs": [
    {
     "data": {
      "image/png": "[encoded data removed]",
      "text/plain": [
       "<IPython.core.display.Image object>"
      ]
     },
     "metadata": {},
     "output_type": "display_data"
    }
   ],
   "source": [
    "from IPython.display import Image, display\n",
    "from langchain_core.runnables.graph import MermaidDrawMethod\n",
    "\n",
    "display(\n",
    "    Image(\n",
    "        runnable.get_graph().draw_mermaid_png(\n",
    "            draw_method=MermaidDrawMethod.API,\n",
    "        )\n",
    "    )\n",
    ")"
   ]
  },
  {
   "cell_type": "markdown",
   "metadata": {},
   "source": [
    "## Eseguiamo il nostro grafo con un input\n",
    "\n",
    "per eseguire il grafo dobbiamo fornire uno stato di ingresso \n",
    "\n",
    "lo stato del grafo ha due argomenti string_value e numeric_value\n",
    "\n",
    "se forniamo solo uno di essi, ad esempio, string_value comunque non va in errore grazie alla flessibilità di TypedDict.\n",
    "\n",
    "Se avessimo usato pydantic per lo stato allora sarebbe stato necessario fornire entrambi nel modo corretto."
   ]
  },
  {
   "cell_type": "code",
   "execution_count": 11,
   "metadata": {},
   "outputs": [
    {
     "name": "stdout",
     "output_type": "stream",
     "text": [
      "Current value: {'string_value': 'a'}\n",
      "Current value: {'string_value': 'a'}\n"
     ]
    },
    {
     "data": {
      "text/plain": [
       "{'string_value': 'a'}"
      ]
     },
     "execution_count": 11,
     "metadata": {},
     "output_type": "execute_result"
    }
   ],
   "source": [
    "\n",
    "runnable.invoke({\"string_value\": \"a\"})"
   ]
  },
  {
   "cell_type": "code",
   "execution_count": 12,
   "metadata": {},
   "outputs": [
    {
     "name": "stdout",
     "output_type": "stream",
     "text": [
      "Current value: {'string_value': 'b', 'numeric_value': 1}\n",
      "Current value: {'string_value': 'b', 'numeric_value': 1}\n"
     ]
    },
    {
     "data": {
      "text/plain": [
       "{'string_value': 'b', 'numeric_value': 1}"
      ]
     },
     "execution_count": 12,
     "metadata": {},
     "output_type": "execute_result"
    }
   ],
   "source": [
    "runnable.invoke({\"string_value\": \"b\", \"numeric_value\": 1})"
   ]
  },
  {
   "cell_type": "markdown",
   "metadata": {},
   "source": [
    "ora proviamo ad esguire il grafo ma con un'altra funzione che modifica effettivamente lo stato del grafo "
   ]
  },
  {
   "cell_type": "code",
   "execution_count": 13,
   "metadata": {},
   "outputs": [],
   "source": [
    "def modify_state(input: InputState):\n",
    "    input['string_value'] += \"a\"\n",
    "    input['numeric_value'] += 1\n",
    "    return input\n",
    "\n",
    "graph = StateGraph(InputState)\n",
    "\n",
    "graph.add_node(\"branch_a\", modify_state)\n",
    "graph.add_node(\"branch_b\", modify_state)\n",
    "\n",
    "graph.add_edge(\"branch_a\", \"branch_b\")\n",
    "graph.add_edge(\"branch_b\", END)\n",
    "\n",
    "graph.set_entry_point(\"branch_a\")\n",
    "\n",
    "runnable = graph.compile()\n",
    "\n"
   ]
  },
  {
   "cell_type": "markdown",
   "metadata": {},
   "source": [
    "Ora poichè il passaggio da un nodo all'altro cambia entrabi gli argomenti dello stato in questo caso è obbligatorio fornire entrambe gli argomenti che definiscono lo stato  "
   ]
  },
  {
   "cell_type": "code",
   "execution_count": 14,
   "metadata": {},
   "outputs": [
    {
     "name": "stdout",
     "output_type": "stream",
     "text": [
      "'numeric_value'\n"
     ]
    }
   ],
   "source": [
    "# vediamo che va in errore se non forniamo entrambi gli argomenti dello stato\n",
    "# dobbiamo dare come stato iniziale del grafo entrambi gli argomenti\n",
    "# ifatti va in erroe dicendo che manca numeric_value poiché nella funzione all'interno dei nodi\n",
    "# va a prendere come chiave dello stato input['numeric_value'] per modificarlo\n",
    "# ma se non lo trova da errore\n",
    "try:\n",
    "    runnable.invoke({\"string_value\": \"a\"})\n",
    "except KeyError as e:\n",
    "    print(e)"
   ]
  },
  {
   "cell_type": "code",
   "execution_count": 15,
   "metadata": {},
   "outputs": [
    {
     "data": {
      "text/plain": [
       "{'string_value': 'aaa', 'numeric_value': 4}"
      ]
     },
     "execution_count": 15,
     "metadata": {},
     "output_type": "execute_result"
    }
   ],
   "source": [
    "runnable.invoke({\"string_value\": \"a\", \"numeric_value\": 2})"
   ]
  },
  {
   "cell_type": "markdown",
   "metadata": {},
   "source": [
    "### Perché non usare solo LCEL con la pipeline che modifica l'oggetto?\n",
    "\n",
    "Proviamolo\n",
    "\n",
    "### Spiegazione dei Runnable in LangChain\n",
    "\n",
    "I **`Runnable`** in LangChain sono componenti modulari che permettono di eseguire funzioni e modelli in modo strutturato, rendendo più semplice la creazione di **pipeline** e **workflow AI**.\n",
    "\n",
    "### **Cosa fanno i `Runnable`?**\n",
    "- **Standardizzano l'esecuzione**: qualsiasi funzione, modello o operazione diventa un oggetto eseguibile con metodi chiari.\n",
    "- **Gestiscono il flusso dei dati**: possono essere concatenati, composti e orchestrati.\n",
    "- **Supportano funzionalità avanzate**: come batch processing, streaming e logging.\n",
    "\n",
    "---\n",
    "\n",
    "## **Tipologie di Runnable e loro utilizzo**\n",
    "\n",
    "### 1️⃣ **RunnableLambda**\n",
    "📌 **Esegue una funzione Python generica**.\n",
    "\n",
    "```python\n",
    "from langchain_core.runnables import RunnableLambda\n",
    "\n",
    "def double(x):\n",
    "    return x * 2\n",
    "\n",
    "runnable = RunnableLambda(double)\n",
    "print(runnable.invoke(10))  # Output: 20\n",
    "```\n",
    "\n",
    "✔️ Utile per trasformazioni semplici.\n",
    "\n",
    "---\n",
    "\n",
    "### 2️⃣ **RunnablePassthrough**\n",
    "📌 **Passa il valore in input direttamente come output** (utile per debugging o connessioni tra moduli).\n",
    "\n",
    "```python\n",
    "from langchain_core.runnables import RunnablePassthrough\n",
    "\n",
    "runnable = RunnablePassthrough()\n",
    "print(runnable.invoke(\"Hello\"))  # Output: \"Hello\"\n",
    "```\n",
    "\n",
    "✔️ Utile per mantenere il flusso senza alterarlo.\n",
    "\n",
    "---\n",
    "\n",
    "### 3️⃣ **RunnableSequence**\n",
    "📌 **Concatena più Runnable in sequenza**.\n",
    "\n",
    "```python\n",
    "from langchain_core.runnables import RunnableLambda, RunnableSequence\n",
    "\n",
    "def double(x):\n",
    "    return x * 2\n",
    "\n",
    "def add_five(x):\n",
    "    return x + 5\n",
    "\n",
    "pipeline = RunnableSequence(RunnableLambda(double), RunnableLambda(add_five))\n",
    "\n",
    "print(pipeline.invoke(10))  # Output: 25 (10*2 + 5)\n",
    "```\n",
    "\n",
    "✔️ Utile per costruire pipeline più complesse.\n",
    "\n",
    "---\n",
    "\n",
    "### 4️⃣ **RunnableParallel**\n",
    "📌 **Esegue più Runnable in parallelo e restituisce un dizionario dei risultati**.\n",
    "\n",
    "```python\n",
    "from langchain_core.runnables import RunnableParallel\n",
    "\n",
    "runnable = RunnableParallel(\n",
    "    square=RunnableLambda(lambda x: x**2),\n",
    "    cube=RunnableLambda(lambda x: x**3)\n",
    ")\n",
    "\n",
    "print(runnable.invoke(3))\n",
    "# Output: {'square': 9, 'cube': 27}\n",
    "```\n",
    "\n",
    "✔️ Utile per calcolare più risultati in parallelo.\n",
    "\n",
    "---\n",
    "\n",
    "### 5️⃣ **RunnableBranch**\n",
    "📌 **Esegue una funzione diversa a seconda dell'input**.\n",
    "\n",
    "```python\n",
    "from langchain_core.runnables import RunnableBranch\n",
    "\n",
    "runnable = RunnableBranch(\n",
    "    (lambda x: x < 10, RunnableLambda(lambda x: f\"Small: {x}\")),\n",
    "    (lambda x: x >= 10, RunnableLambda(lambda x: f\"Big: {x}\"))\n",
    ")\n",
    "\n",
    "print(runnable.invoke(5))   # Output: \"Small: 5\"\n",
    "print(runnable.invoke(20))  # Output: \"Big: 20\"\n",
    "```\n",
    "\n",
    "✔️ Utile per routing condizionale.\n",
    "\n",
    "---\n",
    "\n",
    "## **🔥 Perché usare i `Runnable`?**\n",
    "- ✅ **Struttura modulare**: ogni pezzo del flusso è separato e riutilizzabile.\n",
    "- ✅ **Facile da comporre**: puoi concatenare, parallelizzare e condizionare.\n",
    "- ✅ **Supporto per batch e streaming**: `batch()` per più input e `stream()` per output incrementali."
   ]
  },
  {
   "cell_type": "code",
   "execution_count": 16,
   "metadata": {},
   "outputs": [
    {
     "data": {
      "text/plain": [
       "{'string_value': 'aaa', 'numeric_value': 5}"
      ]
     },
     "execution_count": 16,
     "metadata": {},
     "output_type": "execute_result"
    }
   ],
   "source": [
    "from langchain_core.runnables import RunnableLambda\n",
    "\n",
    "runnable = RunnableLambda(modify_state) # esegue la funzione al suo interno\n",
    "\n",
    "chain = runnable | runnable\n",
    "\n",
    "chain.invoke({\"string_value\": \"a\", \"numeric_value\": 3})"
   ]
  },
  {
   "cell_type": "markdown",
   "metadata": {},
   "source": [
    "in questo caso vediamo che è più semplice da implementare con LCEL invece di definre un grafo per eseguire una funzione più volte in sequenza.\n",
    "\n",
    "Tuttavia quando i workflows diventano più intrecciati e non sequenziali (uno dopo l'altro) diventa complicato continuare ad usare LCEL.\n",
    "\n",
    "È consigliabile utilizzare il meglio di entrambi i mondi (Grafi e LCEL) per semplici workflows usare LCEL ed usare LCEL all'interno dei LangGraph workflows."
   ]
  },
  {
   "cell_type": "markdown",
   "metadata": {},
   "source": [
    "## Cycles and Conditional Edges"
   ]
  },
  {
   "cell_type": "code",
   "execution_count": 21,
   "metadata": {},
   "outputs": [],
   "source": [
    "# funzione che cambia lo stato del grafo\n",
    "def modify_state(input: InputState):\n",
    "    input['string_value'] += \"a\"\n",
    "    input['numeric_value'] += 1\n",
    "    return input\n",
    "\n",
    "# funzione che stabilisce verso quale nodo andare (non modifica lo stato)\n",
    "# viene usata per i conditional_edges e per usarli dobbiamo leggere lo stato del grafo\n",
    "# senza andare a modificarlo\n",
    "def router(input: InputState):\n",
    "    if input['numeric_value'] < 5:\n",
    "        return \"branch_a\"\n",
    "    else:\n",
    "        return \"__end__\"\n",
    "    \n",
    "graph = StateGraph(InputState)\n",
    "\n",
    "# dentro i nodi mettiamo le funzioni che modificano lo stato del grafo\n",
    "graph.add_node(\"branch_a\", modify_state)\n",
    "graph.add_node(\"branch_b\", modify_state)\n",
    "\n",
    "\n",
    "graph.add_edge(\"branch_a\", \"branch_b\")\n",
    "\n",
    "# arco condizionale che usa la nostra funzione route\n",
    "graph.add_conditional_edges(\n",
    "    \"branch_b\", router, path_map={\"branch_a\": \"branch_a\", \"__end__\": END}\n",
    ")\n",
    "\n",
    "\n",
    "graph.set_entry_point(\"branch_a\")\n",
    "\n",
    "\n",
    "runnable = graph.compile()"
   ]
  },
  {
   "cell_type": "code",
   "execution_count": 22,
   "metadata": {},
   "outputs": [
    {
     "data": {
      "image/png": "[encoded data removed]",
      "text/plain": [
       "<IPython.core.display.Image object>"
      ]
     },
     "metadata": {},
     "output_type": "display_data"
    }
   ],
   "source": [
    "from IPython.display import Image, display\n",
    "from langchain_core.runnables.graph import MermaidDrawMethod\n",
    "\n",
    "display(\n",
    "    Image(\n",
    "        runnable.get_graph().draw_mermaid_png(\n",
    "            draw_method=MermaidDrawMethod.API\n",
    "        )\n",
    "    )\n",
    ")"
   ]
  },
  {
   "cell_type": "code",
   "execution_count": 23,
   "metadata": {},
   "outputs": [
    {
     "data": {
      "text/plain": [
       "{'string_value': 'aaaaa', 'numeric_value': 5}"
      ]
     },
     "execution_count": 23,
     "metadata": {},
     "output_type": "execute_result"
    }
   ],
   "source": [
    "runnable.invoke({\"string_value\": \"a\", \"numeric_value\": 1})"
   ]
  },
  {
   "cell_type": "markdown",
   "metadata": {},
   "source": [
    "### Reducer Functions\n",
    "\n",
    "I **reducers** sono essenziali per determinare come gli aggiornamenti dai nodi vengono applicati allo stato.\n",
    "\n",
    "Ogni chiave nello stato ha la sua propria indipendente reducer function.\n",
    "\n",
    "Se nessuna reducer function è specificata, allora l'aggiornamento alla specifica chiave sarà la sovrascrizione di default sul valore esistente.\n",
    "\n",
    "Nell'esempio che abbiamo visto con la funzione modify_state lo abbiamo fatto un po diverso, senza usare una Reduce function.\n",
    "\n",
    "```python\n",
    "def modify_state(input: InputState):\n",
    "    input['string_value'] += \"a\"\n",
    "    input['numeric_value'] += 1\n",
    "    return input\n",
    "```\n",
    "\n",
    "Nel seguente condice vediamo una funzione Reduce che aggiorna lo stato senza usare l'operatore +=\n"
   ]
  },
  {
   "cell_type": "markdown",
   "metadata": {},
   "source": [
    "Nel segunete esempio la Reduce function è **add** from operator.\n",
    "Questa funzione solamente aggiunge all'input type\n",
    "\n",
    "- Esempio pratico di add:\n",
    "\n",
    "```python\n",
    "from operator import add\n",
    "\n",
    "print(add(2, 3))       # 2 + 3 = 5\n",
    "print(add(\"Hello, \", \"World!\"))  # Concatenazione stringhe: \"Hello, World!\"\n",
    "print(add([1, 2], [3, 4]))  # Unione liste: [1, 2, 3, 4]\n",
    "```\n",
    "\n",
    "\n",
    "### Annotaded\n",
    "\n",
    "```python\n",
    "from typing import Annotated\n",
    "\n",
    "Annotated[tipo, metadato]\n",
    "```\n",
    "\n",
    "Dove:\n",
    "\n",
    "- tipo → è il tipo di dato standard (es. int, str, list).\n",
    "- metadato → è un valore aggiuntivo (può essere una funzione, un oggetto o qualsiasi informazione extra).\n",
    "\n",
    "Nel tuo codice:\n",
    "\n",
    "```python\n",
    "\n",
    "list_value: Annotated[list[str], add]\n",
    "```\n",
    "significa che i nuovi elementi vengono aggiunti alla lista esistente invece di sostituirla. Dice come trattare il dato.\n",
    "\n",
    "Annotated è uno strumento potente per definire non solo il tipo di una variabile, ma anche come dovrebbe essere trattata in un sistema.\n",
    "\n",
    "\n",
    "### esempio\n",
    "\n",
    "\n",
    "#### **📌 Esempio con `StateGraph`**\n",
    "```python\n",
    "from typing import TypedDict, Annotated\n",
    "from langgraph.graph import StateGraph, END\n",
    "from operator import add\n",
    "\n",
    "class InputState(TypedDict):\n",
    "    no_change_value: str\n",
    "    string_value: Annotated[str, add]  # Concatena stringhe\n",
    "    numeric_value: Annotated[int, add]  # Somma numeri\n",
    "    list_value: Annotated[list[str], add]  # Unisce liste\n",
    "\n",
    "def update_state(state: InputState) -> InputState:\n",
    "    return {\n",
    "        \"no_change_value\": state[\"no_change_value\"],\n",
    "        \"string_value\": \"LangChain \",\n",
    "        \"numeric_value\": 10,\n",
    "        \"list_value\": [\"AI\", \"Graph\"]\n",
    "    }\n",
    "\n",
    "# Creiamo un grafo con un solo nodo che aggiorna lo stato\n",
    "workflow = StateGraph(InputState)\n",
    "workflow.add_node(\"update\", update_state)\n",
    "workflow.set_entry_point(\"update\")\n",
    "workflow.add_edge(\"update\", END)\n",
    "\n",
    "# Eseguiamo il workflow con uno stato iniziale\n",
    "app = workflow.compile()\n",
    "initial_state = {\n",
    "    \"no_change_value\": \"Fixed\",\n",
    "    \"string_value\": \"Hello\",\n",
    "    \"numeric_value\": 5,\n",
    "    \"list_value\": [\"LangChain\"]\n",
    "}\n",
    "\n",
    "output = app.invoke(initial_state)\n",
    "print(output)\n",
    "```\n",
    "\n",
    "---\n",
    "\n",
    "### **🔹 Risultato atteso**\n",
    "Dopo l'aggiornamento dello stato, otteniamo:\n",
    "```python\n",
    "{\n",
    "    \"no_change_value\": \"Fixed\",   # Non cambia\n",
    "    \"string_value\": \"HelloLangChain \",  # Concatenazione\n",
    "    \"numeric_value\": 15,  # 5 + 10 = 15\n",
    "    \"list_value\": [\"LangChain\", \"AI\", \"Graph\"]  # Unione liste\n",
    "}\n",
    "```"
   ]
  },
  {
   "cell_type": "code",
   "execution_count": 37,
   "metadata": {},
   "outputs": [],
   "source": [
    "from typing import TypedDict, Annotated\n",
    "from langgraph.graph import END, StateGraph\n",
    "from operator import add\n",
    "\n",
    "class InputState(TypedDict):\n",
    "    no_change_value: str\n",
    "    string_value: Annotated[str, add] # concatena stringhe\n",
    "    numeric_value: Annotated[int, add] # somma numeri\n",
    "    list_value: Annotated[list[str], add] # unisce liste \n",
    "\n",
    "\n",
    "# definiamo la funzione che modifica lo stato \n",
    "def modify_state(input: InputState):\n",
    "    print(f\"Current state: {input}\")\n",
    "    return input \n"
   ]
  },
  {
   "cell_type": "code",
   "execution_count": 38,
   "metadata": {},
   "outputs": [],
   "source": [
    "# costruiamo il grafo \n",
    "\n",
    "graph = StateGraph(InputState)\n",
    "\n",
    "graph.add_node(\"branch_a\", modify_state)\n",
    "graph.add_node(\"branch_b\", modify_state)\n",
    "\n",
    "graph.add_edge(\"branch_a\", \"branch_b\")\n",
    "graph.add_edge(\"branch_b\", END) # lo stato output di branch_b entra nel nodo END \n",
    "\n",
    "graph.set_entry_point(\"branch_a\")\n",
    "\n",
    "runnable = graph.compile()"
   ]
  },
  {
   "cell_type": "code",
   "execution_count": 39,
   "metadata": {},
   "outputs": [
    {
     "name": "stdout",
     "output_type": "stream",
     "text": [
      "Current state: {'no_change_value': 'a', 'string_value': 'a', 'numeric_value': 1, 'list_value': ['a']}\n",
      "Current state: {'no_change_value': 'a', 'string_value': 'aa', 'numeric_value': 2, 'list_value': ['a', 'a']}\n"
     ]
    },
    {
     "data": {
      "text/plain": [
       "{'no_change_value': 'a',\n",
       " 'string_value': 'aaaa',\n",
       " 'numeric_value': 4,\n",
       " 'list_value': ['a', 'a', 'a', 'a']}"
      ]
     },
     "execution_count": 39,
     "metadata": {},
     "output_type": "execute_result"
    }
   ],
   "source": [
    "runnable.invoke({\"no_change_value\": \"a\", \"string_value\": \"a\", \"numeric_value\": 1, \"list_value\": [\"a\"]})"
   ]
  },
  {
   "cell_type": "markdown",
   "metadata": {},
   "source": [
    "## Alternative State\n",
    "\n",
    "Abbiamo utilizzato TypedDict per definire il nostrao stato.\n",
    "\n",
    "Ma possiamo usare anche **Pydantic** il quale porta automaticamnete il type validation.\n",
    "\n",
    "Quindi proviamo a definire lo stato con **pydantic**"
   ]
  },
  {
   "cell_type": "code",
   "execution_count": null,
   "metadata": {},
   "outputs": [],
   "source": [
    "from langgraph.graph import END, StateGraph\n",
    "\n",
    "from pydantic import BaseModel\n",
    "\n",
    "class InputState(BaseModel):\n",
    "    string_value: str\n",
    "    numeric_value: int \n",
    "\n",
    "def modify_state(input: InputState):\n",
    "    string_value = input.string_value\n",
    "    print(string_value)\n",
    "    return input\n",
    "\n",
    "graph = StateGraph(InputState)\n",
    "\n",
    "graph.add_node(\"branch_a\", modify_state)\n",
    "graph.add_node(\"branch_b\", modify_state)\n",
    "\n",
    "graph.add_edge(\"branch_a\", \"branch_b\")\n",
    "\n",
    "graph.add_edge(\"branch_b\", END)\n",
    "\n",
    "graph.set_entry_point(\"branch_a\")\n",
    "\n",
    "runnable = graph.compile()\n",
    "\n"
   ]
  },
  {
   "cell_type": "code",
   "execution_count": 42,
   "metadata": {},
   "outputs": [
    {
     "ename": "ValidationError",
     "evalue": "1 validation error for InputState\nnumeric_value\n  Input should be a valid integer, unable to parse string as an integer [type=int_parsing, input_value='a', input_type=str]\n    For further information visit https://errors.pydantic.dev/2.9/v/int_parsing",
     "output_type": "error",
     "traceback": [
      "\u001b[1;31m---------------------------------------------------------------------------\u001b[0m",
      "\u001b[1;31mValidationError\u001b[0m                           Traceback (most recent call last)",
      "Cell \u001b[1;32mIn[42], line 1\u001b[0m\n\u001b[1;32m----> 1\u001b[0m \u001b[43mrunnable\u001b[49m\u001b[38;5;241;43m.\u001b[39;49m\u001b[43minvoke\u001b[49m\u001b[43m(\u001b[49m\u001b[43m{\u001b[49m\u001b[38;5;124;43m\"\u001b[39;49m\u001b[38;5;124;43mstring_value\u001b[39;49m\u001b[38;5;124;43m\"\u001b[39;49m\u001b[43m:\u001b[49m\u001b[43m \u001b[49m\u001b[38;5;124;43m\"\u001b[39;49m\u001b[38;5;124;43ma\u001b[39;49m\u001b[38;5;124;43m\"\u001b[39;49m\u001b[43m,\u001b[49m\u001b[43m \u001b[49m\u001b[38;5;124;43m\"\u001b[39;49m\u001b[38;5;124;43mnumeric_value\u001b[39;49m\u001b[38;5;124;43m\"\u001b[39;49m\u001b[43m:\u001b[49m\u001b[43m \u001b[49m\u001b[38;5;124;43m\"\u001b[39;49m\u001b[38;5;124;43ma\u001b[39;49m\u001b[38;5;124;43m\"\u001b[39;49m\u001b[43m}\u001b[49m\u001b[43m)\u001b[49m \u001b[38;5;66;03m# da validatio error perche \"a\" è una stringa non un int\u001b[39;00m\n",
      "File \u001b[1;32mc:\\Users\\felip\\Desktop\\LangGraph_Advanced\\LangGraph-mio\\.venv\\lib\\site-packages\\langgraph\\pregel\\__init__.py:1936\u001b[0m, in \u001b[0;36mPregel.invoke\u001b[1;34m(self, input, config, stream_mode, output_keys, interrupt_before, interrupt_after, debug, **kwargs)\u001b[0m\n\u001b[0;32m   1934\u001b[0m \u001b[38;5;28;01melse\u001b[39;00m:\n\u001b[0;32m   1935\u001b[0m     chunks \u001b[38;5;241m=\u001b[39m []\n\u001b[1;32m-> 1936\u001b[0m \u001b[38;5;28;01mfor\u001b[39;00m chunk \u001b[38;5;129;01min\u001b[39;00m \u001b[38;5;28mself\u001b[39m\u001b[38;5;241m.\u001b[39mstream(\n\u001b[0;32m   1937\u001b[0m     \u001b[38;5;28minput\u001b[39m,\n\u001b[0;32m   1938\u001b[0m     config,\n\u001b[0;32m   1939\u001b[0m     stream_mode\u001b[38;5;241m=\u001b[39mstream_mode,\n\u001b[0;32m   1940\u001b[0m     output_keys\u001b[38;5;241m=\u001b[39moutput_keys,\n\u001b[0;32m   1941\u001b[0m     interrupt_before\u001b[38;5;241m=\u001b[39minterrupt_before,\n\u001b[0;32m   1942\u001b[0m     interrupt_after\u001b[38;5;241m=\u001b[39minterrupt_after,\n\u001b[0;32m   1943\u001b[0m     debug\u001b[38;5;241m=\u001b[39mdebug,\n\u001b[0;32m   1944\u001b[0m     \u001b[38;5;241m*\u001b[39m\u001b[38;5;241m*\u001b[39mkwargs,\n\u001b[0;32m   1945\u001b[0m ):\n\u001b[0;32m   1946\u001b[0m     \u001b[38;5;28;01mif\u001b[39;00m stream_mode \u001b[38;5;241m==\u001b[39m \u001b[38;5;124m\"\u001b[39m\u001b[38;5;124mvalues\u001b[39m\u001b[38;5;124m\"\u001b[39m:\n\u001b[0;32m   1947\u001b[0m         latest \u001b[38;5;241m=\u001b[39m chunk\n",
      "File \u001b[1;32mc:\\Users\\felip\\Desktop\\LangGraph_Advanced\\LangGraph-mio\\.venv\\lib\\site-packages\\langgraph\\pregel\\__init__.py:1655\u001b[0m, in \u001b[0;36mPregel.stream\u001b[1;34m(self, input, config, stream_mode, output_keys, interrupt_before, interrupt_after, debug, subgraphs)\u001b[0m\n\u001b[0;32m   1649\u001b[0m     get_waiter \u001b[38;5;241m=\u001b[39m \u001b[38;5;28;01mNone\u001b[39;00m  \u001b[38;5;66;03m# type: ignore[assignment]\u001b[39;00m\n\u001b[0;32m   1650\u001b[0m \u001b[38;5;66;03m# Similarly to Bulk Synchronous Parallel / Pregel model\u001b[39;00m\n\u001b[0;32m   1651\u001b[0m \u001b[38;5;66;03m# computation proceeds in steps, while there are channel updates\u001b[39;00m\n\u001b[0;32m   1652\u001b[0m \u001b[38;5;66;03m# channel updates from step N are only visible in step N+1\u001b[39;00m\n\u001b[0;32m   1653\u001b[0m \u001b[38;5;66;03m# channels are guaranteed to be immutable for the duration of the step,\u001b[39;00m\n\u001b[0;32m   1654\u001b[0m \u001b[38;5;66;03m# with channel updates applied only at the transition between steps\u001b[39;00m\n\u001b[1;32m-> 1655\u001b[0m \u001b[38;5;28;01mwhile\u001b[39;00m \u001b[43mloop\u001b[49m\u001b[38;5;241;43m.\u001b[39;49m\u001b[43mtick\u001b[49m\u001b[43m(\u001b[49m\u001b[43minput_keys\u001b[49m\u001b[38;5;241;43m=\u001b[39;49m\u001b[38;5;28;43mself\u001b[39;49m\u001b[38;5;241;43m.\u001b[39;49m\u001b[43minput_channels\u001b[49m\u001b[43m)\u001b[49m:\n\u001b[0;32m   1656\u001b[0m     \u001b[38;5;28;01mfor\u001b[39;00m _ \u001b[38;5;129;01min\u001b[39;00m runner\u001b[38;5;241m.\u001b[39mtick(\n\u001b[0;32m   1657\u001b[0m         loop\u001b[38;5;241m.\u001b[39mtasks\u001b[38;5;241m.\u001b[39mvalues(),\n\u001b[0;32m   1658\u001b[0m         timeout\u001b[38;5;241m=\u001b[39m\u001b[38;5;28mself\u001b[39m\u001b[38;5;241m.\u001b[39mstep_timeout,\n\u001b[1;32m   (...)\u001b[0m\n\u001b[0;32m   1661\u001b[0m     ):\n\u001b[0;32m   1662\u001b[0m         \u001b[38;5;66;03m# emit output\u001b[39;00m\n\u001b[0;32m   1663\u001b[0m         \u001b[38;5;28;01myield from\u001b[39;00m output()\n",
      "File \u001b[1;32mc:\\Users\\felip\\Desktop\\LangGraph_Advanced\\LangGraph-mio\\.venv\\lib\\site-packages\\langgraph\\pregel\\loop.py:430\u001b[0m, in \u001b[0;36mPregelLoop.tick\u001b[1;34m(self, input_keys)\u001b[0m\n\u001b[0;32m    427\u001b[0m     \u001b[38;5;28;01mreturn\u001b[39;00m \u001b[38;5;28;01mFalse\u001b[39;00m\n\u001b[0;32m    429\u001b[0m \u001b[38;5;66;03m# prepare next tasks\u001b[39;00m\n\u001b[1;32m--> 430\u001b[0m \u001b[38;5;28mself\u001b[39m\u001b[38;5;241m.\u001b[39mtasks \u001b[38;5;241m=\u001b[39m \u001b[43mprepare_next_tasks\u001b[49m\u001b[43m(\u001b[49m\n\u001b[0;32m    431\u001b[0m \u001b[43m    \u001b[49m\u001b[38;5;28;43mself\u001b[39;49m\u001b[38;5;241;43m.\u001b[39;49m\u001b[43mcheckpoint\u001b[49m\u001b[43m,\u001b[49m\n\u001b[0;32m    432\u001b[0m \u001b[43m    \u001b[49m\u001b[38;5;28;43mself\u001b[39;49m\u001b[38;5;241;43m.\u001b[39;49m\u001b[43mcheckpoint_pending_writes\u001b[49m\u001b[43m,\u001b[49m\n\u001b[0;32m    433\u001b[0m \u001b[43m    \u001b[49m\u001b[38;5;28;43mself\u001b[39;49m\u001b[38;5;241;43m.\u001b[39;49m\u001b[43mnodes\u001b[49m\u001b[43m,\u001b[49m\n\u001b[0;32m    434\u001b[0m \u001b[43m    \u001b[49m\u001b[38;5;28;43mself\u001b[39;49m\u001b[38;5;241;43m.\u001b[39;49m\u001b[43mchannels\u001b[49m\u001b[43m,\u001b[49m\n\u001b[0;32m    435\u001b[0m \u001b[43m    \u001b[49m\u001b[38;5;28;43mself\u001b[39;49m\u001b[38;5;241;43m.\u001b[39;49m\u001b[43mmanaged\u001b[49m\u001b[43m,\u001b[49m\n\u001b[0;32m    436\u001b[0m \u001b[43m    \u001b[49m\u001b[38;5;28;43mself\u001b[39;49m\u001b[38;5;241;43m.\u001b[39;49m\u001b[43mconfig\u001b[49m\u001b[43m,\u001b[49m\n\u001b[0;32m    437\u001b[0m \u001b[43m    \u001b[49m\u001b[38;5;28;43mself\u001b[39;49m\u001b[38;5;241;43m.\u001b[39;49m\u001b[43mstep\u001b[49m\u001b[43m,\u001b[49m\n\u001b[0;32m    438\u001b[0m \u001b[43m    \u001b[49m\u001b[43mfor_execution\u001b[49m\u001b[38;5;241;43m=\u001b[39;49m\u001b[38;5;28;43;01mTrue\u001b[39;49;00m\u001b[43m,\u001b[49m\n\u001b[0;32m    439\u001b[0m \u001b[43m    \u001b[49m\u001b[43mmanager\u001b[49m\u001b[38;5;241;43m=\u001b[39;49m\u001b[38;5;28;43mself\u001b[39;49m\u001b[38;5;241;43m.\u001b[39;49m\u001b[43mmanager\u001b[49m\u001b[43m,\u001b[49m\n\u001b[0;32m    440\u001b[0m \u001b[43m    \u001b[49m\u001b[43mstore\u001b[49m\u001b[38;5;241;43m=\u001b[39;49m\u001b[38;5;28;43mself\u001b[39;49m\u001b[38;5;241;43m.\u001b[39;49m\u001b[43mstore\u001b[49m\u001b[43m,\u001b[49m\n\u001b[0;32m    441\u001b[0m \u001b[43m    \u001b[49m\u001b[43mcheckpointer\u001b[49m\u001b[38;5;241;43m=\u001b[39;49m\u001b[38;5;28;43mself\u001b[39;49m\u001b[38;5;241;43m.\u001b[39;49m\u001b[43mcheckpointer\u001b[49m\u001b[43m,\u001b[49m\n\u001b[0;32m    442\u001b[0m \u001b[43m\u001b[49m\u001b[43m)\u001b[49m\n\u001b[0;32m    443\u001b[0m \u001b[38;5;28mself\u001b[39m\u001b[38;5;241m.\u001b[39mto_interrupt \u001b[38;5;241m=\u001b[39m []\n\u001b[0;32m    445\u001b[0m \u001b[38;5;66;03m# produce debug output\u001b[39;00m\n",
      "File \u001b[1;32mc:\\Users\\felip\\Desktop\\LangGraph_Advanced\\LangGraph-mio\\.venv\\lib\\site-packages\\langgraph\\pregel\\algo.py:387\u001b[0m, in \u001b[0;36mprepare_next_tasks\u001b[1;34m(checkpoint, pending_writes, processes, channels, managed, config, step, for_execution, store, checkpointer, manager)\u001b[0m\n\u001b[0;32m    384\u001b[0m \u001b[38;5;66;03m# Check if any processes should be run in next step\u001b[39;00m\n\u001b[0;32m    385\u001b[0m \u001b[38;5;66;03m# If so, prepare the values to be passed to them\u001b[39;00m\n\u001b[0;32m    386\u001b[0m \u001b[38;5;28;01mfor\u001b[39;00m name \u001b[38;5;129;01min\u001b[39;00m processes:\n\u001b[1;32m--> 387\u001b[0m     \u001b[38;5;28;01mif\u001b[39;00m task \u001b[38;5;241m:=\u001b[39m \u001b[43mprepare_single_task\u001b[49m\u001b[43m(\u001b[49m\n\u001b[0;32m    388\u001b[0m \u001b[43m        \u001b[49m\u001b[43m(\u001b[49m\u001b[43mPULL\u001b[49m\u001b[43m,\u001b[49m\u001b[43m \u001b[49m\u001b[43mname\u001b[49m\u001b[43m)\u001b[49m\u001b[43m,\u001b[49m\n\u001b[0;32m    389\u001b[0m \u001b[43m        \u001b[49m\u001b[38;5;28;43;01mNone\u001b[39;49;00m\u001b[43m,\u001b[49m\n\u001b[0;32m    390\u001b[0m \u001b[43m        \u001b[49m\u001b[43mcheckpoint\u001b[49m\u001b[38;5;241;43m=\u001b[39;49m\u001b[43mcheckpoint\u001b[49m\u001b[43m,\u001b[49m\n\u001b[0;32m    391\u001b[0m \u001b[43m        \u001b[49m\u001b[43mpending_writes\u001b[49m\u001b[38;5;241;43m=\u001b[39;49m\u001b[43mpending_writes\u001b[49m\u001b[43m,\u001b[49m\n\u001b[0;32m    392\u001b[0m \u001b[43m        \u001b[49m\u001b[43mprocesses\u001b[49m\u001b[38;5;241;43m=\u001b[39;49m\u001b[43mprocesses\u001b[49m\u001b[43m,\u001b[49m\n\u001b[0;32m    393\u001b[0m \u001b[43m        \u001b[49m\u001b[43mchannels\u001b[49m\u001b[38;5;241;43m=\u001b[39;49m\u001b[43mchannels\u001b[49m\u001b[43m,\u001b[49m\n\u001b[0;32m    394\u001b[0m \u001b[43m        \u001b[49m\u001b[43mmanaged\u001b[49m\u001b[38;5;241;43m=\u001b[39;49m\u001b[43mmanaged\u001b[49m\u001b[43m,\u001b[49m\n\u001b[0;32m    395\u001b[0m \u001b[43m        \u001b[49m\u001b[43mconfig\u001b[49m\u001b[38;5;241;43m=\u001b[39;49m\u001b[43mconfig\u001b[49m\u001b[43m,\u001b[49m\n\u001b[0;32m    396\u001b[0m \u001b[43m        \u001b[49m\u001b[43mstep\u001b[49m\u001b[38;5;241;43m=\u001b[39;49m\u001b[43mstep\u001b[49m\u001b[43m,\u001b[49m\n\u001b[0;32m    397\u001b[0m \u001b[43m        \u001b[49m\u001b[43mfor_execution\u001b[49m\u001b[38;5;241;43m=\u001b[39;49m\u001b[43mfor_execution\u001b[49m\u001b[43m,\u001b[49m\n\u001b[0;32m    398\u001b[0m \u001b[43m        \u001b[49m\u001b[43mstore\u001b[49m\u001b[38;5;241;43m=\u001b[39;49m\u001b[43mstore\u001b[49m\u001b[43m,\u001b[49m\n\u001b[0;32m    399\u001b[0m \u001b[43m        \u001b[49m\u001b[43mcheckpointer\u001b[49m\u001b[38;5;241;43m=\u001b[39;49m\u001b[43mcheckpointer\u001b[49m\u001b[43m,\u001b[49m\n\u001b[0;32m    400\u001b[0m \u001b[43m        \u001b[49m\u001b[43mmanager\u001b[49m\u001b[38;5;241;43m=\u001b[39;49m\u001b[43mmanager\u001b[49m\u001b[43m,\u001b[49m\n\u001b[0;32m    401\u001b[0m \u001b[43m    \u001b[49m\u001b[43m)\u001b[49m:\n\u001b[0;32m    402\u001b[0m         tasks\u001b[38;5;241m.\u001b[39mappend(task)\n\u001b[0;32m    403\u001b[0m \u001b[38;5;66;03m# Consume pending Sends from this step (new version of Send)\u001b[39;00m\n",
      "File \u001b[1;32mc:\\Users\\felip\\Desktop\\LangGraph_Advanced\\LangGraph-mio\\.venv\\lib\\site-packages\\langgraph\\pregel\\algo.py:745\u001b[0m, in \u001b[0;36mprepare_single_task\u001b[1;34m(task_path, task_id_checksum, checkpoint, pending_writes, processes, channels, managed, config, step, for_execution, store, checkpointer, manager)\u001b[0m\n\u001b[0;32m    735\u001b[0m \u001b[38;5;28;01mif\u001b[39;00m triggers \u001b[38;5;241m:=\u001b[39m \u001b[38;5;28msorted\u001b[39m(\n\u001b[0;32m    736\u001b[0m     chan\n\u001b[0;32m    737\u001b[0m     \u001b[38;5;28;01mfor\u001b[39;00m chan \u001b[38;5;129;01min\u001b[39;00m proc\u001b[38;5;241m.\u001b[39mtriggers\n\u001b[1;32m   (...)\u001b[0m\n\u001b[0;32m    742\u001b[0m     \u001b[38;5;241m>\u001b[39m seen\u001b[38;5;241m.\u001b[39mget(chan, null_version)\n\u001b[0;32m    743\u001b[0m ):\n\u001b[0;32m    744\u001b[0m     \u001b[38;5;28;01mtry\u001b[39;00m:\n\u001b[1;32m--> 745\u001b[0m         val \u001b[38;5;241m=\u001b[39m \u001b[38;5;28;43mnext\u001b[39;49m\u001b[43m(\u001b[49m\n\u001b[0;32m    746\u001b[0m \u001b[43m            \u001b[49m\u001b[43m_proc_input\u001b[49m\u001b[43m(\u001b[49m\u001b[43mproc\u001b[49m\u001b[43m,\u001b[49m\u001b[43m \u001b[49m\u001b[43mmanaged\u001b[49m\u001b[43m,\u001b[49m\u001b[43m \u001b[49m\u001b[43mchannels\u001b[49m\u001b[43m,\u001b[49m\u001b[43m \u001b[49m\u001b[43mfor_execution\u001b[49m\u001b[38;5;241;43m=\u001b[39;49m\u001b[43mfor_execution\u001b[49m\u001b[43m)\u001b[49m\n\u001b[0;32m    747\u001b[0m \u001b[43m        \u001b[49m\u001b[43m)\u001b[49m\n\u001b[0;32m    748\u001b[0m     \u001b[38;5;28;01mexcept\u001b[39;00m \u001b[38;5;167;01mStopIteration\u001b[39;00m:\n\u001b[0;32m    749\u001b[0m         \u001b[38;5;28;01mreturn\u001b[39;00m\n",
      "File \u001b[1;32mc:\\Users\\felip\\Desktop\\LangGraph_Advanced\\LangGraph-mio\\.venv\\lib\\site-packages\\langgraph\\pregel\\algo.py:890\u001b[0m, in \u001b[0;36m_proc_input\u001b[1;34m(proc, managed, channels, for_execution)\u001b[0m\n\u001b[0;32m    888\u001b[0m \u001b[38;5;66;03m# If the process has a mapper, apply it to the value\u001b[39;00m\n\u001b[0;32m    889\u001b[0m \u001b[38;5;28;01mif\u001b[39;00m for_execution \u001b[38;5;129;01mand\u001b[39;00m proc\u001b[38;5;241m.\u001b[39mmapper \u001b[38;5;129;01mis\u001b[39;00m \u001b[38;5;129;01mnot\u001b[39;00m \u001b[38;5;28;01mNone\u001b[39;00m:\n\u001b[1;32m--> 890\u001b[0m     val \u001b[38;5;241m=\u001b[39m \u001b[43mproc\u001b[49m\u001b[38;5;241;43m.\u001b[39;49m\u001b[43mmapper\u001b[49m\u001b[43m(\u001b[49m\u001b[43mval\u001b[49m\u001b[43m)\u001b[49m\n\u001b[0;32m    892\u001b[0m \u001b[38;5;28;01myield\u001b[39;00m val\n",
      "File \u001b[1;32mc:\\Users\\felip\\Desktop\\LangGraph_Advanced\\LangGraph-mio\\.venv\\lib\\site-packages\\langgraph\\graph\\state.py:836\u001b[0m, in \u001b[0;36m_coerce_state\u001b[1;34m(schema, input)\u001b[0m\n\u001b[0;32m    835\u001b[0m \u001b[38;5;28;01mdef\u001b[39;00m \u001b[38;5;21m_coerce_state\u001b[39m(schema: Type[Any], \u001b[38;5;28minput\u001b[39m: \u001b[38;5;28mdict\u001b[39m[\u001b[38;5;28mstr\u001b[39m, Any]) \u001b[38;5;241m-\u001b[39m\u001b[38;5;241m>\u001b[39m \u001b[38;5;28mdict\u001b[39m[\u001b[38;5;28mstr\u001b[39m, Any]:\n\u001b[1;32m--> 836\u001b[0m     \u001b[38;5;28;01mreturn\u001b[39;00m schema(\u001b[38;5;241m*\u001b[39m\u001b[38;5;241m*\u001b[39m\u001b[38;5;28minput\u001b[39m)\n",
      "File \u001b[1;32mc:\\Users\\felip\\Desktop\\LangGraph_Advanced\\LangGraph-mio\\.venv\\lib\\site-packages\\pydantic\\main.py:212\u001b[0m, in \u001b[0;36mBaseModel.__init__\u001b[1;34m(self, **data)\u001b[0m\n\u001b[0;32m    210\u001b[0m \u001b[38;5;66;03m# `__tracebackhide__` tells pytest and some other tools to omit this function from tracebacks\u001b[39;00m\n\u001b[0;32m    211\u001b[0m __tracebackhide__ \u001b[38;5;241m=\u001b[39m \u001b[38;5;28;01mTrue\u001b[39;00m\n\u001b[1;32m--> 212\u001b[0m validated_self \u001b[38;5;241m=\u001b[39m \u001b[38;5;28;43mself\u001b[39;49m\u001b[38;5;241;43m.\u001b[39;49m\u001b[43m__pydantic_validator__\u001b[49m\u001b[38;5;241;43m.\u001b[39;49m\u001b[43mvalidate_python\u001b[49m\u001b[43m(\u001b[49m\u001b[43mdata\u001b[49m\u001b[43m,\u001b[49m\u001b[43m \u001b[49m\u001b[43mself_instance\u001b[49m\u001b[38;5;241;43m=\u001b[39;49m\u001b[38;5;28;43mself\u001b[39;49m\u001b[43m)\u001b[49m\n\u001b[0;32m    213\u001b[0m \u001b[38;5;28;01mif\u001b[39;00m \u001b[38;5;28mself\u001b[39m \u001b[38;5;129;01mis\u001b[39;00m \u001b[38;5;129;01mnot\u001b[39;00m validated_self:\n\u001b[0;32m    214\u001b[0m     warnings\u001b[38;5;241m.\u001b[39mwarn(\n\u001b[0;32m    215\u001b[0m         \u001b[38;5;124m'\u001b[39m\u001b[38;5;124mA custom validator is returning a value other than `self`.\u001b[39m\u001b[38;5;130;01m\\n\u001b[39;00m\u001b[38;5;124m'\u001b[39m\n\u001b[0;32m    216\u001b[0m         \u001b[38;5;124m\"\u001b[39m\u001b[38;5;124mReturning anything other than `self` from a top level model validator isn\u001b[39m\u001b[38;5;124m'\u001b[39m\u001b[38;5;124mt supported when validating via `__init__`.\u001b[39m\u001b[38;5;130;01m\\n\u001b[39;00m\u001b[38;5;124m\"\u001b[39m\n\u001b[0;32m    217\u001b[0m         \u001b[38;5;124m'\u001b[39m\u001b[38;5;124mSee the `model_validator` docs (https://docs.pydantic.dev/latest/concepts/validators/#model-validators) for more details.\u001b[39m\u001b[38;5;124m'\u001b[39m,\n\u001b[0;32m    218\u001b[0m         category\u001b[38;5;241m=\u001b[39m\u001b[38;5;28;01mNone\u001b[39;00m,\n\u001b[0;32m    219\u001b[0m     )\n",
      "\u001b[1;31mValidationError\u001b[0m: 1 validation error for InputState\nnumeric_value\n  Input should be a valid integer, unable to parse string as an integer [type=int_parsing, input_value='a', input_type=str]\n    For further information visit https://errors.pydantic.dev/2.9/v/int_parsing"
     ]
    }
   ],
   "source": [
    "runnable.invoke({\"string_value\": \"a\", \"numeric_value\": \"a\"}) # da validatio error perche \"a\" è una stringa non un int"
   ]
  },
  {
   "cell_type": "code",
   "execution_count": null,
   "metadata": {},
   "outputs": [],
   "source": []
  }
 ],
 "metadata": {
  "kernelspec": {
   "display_name": ".venv",
   "language": "python",
   "name": "python3"
  },
  "language_info": {
   "codemirror_mode": {
    "name": "ipython",
    "version": 3
   },
   "file_extension": ".py",
   "mimetype": "text/x-python",
   "name": "python",
   "nbconvert_exporter": "python",
   "pygments_lexer": "ipython3",
   "version": "3.10.0"
  }
 },
 "nbformat": 4,
 "nbformat_minor": 2
}
