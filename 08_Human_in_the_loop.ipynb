{
 "cells": [
  {
   "cell_type": "markdown",
   "metadata": {},
   "source": [
    "# Two ways for \"Human-in-the-Loop\" Workflow\n",
    "\n",
    "1. Nello step di compilazione di una grafo\n",
    "2. Utilizzando una speciale command class e una interrupt function in combination\n",
    "\n",
    "Per un human-in-the-loop workflow è necessario fare uso di langGraph persistence layer anche detto checkpointers.\n",
    "\n",
    "I checkpointers gli abbiamo utilizzati per salvare a chat history, ma ora possiamo fare molto di più con i checkpointers.\n",
    "\n",
    "Ora, creiamo un semplice agente come abbiamo fatto prima ma ora con human interaction."
   ]
  },
  {
   "cell_type": "code",
   "execution_count": 22,
   "metadata": {},
   "outputs": [
    {
     "data": {
      "text/plain": [
       "True"
      ]
     },
     "execution_count": 22,
     "metadata": {},
     "output_type": "execute_result"
    }
   ],
   "source": [
    "from dotenv import load_dotenv\n",
    "\n",
    "load_dotenv()"
   ]
  },
  {
   "cell_type": "code",
   "execution_count": 23,
   "metadata": {},
   "outputs": [],
   "source": [
    "from typing import TypedDict, Annotated\n",
    "from langgraph.graph.message import add_messages\n",
    "\n",
    "class State(TypedDict):\n",
    "    messages: Annotated[list, add_messages]"
   ]
  },
  {
   "cell_type": "code",
   "execution_count": 25,
   "metadata": {},
   "outputs": [],
   "source": [
    "# creiamo il nistro grafo\n",
    "from langchain_openai import ChatOpenAI\n",
    "from langchain_core.tools import tool\n",
    "\n",
    "from langgraph.checkpoint.memory import MemorySaver\n",
    "from langgraph.graph import StateGraph\n",
    "from langgraph.prebuilt import ToolNode, tools_condition\n",
    "\n",
    "checkpointer = MemorySaver()\n",
    "\n",
    "graph_builder = StateGraph(State)\n",
    "\n",
    "# definiamo due tools con la stessa descrizione di chiamata\n",
    "\n",
    "@tool\n",
    "def get_weather(location: str):\n",
    "    \"\"\"Call to get the current weather.\"\"\"\n",
    "    if location.lower() in ['munich']:\n",
    "        return \"It's 15 degrees Celsius and cloudy.\"\n",
    "    else:\n",
    "        return \"It's 32 degrees Celsius and sunny.\"\n",
    "\n",
    "@tool\n",
    "def broken_api(location: str):\n",
    "    \"\"\"Call to get the current weather.\"\"\"\n",
    "    return  f\"Currently no weather data available for {location}\"\n",
    "\n",
    "\n",
    "tools = [get_weather, broken_api]\n",
    "\n",
    "llm = ChatOpenAI(model=\"gpt-4o\")\n",
    "llm_with_tools = llm.bind_tools(tools)\n",
    "\n",
    "def chatbot(state: State):\n",
    "    return {\"messages\": [llm_with_tools.invoke(state[\"messages\"])]}"
   ]
  },
  {
   "cell_type": "code",
   "execution_count": 26,
   "metadata": {},
   "outputs": [],
   "source": [
    "graph_builder.add_node(\"chatbot\", chatbot)\n",
    "\n",
    "tool_node = ToolNode(tools=tools)\n",
    "\n",
    "graph_builder.add_node(\"tools\", tool_node)\n",
    "\n",
    "# la funzione tools_condition importata rrstituisce \"tools\" se l'ultimo messaggio dello stato\n",
    "# è un AIMessage con tool_calls esistente altrimenti restituisce END\n",
    "graph_builder.add_conditional_edges(\n",
    "    \"chatbot\", \n",
    "    tools_condition\n",
    ")\n",
    "\n",
    "graph_builder.add_edge(\"tools\", \"chatbot\")\n",
    "graph_builder.set_entry_point(\"chatbot\")\n",
    "\n",
    "# ogni volta che dovremmo usare un tool vogliamo interrompere before di usare il tool\n",
    "# se vogliamo abilitare l'uso di un solo tool con human permission allora usiamo \n",
    "# questo interrupt_before\n",
    "\n",
    "graph = graph_builder.compile(\n",
    "    checkpointer=checkpointer,  # memorizza gli stati \n",
    "    interrupt_before=['tools']  # interrompiamo prima di usare un tool nel nodo \"tools\"\n",
    ")\n",
    "\n",
    "# esiste anche l'alternativa interrupt_after che intterompe il flusso dopo l'eseczione del nodo\n",
    "# se ad esempio vogliamo controllare il risulatato del nodo tools prima di passarlo\n",
    "# all'llm allora usiamo interrup_after\n"
   ]
  },
  {
   "cell_type": "code",
   "execution_count": 27,
   "metadata": {},
   "outputs": [
    {
     "data": {
      "image/png": "[encoded data removed]",
      "text/plain": [
       "<IPython.core.display.Image object>"
      ]
     },
     "metadata": {},
     "output_type": "display_data"
    }
   ],
   "source": [
    "from IPython.display import Image, display\n",
    "\n",
    "try:\n",
    "    display(Image(graph.get_graph().draw_mermaid_png()))\n",
    "except Exception:\n",
    "    pass"
   ]
  },
  {
   "cell_type": "code",
   "execution_count": 28,
   "metadata": {},
   "outputs": [
    {
     "data": {
      "text/plain": [
       "{'messages': [HumanMessage(content='Hello, I am John', additional_kwargs={}, response_metadata={}, id='0a52e4bc-93a6-4a7d-b035-57c8439381c9'),\n",
       "  AIMessage(content='Hello John! How can I assist you today?', additional_kwargs={'refusal': None}, response_metadata={'token_usage': {'completion_tokens': 12, 'prompt_tokens': 70, 'total_tokens': 82, 'completion_tokens_details': {'accepted_prediction_tokens': 0, 'audio_tokens': 0, 'reasoning_tokens': 0, 'rejected_prediction_tokens': 0}, 'prompt_tokens_details': {'audio_tokens': 0, 'cached_tokens': 0}}, 'model_name': 'gpt-4o-2024-08-06', 'system_fingerprint': 'fp_eb9dce56a8', 'finish_reason': 'stop', 'logprobs': None}, id='run-cc3c54b4-02fe-4630-b9ea-7fbedf44eeab-0', usage_metadata={'input_tokens': 70, 'output_tokens': 12, 'total_tokens': 82, 'input_token_details': {'audio': 0, 'cache_read': 0}, 'output_token_details': {'audio': 0, 'reasoning': 0}})]}"
      ]
     },
     "execution_count": 28,
     "metadata": {},
     "output_type": "execute_result"
    }
   ],
   "source": [
    "from langchain_core.messages import HumanMessage\n",
    "\n",
    "config = {\"configurable\": {\"thread_id\": \"1\"}}\n",
    "input_message = HumanMessage(content=\"Hello, I am John\")\n",
    "\n",
    "graph.invoke({\"messages\": input_message}, config=config)"
   ]
  },
  {
   "cell_type": "code",
   "execution_count": 29,
   "metadata": {},
   "outputs": [
    {
     "data": {
      "text/plain": [
       "{'messages': [HumanMessage(content='Sorry, did I already introduce myself?', additional_kwargs={}, response_metadata={}, id='69d78558-ebd0-4152-9e7c-47c380376196'),\n",
       "  AIMessage(content=\"No, you haven't introduced yourself yet. Please feel free to share anything you'd like about yourself!\", additional_kwargs={'refusal': None}, response_metadata={'token_usage': {'completion_tokens': 21, 'prompt_tokens': 73, 'total_tokens': 94, 'completion_tokens_details': {'accepted_prediction_tokens': 0, 'audio_tokens': 0, 'reasoning_tokens': 0, 'rejected_prediction_tokens': 0}, 'prompt_tokens_details': {'audio_tokens': 0, 'cached_tokens': 0}}, 'model_name': 'gpt-4o-2024-08-06', 'system_fingerprint': 'fp_eb9dce56a8', 'finish_reason': 'stop', 'logprobs': None}, id='run-37866cb5-cabe-4663-a416-ec283ee069fb-0', usage_metadata={'input_tokens': 73, 'output_tokens': 21, 'total_tokens': 94, 'input_token_details': {'audio': 0, 'cache_read': 0}, 'output_token_details': {'audio': 0, 'reasoning': 0}})]}"
      ]
     },
     "execution_count": 29,
     "metadata": {},
     "output_type": "execute_result"
    }
   ],
   "source": [
    "config = {\"configurable\": {\"thread_id\": \"2\"}}\n",
    "input_message = HumanMessage(content=\"Sorry, did I already introduce myself?\")\n",
    "\n",
    "graph.invoke({'messages': input_message}, config=config)"
   ]
  },
  {
   "cell_type": "code",
   "execution_count": 30,
   "metadata": {},
   "outputs": [
    {
     "data": {
      "text/plain": [
       "{'messages': [HumanMessage(content='Hello, I am John', additional_kwargs={}, response_metadata={}, id='0a52e4bc-93a6-4a7d-b035-57c8439381c9'),\n",
       "  AIMessage(content='Hello John! How can I assist you today?', additional_kwargs={'refusal': None}, response_metadata={'token_usage': {'completion_tokens': 12, 'prompt_tokens': 70, 'total_tokens': 82, 'completion_tokens_details': {'accepted_prediction_tokens': 0, 'audio_tokens': 0, 'reasoning_tokens': 0, 'rejected_prediction_tokens': 0}, 'prompt_tokens_details': {'audio_tokens': 0, 'cached_tokens': 0}}, 'model_name': 'gpt-4o-2024-08-06', 'system_fingerprint': 'fp_eb9dce56a8', 'finish_reason': 'stop', 'logprobs': None}, id='run-cc3c54b4-02fe-4630-b9ea-7fbedf44eeab-0', usage_metadata={'input_tokens': 70, 'output_tokens': 12, 'total_tokens': 82, 'input_token_details': {'audio': 0, 'cache_read': 0}, 'output_token_details': {'audio': 0, 'reasoning': 0}}),\n",
       "  HumanMessage(content='Sorry, did I already introduce myself?', additional_kwargs={}, response_metadata={}, id='638ec489-c705-4cf5-a47a-9c396b2fc859'),\n",
       "  AIMessage(content='Yes, you did introduce yourself as John. How can I help you today?', additional_kwargs={'refusal': None}, response_metadata={'token_usage': {'completion_tokens': 18, 'prompt_tokens': 96, 'total_tokens': 114, 'completion_tokens_details': {'accepted_prediction_tokens': 0, 'audio_tokens': 0, 'reasoning_tokens': 0, 'rejected_prediction_tokens': 0}, 'prompt_tokens_details': {'audio_tokens': 0, 'cached_tokens': 0}}, 'model_name': 'gpt-4o-2024-08-06', 'system_fingerprint': 'fp_eb9dce56a8', 'finish_reason': 'stop', 'logprobs': None}, id='run-f57117c2-126e-4a9c-bb31-6e56c4d54109-0', usage_metadata={'input_tokens': 96, 'output_tokens': 18, 'total_tokens': 114, 'input_token_details': {'audio': 0, 'cache_read': 0}, 'output_token_details': {'audio': 0, 'reasoning': 0}})]}"
      ]
     },
     "execution_count": 30,
     "metadata": {},
     "output_type": "execute_result"
    }
   ],
   "source": [
    "config = {\"configurable\": {\"thread_id\": \"1\"}}\n",
    "input_message = HumanMessage(content=\"Sorry, did I already introduce myself?\")\n",
    "\n",
    "graph.invoke({\"messages\": input_message}, config=config)"
   ]
  },
  {
   "cell_type": "markdown",
   "metadata": {},
   "source": [
    "Fin'ora non abbiamo usato nessun tool poiche non abbiamo chiesto domande riguardanti al tempo.\n",
    "\n",
    "Quindi come facciamo a sapere effettivamente se dobbiamo usare un tool?\n",
    "\n",
    "Questo può essere fatto utilizzando dal grafo il metodo .get_state() passandogli il config object.\n",
    "\n",
    "Così otterremo uno snapshot del grafo.\n",
    "\n",
    "Tale snapsho ha l'attributo .netx dove possiamo vedere il prossimo step che il grafo dovrebbe chiamare.\n",
    "\n",
    "Vedimao che ci restituisce una tupla vuota ma perche non abbiamo altro da fare dato che il graph run è finito, ma sarebbe diverso se chiediamo una domanda riguardante il tempo."
   ]
  },
  {
   "cell_type": "code",
   "execution_count": 31,
   "metadata": {},
   "outputs": [
    {
     "data": {
      "text/plain": [
       "()"
      ]
     },
     "execution_count": 31,
     "metadata": {},
     "output_type": "execute_result"
    }
   ],
   "source": [
    "snapshot = graph.get_state(config)\n",
    "snapshot.next"
   ]
  },
  {
   "cell_type": "code",
   "execution_count": 33,
   "metadata": {},
   "outputs": [
    {
     "data": {
      "text/plain": [
       "{'messages': [HumanMessage(content='How is the waether in Munich?', additional_kwargs={}, response_metadata={}, id='232b4bcd-19a8-4993-a02f-07e363a18e58'),\n",
       "  AIMessage(content='', additional_kwargs={'tool_calls': [{'id': 'call_AjktKeKhnNHvTIaUm4ELMGmh', 'function': {'arguments': '{\"location\":\"Munich\"}', 'name': 'get_weather'}, 'type': 'function'}], 'refusal': None}, response_metadata={'token_usage': {'completion_tokens': 16, 'prompt_tokens': 73, 'total_tokens': 89, 'completion_tokens_details': {'accepted_prediction_tokens': 0, 'audio_tokens': 0, 'reasoning_tokens': 0, 'rejected_prediction_tokens': 0}, 'prompt_tokens_details': {'audio_tokens': 0, 'cached_tokens': 0}}, 'model_name': 'gpt-4o-2024-08-06', 'system_fingerprint': 'fp_eb9dce56a8', 'finish_reason': 'tool_calls', 'logprobs': None}, id='run-6ce0b083-f293-4d65-9655-6ec1957aa689-0', tool_calls=[{'name': 'get_weather', 'args': {'location': 'Munich'}, 'id': 'call_AjktKeKhnNHvTIaUm4ELMGmh', 'type': 'tool_call'}], usage_metadata={'input_tokens': 73, 'output_tokens': 16, 'total_tokens': 89, 'input_token_details': {'audio': 0, 'cache_read': 0}, 'output_token_details': {'audio': 0, 'reasoning': 0}})]}"
      ]
     },
     "execution_count": 33,
     "metadata": {},
     "output_type": "execute_result"
    }
   ],
   "source": [
    "# facciamo una domanda riguardante il tempo a monaco\n",
    "from langchain_core.messages import HumanMessage\n",
    "\n",
    "config = {\"configurable\": {\"thread_id\": \"3\"}}\n",
    "\n",
    "input_message = HumanMessage(content=\"How is the waether in Munich?\")\n",
    "\n",
    "# si ferma prima di eseguire il nodo tool\n",
    "graph.invoke({\"messages\": input_message}, config=config)"
   ]
  },
  {
   "cell_type": "code",
   "execution_count": 34,
   "metadata": {},
   "outputs": [
    {
     "data": {
      "text/plain": [
       "('tools',)"
      ]
     },
     "execution_count": 34,
     "metadata": {},
     "output_type": "execute_result"
    }
   ],
   "source": [
    "# dammi lo stato del thread_id: 3\n",
    "snapshot = graph.get_state(config)\n",
    "\n",
    "# qual'è il prossimo step\n",
    "snapshot.next"
   ]
  },
  {
   "cell_type": "markdown",
   "metadata": {},
   "source": [
    "Vediamo che il prossimo step è andare nel nodo \"tools\" quindi il workflow non è ancora terminato.\n",
    "\n",
    "Ora, come possiamo consentire l'esecuzione del nodo tool.\n",
    "\n",
    "Questo può essere fatto facilmente eseguendo il grafo una seconda volta, ma stavolta passando None come primo argomento e il config dictionary"
   ]
  },
  {
   "cell_type": "code",
   "execution_count": 35,
   "metadata": {},
   "outputs": [
    {
     "data": {
      "text/plain": [
       "{'messages': [HumanMessage(content='How is the waether in Munich?', additional_kwargs={}, response_metadata={}, id='232b4bcd-19a8-4993-a02f-07e363a18e58'),\n",
       "  AIMessage(content='', additional_kwargs={'tool_calls': [{'id': 'call_AjktKeKhnNHvTIaUm4ELMGmh', 'function': {'arguments': '{\"location\":\"Munich\"}', 'name': 'get_weather'}, 'type': 'function'}], 'refusal': None}, response_metadata={'token_usage': {'completion_tokens': 16, 'prompt_tokens': 73, 'total_tokens': 89, 'completion_tokens_details': {'accepted_prediction_tokens': 0, 'audio_tokens': 0, 'reasoning_tokens': 0, 'rejected_prediction_tokens': 0}, 'prompt_tokens_details': {'audio_tokens': 0, 'cached_tokens': 0}}, 'model_name': 'gpt-4o-2024-08-06', 'system_fingerprint': 'fp_eb9dce56a8', 'finish_reason': 'tool_calls', 'logprobs': None}, id='run-6ce0b083-f293-4d65-9655-6ec1957aa689-0', tool_calls=[{'name': 'get_weather', 'args': {'location': 'Munich'}, 'id': 'call_AjktKeKhnNHvTIaUm4ELMGmh', 'type': 'tool_call'}], usage_metadata={'input_tokens': 73, 'output_tokens': 16, 'total_tokens': 89, 'input_token_details': {'audio': 0, 'cache_read': 0}, 'output_token_details': {'audio': 0, 'reasoning': 0}}),\n",
       "  ToolMessage(content=\"It's 15 degrees Celsius and cloudy.\", name='get_weather', id='04ad298a-3810-4b2c-8cae-4bde001daa75', tool_call_id='call_AjktKeKhnNHvTIaUm4ELMGmh'),\n",
       "  AIMessage(content='The current weather in Munich is 15 degrees Celsius and cloudy.', additional_kwargs={'refusal': None}, response_metadata={'token_usage': {'completion_tokens': 15, 'prompt_tokens': 104, 'total_tokens': 119, 'completion_tokens_details': {'accepted_prediction_tokens': 0, 'audio_tokens': 0, 'reasoning_tokens': 0, 'rejected_prediction_tokens': 0}, 'prompt_tokens_details': {'audio_tokens': 0, 'cached_tokens': 0}}, 'model_name': 'gpt-4o-2024-08-06', 'system_fingerprint': 'fp_eb9dce56a8', 'finish_reason': 'stop', 'logprobs': None}, id='run-38448616-ead1-4bbb-81d0-fa5522723d56-0', usage_metadata={'input_tokens': 104, 'output_tokens': 15, 'total_tokens': 119, 'input_token_details': {'audio': 0, 'cache_read': 0}, 'output_token_details': {'audio': 0, 'reasoning': 0}})]}"
      ]
     },
     "execution_count": 35,
     "metadata": {},
     "output_type": "execute_result"
    }
   ],
   "source": [
    "graph.invoke(None, config=config)"
   ]
  },
  {
   "cell_type": "markdown",
   "metadata": {},
   "source": [
    "# Human-in-the-loop Workflow\n",
    "\n",
    "Fin'ora, ci siamo affidati pienamente su agenti autonomi, dove gli users chiedono una domanda e il sistema indipendentemente genera una risposta ed esegue tasks senza un ulteriore intervento.\n",
    "\n",
    "Tale approccio funziona bene in molti casi, tuttavia può presentare rischi significativi in scenari dove la posta in gioco è molto alta.\n",
    "\n",
    "In aree come la conformità, decision making o content creation dove gli errori possono avere serie conseguenze. I sistemi completamente autonomi potrebbero non sempre soddisfare gli standard di affidabilità e precisione.\n",
    "\n",
    "\n",
    "Human-in-the-loop affronta tale sfida integrando il giudizio umano ad un certo punto cruciale all'interno del processo automatizzato, consentendo le persone di validare, rifinire, o sovrascrivere gli outputs generati dall'AI.\n",
    "\n",
    "![alt text](human.png)\n",
    "\n",
    "\n",
    "Questo approccio è particolarmente utile in ambienti dove una automazione non sorvegliata potrebbe condurre a errori molto costosi.\n",
    "\n",
    "Incorporando momenti di supervisione umana i workflows combinano la velocità e l'efficienza dei processi guidati dalla macchina con una attenta supervisione che solo una persona può fornire.\n",
    "\n",
    "In pratica, questo spesso significa identificare gli step chiave dove il coinvolgimento umano è più valuable e creare un meccanismo di pausa al flusso automatico per far si che la persona possa rivedere, editare o confermare ciò che il sistema ha prodotto.\n",
    "\n",
    "Abilitando queste pause per la supervisione umana, human-in-the-loop workflows assicurano che l'automazione sia allineata con le aspettative e riduca la probabilità di errori, se le persone sono coinvolte nell'approvazione di una decisione, rifinendo il contenuto, o fornendo contesto aggiuntivo.\n",
    "\n",
    "\n",
    "Gli interventi consentono ai sistemi completamente autonomi di funzionare più affidabilmente e meglio in ambienti dove affidabilità e precisione sono essenziali."
   ]
  },
  {
   "cell_type": "markdown",
   "metadata": {},
   "source": [
    "# Time Travel\n",
    "\n",
    "Possiamo non solo stoppare un grafo, ma possiamo anche editarlo.\n",
    "\n",
    "Per farlo possiamo fare uso del così detto **time-travel**.\n",
    "\n",
    "Il time-travel ci consente di rifare azioni passate nel nostro grafo per esplorare paths alternativi, come usare tools diversi o solamente editare lo stato.\n",
    "\n",
    "Prima iniziamo con un semplice esempio dove abbiamo aggiunto lo stato."
   ]
  },
  {
   "cell_type": "code",
   "execution_count": 37,
   "metadata": {},
   "outputs": [
    {
     "data": {
      "text/plain": [
       "{'messages': [HumanMessage(content='How is the weather in Munich?', additional_kwargs={}, response_metadata={}, id='1890033d-58bb-43c1-8e21-caab2725232d'),\n",
       "  AIMessage(content='', additional_kwargs={'tool_calls': [{'id': 'call_sWjOHgpVGB9zJNC8WpRz5CAv', 'function': {'arguments': '{\"location\":\"Munich\"}', 'name': 'get_weather'}, 'type': 'function'}], 'refusal': None}, response_metadata={'token_usage': {'completion_tokens': 16, 'prompt_tokens': 72, 'total_tokens': 88, 'completion_tokens_details': {'accepted_prediction_tokens': 0, 'audio_tokens': 0, 'reasoning_tokens': 0, 'rejected_prediction_tokens': 0}, 'prompt_tokens_details': {'audio_tokens': 0, 'cached_tokens': 0}}, 'model_name': 'gpt-4o-2024-08-06', 'system_fingerprint': 'fp_eb9dce56a8', 'finish_reason': 'tool_calls', 'logprobs': None}, id='run-5916b31b-a351-4d74-be51-8dcbbe54a3b6-0', tool_calls=[{'name': 'get_weather', 'args': {'location': 'Munich'}, 'id': 'call_sWjOHgpVGB9zJNC8WpRz5CAv', 'type': 'tool_call'}], usage_metadata={'input_tokens': 72, 'output_tokens': 16, 'total_tokens': 88, 'input_token_details': {'audio': 0, 'cache_read': 0}, 'output_token_details': {'audio': 0, 'reasoning': 0}})]}"
      ]
     },
     "execution_count": 37,
     "metadata": {},
     "output_type": "execute_result"
    }
   ],
   "source": [
    "from langchain_core.messages import HumanMessage\n",
    "\n",
    "config = {\"configurable\": {\"thread_id\": \"4\"}}\n",
    "\n",
    "input_message = HumanMessage(content=\"How is the weather in Munich?\")\n",
    "\n",
    "graph.invoke({\"messages\": input_message}, config=config)"
   ]
  },
  {
   "cell_type": "code",
   "execution_count": 39,
   "metadata": {},
   "outputs": [
    {
     "name": "stdout",
     "output_type": "stream",
     "text": [
      "==================================\u001b[1m Ai Message \u001b[0m==================================\n",
      "Tool Calls:\n",
      "  get_weather (call_sWjOHgpVGB9zJNC8WpRz5CAv)\n",
      " Call ID: call_sWjOHgpVGB9zJNC8WpRz5CAv\n",
      "  Args:\n",
      "    location: Munich\n"
     ]
    }
   ],
   "source": [
    "snapshot = graph.get_state(config)\n",
    "\n",
    "# andiamo a estrarre l'ultimo messaggio il quale è\n",
    "# un AIMessage \n",
    "existing_message = snapshot.values[\"messages\"][-1]\n",
    "\n",
    "# vedimao che il flusso andrebbe a fare uso del tool \"get_weather\" con argomento\n",
    "# location = Munich\n",
    "existing_message.pretty_print()"
   ]
  },
  {
   "cell_type": "markdown",
   "metadata": {},
   "source": [
    "Vediamo che il flusso andrebbe a fare uso del tool \"get_weather\" con l'argomento location=Munich. \n",
    "\n",
    "Tuttavia, ora noi vogliamo che invece di fare effettivamente ciò lo falsifichiamo dandogli una risposta a mano."
   ]
  },
  {
   "cell_type": "code",
   "execution_count": 40,
   "metadata": {},
   "outputs": [
    {
     "data": {
      "text/plain": [
       "{'configurable': {'thread_id': '4',\n",
       "  'checkpoint_ns': '',\n",
       "  'checkpoint_id': '1efff46b-7415-68f0-8002-0cdc7e2eb0db'}}"
      ]
     },
     "execution_count": 40,
     "metadata": {},
     "output_type": "execute_result"
    }
   ],
   "source": [
    "from langchain_core.messages import AIMessage, ToolMessage\n",
    "\n",
    "answer = \"It is only 5°C warm today!\"\n",
    "\n",
    "new_messages = [\n",
    "    ToolMessage(content=answer, tool_call_id=existing_message.tool_calls[0]['id']),\n",
    "    AIMessage(content=answer),\n",
    "]\n",
    "\n",
    "# dopo avre falsificato l'utilizzo del tool aggiungendo in una \n",
    "# lista la risposta del Tool e del LLM\n",
    "# aggiorniamo lo stato passando tale lista\n",
    "graph.update_state(\n",
    "    config,\n",
    "    {\"messages\": new_messages}\n",
    ")"
   ]
  },
  {
   "cell_type": "code",
   "execution_count": 41,
   "metadata": {},
   "outputs": [
    {
     "name": "stdout",
     "output_type": "stream",
     "text": [
      "[HumanMessage(content='How is the weather in Munich?', additional_kwargs={}, response_metadata={}, id='1890033d-58bb-43c1-8e21-caab2725232d'), AIMessage(content='', additional_kwargs={'tool_calls': [{'id': 'call_sWjOHgpVGB9zJNC8WpRz5CAv', 'function': {'arguments': '{\"location\":\"Munich\"}', 'name': 'get_weather'}, 'type': 'function'}], 'refusal': None}, response_metadata={'token_usage': {'completion_tokens': 16, 'prompt_tokens': 72, 'total_tokens': 88, 'completion_tokens_details': {'accepted_prediction_tokens': 0, 'audio_tokens': 0, 'reasoning_tokens': 0, 'rejected_prediction_tokens': 0}, 'prompt_tokens_details': {'audio_tokens': 0, 'cached_tokens': 0}}, 'model_name': 'gpt-4o-2024-08-06', 'system_fingerprint': 'fp_eb9dce56a8', 'finish_reason': 'tool_calls', 'logprobs': None}, id='run-5916b31b-a351-4d74-be51-8dcbbe54a3b6-0', tool_calls=[{'name': 'get_weather', 'args': {'location': 'Munich'}, 'id': 'call_sWjOHgpVGB9zJNC8WpRz5CAv', 'type': 'tool_call'}], usage_metadata={'input_tokens': 72, 'output_tokens': 16, 'total_tokens': 88, 'input_token_details': {'audio': 0, 'cache_read': 0}, 'output_token_details': {'audio': 0, 'reasoning': 0}}), ToolMessage(content='It is only 5°C warm today!', id='ba07c9a0-710a-468f-947a-c60e7e24c8c6', tool_call_id='call_sWjOHgpVGB9zJNC8WpRz5CAv'), AIMessage(content='It is only 5°C warm today!', additional_kwargs={}, response_metadata={}, id='e2f575f7-029c-477d-8629-25e00479c9ac')]\n"
     ]
    }
   ],
   "source": [
    "print((graph.get_state(config).values['messages']))"
   ]
  },
  {
   "cell_type": "code",
   "execution_count": 42,
   "metadata": {},
   "outputs": [
    {
     "data": {
      "text/plain": [
       "{'messages': [HumanMessage(content='How is the weather in Munich?', additional_kwargs={}, response_metadata={}, id='1890033d-58bb-43c1-8e21-caab2725232d'),\n",
       "  AIMessage(content='', additional_kwargs={'tool_calls': [{'id': 'call_sWjOHgpVGB9zJNC8WpRz5CAv', 'function': {'arguments': '{\"location\":\"Munich\"}', 'name': 'get_weather'}, 'type': 'function'}], 'refusal': None}, response_metadata={'token_usage': {'completion_tokens': 16, 'prompt_tokens': 72, 'total_tokens': 88, 'completion_tokens_details': {'accepted_prediction_tokens': 0, 'audio_tokens': 0, 'reasoning_tokens': 0, 'rejected_prediction_tokens': 0}, 'prompt_tokens_details': {'audio_tokens': 0, 'cached_tokens': 0}}, 'model_name': 'gpt-4o-2024-08-06', 'system_fingerprint': 'fp_eb9dce56a8', 'finish_reason': 'tool_calls', 'logprobs': None}, id='run-5916b31b-a351-4d74-be51-8dcbbe54a3b6-0', tool_calls=[{'name': 'get_weather', 'args': {'location': 'Munich'}, 'id': 'call_sWjOHgpVGB9zJNC8WpRz5CAv', 'type': 'tool_call'}], usage_metadata={'input_tokens': 72, 'output_tokens': 16, 'total_tokens': 88, 'input_token_details': {'audio': 0, 'cache_read': 0}, 'output_token_details': {'audio': 0, 'reasoning': 0}}),\n",
       "  ToolMessage(content='It is only 5°C warm today!', id='ba07c9a0-710a-468f-947a-c60e7e24c8c6', tool_call_id='call_sWjOHgpVGB9zJNC8WpRz5CAv'),\n",
       "  AIMessage(content='It is only 5°C warm today!', additional_kwargs={}, response_metadata={}, id='e2f575f7-029c-477d-8629-25e00479c9ac'),\n",
       "  HumanMessage(content='How warm was it again?', additional_kwargs={}, response_metadata={}, id='4c49d9f9-33b1-491c-ba47-2e140a1dd499'),\n",
       "  AIMessage(content='It was 5°C warm in Munich.', additional_kwargs={'refusal': None}, response_metadata={'token_usage': {'completion_tokens': 11, 'prompt_tokens': 127, 'total_tokens': 138, 'completion_tokens_details': {'accepted_prediction_tokens': 0, 'audio_tokens': 0, 'reasoning_tokens': 0, 'rejected_prediction_tokens': 0}, 'prompt_tokens_details': {'audio_tokens': 0, 'cached_tokens': 0}}, 'model_name': 'gpt-4o-2024-08-06', 'system_fingerprint': 'fp_eb9dce56a8', 'finish_reason': 'stop', 'logprobs': None}, id='run-4b19837a-72e8-424c-8fa1-07204659f0c2-0', usage_metadata={'input_tokens': 127, 'output_tokens': 11, 'total_tokens': 138, 'input_token_details': {'audio': 0, 'cache_read': 0}, 'output_token_details': {'audio': 0, 'reasoning': 0}})]}"
      ]
     },
     "execution_count": 42,
     "metadata": {},
     "output_type": "execute_result"
    }
   ],
   "source": [
    "# una volta aggiornato lo stato facciamo una domanda di follow-up\n",
    "# e ci dovrebbe restiture la risposta \"It only 5 C warm today\" dato che no deve\n",
    "# andare nel nodo \"tools\", ma produce direttamnete una risposta l'llm\n",
    "\n",
    "config = {\"configurable\": {\"thread_id\": \"4\"}}\n",
    "\n",
    "input_message = HumanMessage(content=\"How warm was it again?\")\n",
    "\n",
    "graph.invoke({\"messages\": input_message}, config=config)"
   ]
  },
  {
   "cell_type": "markdown",
   "metadata": {},
   "source": [
    "Abbiamo ottenuto questo senza effettuare effettivamente il tool, ma manipolando noi stessi il flusso inserendo a mano i messagi ToolMessage e AIMessage. E se si domanda ancora quanto è caldo era oggi, l'LLM si basa sulla storia dei messaggi e risponde correttamente."
   ]
  },
  {
   "cell_type": "markdown",
   "metadata": {},
   "source": [
    "## Replay\n",
    "\n",
    "I Checkpoints salvano lo stato del grafo in varie fasi, quindi ci consentono di riavviare il grafo da un punto specifico quando è necessario.\n",
    "\n",
    "Possiamo ottenere la storia completa degli stati del grafo fornendo il config object e utilizzando il metodo get_state_history()"
   ]
  },
  {
   "cell_type": "code",
   "execution_count": 43,
   "metadata": {},
   "outputs": [
    {
     "data": {
      "text/plain": [
       "[StateSnapshot(values={'messages': [HumanMessage(content='How is the weather in Munich?', additional_kwargs={}, response_metadata={}, id='1890033d-58bb-43c1-8e21-caab2725232d'), AIMessage(content='', additional_kwargs={'tool_calls': [{'id': 'call_sWjOHgpVGB9zJNC8WpRz5CAv', 'function': {'arguments': '{\"location\":\"Munich\"}', 'name': 'get_weather'}, 'type': 'function'}], 'refusal': None}, response_metadata={'token_usage': {'completion_tokens': 16, 'prompt_tokens': 72, 'total_tokens': 88, 'completion_tokens_details': {'accepted_prediction_tokens': 0, 'audio_tokens': 0, 'reasoning_tokens': 0, 'rejected_prediction_tokens': 0}, 'prompt_tokens_details': {'audio_tokens': 0, 'cached_tokens': 0}}, 'model_name': 'gpt-4o-2024-08-06', 'system_fingerprint': 'fp_eb9dce56a8', 'finish_reason': 'tool_calls', 'logprobs': None}, id='run-5916b31b-a351-4d74-be51-8dcbbe54a3b6-0', tool_calls=[{'name': 'get_weather', 'args': {'location': 'Munich'}, 'id': 'call_sWjOHgpVGB9zJNC8WpRz5CAv', 'type': 'tool_call'}], usage_metadata={'input_tokens': 72, 'output_tokens': 16, 'total_tokens': 88, 'input_token_details': {'audio': 0, 'cache_read': 0}, 'output_token_details': {'audio': 0, 'reasoning': 0}}), ToolMessage(content='It is only 5°C warm today!', id='ba07c9a0-710a-468f-947a-c60e7e24c8c6', tool_call_id='call_sWjOHgpVGB9zJNC8WpRz5CAv'), AIMessage(content='It is only 5°C warm today!', additional_kwargs={}, response_metadata={}, id='e2f575f7-029c-477d-8629-25e00479c9ac'), HumanMessage(content='How warm was it again?', additional_kwargs={}, response_metadata={}, id='4c49d9f9-33b1-491c-ba47-2e140a1dd499'), AIMessage(content='It was 5°C warm in Munich.', additional_kwargs={'refusal': None}, response_metadata={'token_usage': {'completion_tokens': 11, 'prompt_tokens': 127, 'total_tokens': 138, 'completion_tokens_details': {'accepted_prediction_tokens': 0, 'audio_tokens': 0, 'reasoning_tokens': 0, 'rejected_prediction_tokens': 0}, 'prompt_tokens_details': {'audio_tokens': 0, 'cached_tokens': 0}}, 'model_name': 'gpt-4o-2024-08-06', 'system_fingerprint': 'fp_eb9dce56a8', 'finish_reason': 'stop', 'logprobs': None}, id='run-4b19837a-72e8-424c-8fa1-07204659f0c2-0', usage_metadata={'input_tokens': 127, 'output_tokens': 11, 'total_tokens': 138, 'input_token_details': {'audio': 0, 'cache_read': 0}, 'output_token_details': {'audio': 0, 'reasoning': 0}})]}, next=(), config={'configurable': {'thread_id': '4', 'checkpoint_ns': '', 'checkpoint_id': '1efff483-38af-6600-8005-996e49ab7042'}}, metadata={'source': 'loop', 'writes': {'chatbot': {'messages': [AIMessage(content='It was 5°C warm in Munich.', additional_kwargs={'refusal': None}, response_metadata={'token_usage': {'completion_tokens': 11, 'prompt_tokens': 127, 'total_tokens': 138, 'completion_tokens_details': {'accepted_prediction_tokens': 0, 'audio_tokens': 0, 'reasoning_tokens': 0, 'rejected_prediction_tokens': 0}, 'prompt_tokens_details': {'audio_tokens': 0, 'cached_tokens': 0}}, 'model_name': 'gpt-4o-2024-08-06', 'system_fingerprint': 'fp_eb9dce56a8', 'finish_reason': 'stop', 'logprobs': None}, id='run-4b19837a-72e8-424c-8fa1-07204659f0c2-0', usage_metadata={'input_tokens': 127, 'output_tokens': 11, 'total_tokens': 138, 'input_token_details': {'audio': 0, 'cache_read': 0}, 'output_token_details': {'audio': 0, 'reasoning': 0}})]}}, 'thread_id': '4', 'step': 5, 'parents': {}}, created_at='2025-03-12T13:45:03.924787+00:00', parent_config={'configurable': {'thread_id': '4', 'checkpoint_ns': '', 'checkpoint_id': '1efff483-2935-6ba4-8004-e856639bd9fc'}}, tasks=()),\n",
       " StateSnapshot(values={'messages': [HumanMessage(content='How is the weather in Munich?', additional_kwargs={}, response_metadata={}, id='1890033d-58bb-43c1-8e21-caab2725232d'), AIMessage(content='', additional_kwargs={'tool_calls': [{'id': 'call_sWjOHgpVGB9zJNC8WpRz5CAv', 'function': {'arguments': '{\"location\":\"Munich\"}', 'name': 'get_weather'}, 'type': 'function'}], 'refusal': None}, response_metadata={'token_usage': {'completion_tokens': 16, 'prompt_tokens': 72, 'total_tokens': 88, 'completion_tokens_details': {'accepted_prediction_tokens': 0, 'audio_tokens': 0, 'reasoning_tokens': 0, 'rejected_prediction_tokens': 0}, 'prompt_tokens_details': {'audio_tokens': 0, 'cached_tokens': 0}}, 'model_name': 'gpt-4o-2024-08-06', 'system_fingerprint': 'fp_eb9dce56a8', 'finish_reason': 'tool_calls', 'logprobs': None}, id='run-5916b31b-a351-4d74-be51-8dcbbe54a3b6-0', tool_calls=[{'name': 'get_weather', 'args': {'location': 'Munich'}, 'id': 'call_sWjOHgpVGB9zJNC8WpRz5CAv', 'type': 'tool_call'}], usage_metadata={'input_tokens': 72, 'output_tokens': 16, 'total_tokens': 88, 'input_token_details': {'audio': 0, 'cache_read': 0}, 'output_token_details': {'audio': 0, 'reasoning': 0}}), ToolMessage(content='It is only 5°C warm today!', id='ba07c9a0-710a-468f-947a-c60e7e24c8c6', tool_call_id='call_sWjOHgpVGB9zJNC8WpRz5CAv'), AIMessage(content='It is only 5°C warm today!', additional_kwargs={}, response_metadata={}, id='e2f575f7-029c-477d-8629-25e00479c9ac'), HumanMessage(content='How warm was it again?', additional_kwargs={}, response_metadata={}, id='4c49d9f9-33b1-491c-ba47-2e140a1dd499')]}, next=('chatbot',), config={'configurable': {'thread_id': '4', 'checkpoint_ns': '', 'checkpoint_id': '1efff483-2935-6ba4-8004-e856639bd9fc'}}, metadata={'source': 'loop', 'writes': None, 'thread_id': '4', 'step': 4, 'parents': {}}, created_at='2025-03-12T13:45:02.302096+00:00', parent_config={'configurable': {'thread_id': '4', 'checkpoint_ns': '', 'checkpoint_id': '1efff483-2934-6228-8003-fa6213eadbbb'}}, tasks=(PregelTask(id='75eb5c71-1a1b-1514-9ff4-cbbf9104df07', name='chatbot', path=('__pregel_pull', 'chatbot'), error=None, interrupts=(), state=None, result={'messages': [AIMessage(content='It was 5°C warm in Munich.', additional_kwargs={'refusal': None}, response_metadata={'token_usage': {'completion_tokens': 11, 'prompt_tokens': 127, 'total_tokens': 138, 'completion_tokens_details': {'accepted_prediction_tokens': 0, 'audio_tokens': 0, 'reasoning_tokens': 0, 'rejected_prediction_tokens': 0}, 'prompt_tokens_details': {'audio_tokens': 0, 'cached_tokens': 0}}, 'model_name': 'gpt-4o-2024-08-06', 'system_fingerprint': 'fp_eb9dce56a8', 'finish_reason': 'stop', 'logprobs': None}, id='run-4b19837a-72e8-424c-8fa1-07204659f0c2-0', usage_metadata={'input_tokens': 127, 'output_tokens': 11, 'total_tokens': 138, 'input_token_details': {'audio': 0, 'cache_read': 0}, 'output_token_details': {'audio': 0, 'reasoning': 0}})]}),)),\n",
       " StateSnapshot(values={'messages': [HumanMessage(content='How is the weather in Munich?', additional_kwargs={}, response_metadata={}, id='1890033d-58bb-43c1-8e21-caab2725232d'), AIMessage(content='', additional_kwargs={'tool_calls': [{'id': 'call_sWjOHgpVGB9zJNC8WpRz5CAv', 'function': {'arguments': '{\"location\":\"Munich\"}', 'name': 'get_weather'}, 'type': 'function'}], 'refusal': None}, response_metadata={'token_usage': {'completion_tokens': 16, 'prompt_tokens': 72, 'total_tokens': 88, 'completion_tokens_details': {'accepted_prediction_tokens': 0, 'audio_tokens': 0, 'reasoning_tokens': 0, 'rejected_prediction_tokens': 0}, 'prompt_tokens_details': {'audio_tokens': 0, 'cached_tokens': 0}}, 'model_name': 'gpt-4o-2024-08-06', 'system_fingerprint': 'fp_eb9dce56a8', 'finish_reason': 'tool_calls', 'logprobs': None}, id='run-5916b31b-a351-4d74-be51-8dcbbe54a3b6-0', tool_calls=[{'name': 'get_weather', 'args': {'location': 'Munich'}, 'id': 'call_sWjOHgpVGB9zJNC8WpRz5CAv', 'type': 'tool_call'}], usage_metadata={'input_tokens': 72, 'output_tokens': 16, 'total_tokens': 88, 'input_token_details': {'audio': 0, 'cache_read': 0}, 'output_token_details': {'audio': 0, 'reasoning': 0}}), ToolMessage(content='It is only 5°C warm today!', id='ba07c9a0-710a-468f-947a-c60e7e24c8c6', tool_call_id='call_sWjOHgpVGB9zJNC8WpRz5CAv'), AIMessage(content='It is only 5°C warm today!', additional_kwargs={}, response_metadata={}, id='e2f575f7-029c-477d-8629-25e00479c9ac')]}, next=('__start__',), config={'configurable': {'thread_id': '4', 'checkpoint_ns': '', 'checkpoint_id': '1efff483-2934-6228-8003-fa6213eadbbb'}}, metadata={'source': 'input', 'writes': {'__start__': {'messages': HumanMessage(content='How warm was it again?', additional_kwargs={}, response_metadata={})}}, 'thread_id': '4', 'step': 3, 'parents': {}}, created_at='2025-03-12T13:45:02.301444+00:00', parent_config={'configurable': {'thread_id': '4', 'checkpoint_ns': '', 'checkpoint_id': '1efff46b-7415-68f0-8002-0cdc7e2eb0db'}}, tasks=(PregelTask(id='a549cd1f-6ab5-43d7-c624-c77c3a60e6bf', name='__start__', path=('__pregel_pull', '__start__'), error=None, interrupts=(), state=None, result={'messages': HumanMessage(content='How warm was it again?', additional_kwargs={}, response_metadata={}, id='4c49d9f9-33b1-491c-ba47-2e140a1dd499')}),)),\n",
       " StateSnapshot(values={'messages': [HumanMessage(content='How is the weather in Munich?', additional_kwargs={}, response_metadata={}, id='1890033d-58bb-43c1-8e21-caab2725232d'), AIMessage(content='', additional_kwargs={'tool_calls': [{'id': 'call_sWjOHgpVGB9zJNC8WpRz5CAv', 'function': {'arguments': '{\"location\":\"Munich\"}', 'name': 'get_weather'}, 'type': 'function'}], 'refusal': None}, response_metadata={'token_usage': {'completion_tokens': 16, 'prompt_tokens': 72, 'total_tokens': 88, 'completion_tokens_details': {'accepted_prediction_tokens': 0, 'audio_tokens': 0, 'reasoning_tokens': 0, 'rejected_prediction_tokens': 0}, 'prompt_tokens_details': {'audio_tokens': 0, 'cached_tokens': 0}}, 'model_name': 'gpt-4o-2024-08-06', 'system_fingerprint': 'fp_eb9dce56a8', 'finish_reason': 'tool_calls', 'logprobs': None}, id='run-5916b31b-a351-4d74-be51-8dcbbe54a3b6-0', tool_calls=[{'name': 'get_weather', 'args': {'location': 'Munich'}, 'id': 'call_sWjOHgpVGB9zJNC8WpRz5CAv', 'type': 'tool_call'}], usage_metadata={'input_tokens': 72, 'output_tokens': 16, 'total_tokens': 88, 'input_token_details': {'audio': 0, 'cache_read': 0}, 'output_token_details': {'audio': 0, 'reasoning': 0}}), ToolMessage(content='It is only 5°C warm today!', id='ba07c9a0-710a-468f-947a-c60e7e24c8c6', tool_call_id='call_sWjOHgpVGB9zJNC8WpRz5CAv'), AIMessage(content='It is only 5°C warm today!', additional_kwargs={}, response_metadata={}, id='e2f575f7-029c-477d-8629-25e00479c9ac')]}, next=(), config={'configurable': {'thread_id': '4', 'checkpoint_ns': '', 'checkpoint_id': '1efff46b-7415-68f0-8002-0cdc7e2eb0db'}}, metadata={'source': 'update', 'writes': {'chatbot': {'messages': [ToolMessage(content='It is only 5°C warm today!', id='ba07c9a0-710a-468f-947a-c60e7e24c8c6', tool_call_id='call_sWjOHgpVGB9zJNC8WpRz5CAv'), AIMessage(content='It is only 5°C warm today!', additional_kwargs={}, response_metadata={}, id='e2f575f7-029c-477d-8629-25e00479c9ac')]}}, 'thread_id': '4', 'step': 2, 'parents': {}}, created_at='2025-03-12T13:34:25.907140+00:00', parent_config={'configurable': {'thread_id': '4', 'checkpoint_ns': '', 'checkpoint_id': '1efff432-ee61-604e-8001-78d59fd8b9bc'}}, tasks=()),\n",
       " StateSnapshot(values={'messages': [HumanMessage(content='How is the weather in Munich?', additional_kwargs={}, response_metadata={}, id='1890033d-58bb-43c1-8e21-caab2725232d'), AIMessage(content='', additional_kwargs={'tool_calls': [{'id': 'call_sWjOHgpVGB9zJNC8WpRz5CAv', 'function': {'arguments': '{\"location\":\"Munich\"}', 'name': 'get_weather'}, 'type': 'function'}], 'refusal': None}, response_metadata={'token_usage': {'completion_tokens': 16, 'prompt_tokens': 72, 'total_tokens': 88, 'completion_tokens_details': {'accepted_prediction_tokens': 0, 'audio_tokens': 0, 'reasoning_tokens': 0, 'rejected_prediction_tokens': 0}, 'prompt_tokens_details': {'audio_tokens': 0, 'cached_tokens': 0}}, 'model_name': 'gpt-4o-2024-08-06', 'system_fingerprint': 'fp_eb9dce56a8', 'finish_reason': 'tool_calls', 'logprobs': None}, id='run-5916b31b-a351-4d74-be51-8dcbbe54a3b6-0', tool_calls=[{'name': 'get_weather', 'args': {'location': 'Munich'}, 'id': 'call_sWjOHgpVGB9zJNC8WpRz5CAv', 'type': 'tool_call'}], usage_metadata={'input_tokens': 72, 'output_tokens': 16, 'total_tokens': 88, 'input_token_details': {'audio': 0, 'cache_read': 0}, 'output_token_details': {'audio': 0, 'reasoning': 0}})]}, next=('tools',), config={'configurable': {'thread_id': '4', 'checkpoint_ns': '', 'checkpoint_id': '1efff432-ee61-604e-8001-78d59fd8b9bc'}}, metadata={'source': 'loop', 'writes': {'chatbot': {'messages': [AIMessage(content='', additional_kwargs={'tool_calls': [{'id': 'call_sWjOHgpVGB9zJNC8WpRz5CAv', 'function': {'arguments': '{\"location\":\"Munich\"}', 'name': 'get_weather'}, 'type': 'function'}], 'refusal': None}, response_metadata={'token_usage': {'completion_tokens': 16, 'prompt_tokens': 72, 'total_tokens': 88, 'completion_tokens_details': {'accepted_prediction_tokens': 0, 'audio_tokens': 0, 'reasoning_tokens': 0, 'rejected_prediction_tokens': 0}, 'prompt_tokens_details': {'audio_tokens': 0, 'cached_tokens': 0}}, 'model_name': 'gpt-4o-2024-08-06', 'system_fingerprint': 'fp_eb9dce56a8', 'finish_reason': 'tool_calls', 'logprobs': None}, id='run-5916b31b-a351-4d74-be51-8dcbbe54a3b6-0', tool_calls=[{'name': 'get_weather', 'args': {'location': 'Munich'}, 'id': 'call_sWjOHgpVGB9zJNC8WpRz5CAv', 'type': 'tool_call'}], usage_metadata={'input_tokens': 72, 'output_tokens': 16, 'total_tokens': 88, 'input_token_details': {'audio': 0, 'cache_read': 0}, 'output_token_details': {'audio': 0, 'reasoning': 0}})]}}, 'thread_id': '4', 'step': 1, 'parents': {}}, created_at='2025-03-12T13:09:08.649582+00:00', parent_config={'configurable': {'thread_id': '4', 'checkpoint_ns': '', 'checkpoint_id': '1efff432-e1a1-6cc8-8000-063ada80489c'}}, tasks=(PregelTask(id='de22735d-b853-7270-35c7-6cce29af8c1f', name='tools', path=('__pregel_pull', 'tools'), error=None, interrupts=(), state=None, result=None),)),\n",
       " StateSnapshot(values={'messages': [HumanMessage(content='How is the weather in Munich?', additional_kwargs={}, response_metadata={}, id='1890033d-58bb-43c1-8e21-caab2725232d')]}, next=('chatbot',), config={'configurable': {'thread_id': '4', 'checkpoint_ns': '', 'checkpoint_id': '1efff432-e1a1-6cc8-8000-063ada80489c'}}, metadata={'source': 'loop', 'writes': None, 'thread_id': '4', 'step': 0, 'parents': {}}, created_at='2025-03-12T13:09:07.312967+00:00', parent_config={'configurable': {'thread_id': '4', 'checkpoint_ns': '', 'checkpoint_id': '1efff432-e19e-6f51-bfff-46100a3af82d'}}, tasks=(PregelTask(id='a8186847-502d-453b-4e34-68aefd83f9ac', name='chatbot', path=('__pregel_pull', 'chatbot'), error=None, interrupts=(), state=None, result={'messages': [AIMessage(content='', additional_kwargs={'tool_calls': [{'id': 'call_sWjOHgpVGB9zJNC8WpRz5CAv', 'function': {'arguments': '{\"location\":\"Munich\"}', 'name': 'get_weather'}, 'type': 'function'}], 'refusal': None}, response_metadata={'token_usage': {'completion_tokens': 16, 'prompt_tokens': 72, 'total_tokens': 88, 'completion_tokens_details': {'accepted_prediction_tokens': 0, 'audio_tokens': 0, 'reasoning_tokens': 0, 'rejected_prediction_tokens': 0}, 'prompt_tokens_details': {'audio_tokens': 0, 'cached_tokens': 0}}, 'model_name': 'gpt-4o-2024-08-06', 'system_fingerprint': 'fp_eb9dce56a8', 'finish_reason': 'tool_calls', 'logprobs': None}, id='run-5916b31b-a351-4d74-be51-8dcbbe54a3b6-0', tool_calls=[{'name': 'get_weather', 'args': {'location': 'Munich'}, 'id': 'call_sWjOHgpVGB9zJNC8WpRz5CAv', 'type': 'tool_call'}], usage_metadata={'input_tokens': 72, 'output_tokens': 16, 'total_tokens': 88, 'input_token_details': {'audio': 0, 'cache_read': 0}, 'output_token_details': {'audio': 0, 'reasoning': 0}})]}),)),\n",
       " StateSnapshot(values={'messages': []}, next=('__start__',), config={'configurable': {'thread_id': '4', 'checkpoint_ns': '', 'checkpoint_id': '1efff432-e19e-6f51-bfff-46100a3af82d'}}, metadata={'source': 'input', 'writes': {'__start__': {'messages': HumanMessage(content='How is the weather in Munich?', additional_kwargs={}, response_metadata={})}}, 'thread_id': '4', 'step': -1, 'parents': {}}, created_at='2025-03-12T13:09:07.311803+00:00', parent_config=None, tasks=(PregelTask(id='a7087e35-a76c-abc7-9046-49760e9bc2fa', name='__start__', path=('__pregel_pull', '__start__'), error=None, interrupts=(), state=None, result={'messages': HumanMessage(content='How is the weather in Munich?', additional_kwargs={}, response_metadata={}, id='1890033d-58bb-43c1-8e21-caab2725232d')}),))]"
      ]
     },
     "execution_count": 43,
     "metadata": {},
     "output_type": "execute_result"
    }
   ],
   "source": [
    "all_checkpoints = []\n",
    "\n",
    "for state in graph.get_state_history(config=config):\n",
    "    all_checkpoints.append(state)\n",
    "\n",
    "all_checkpoints"
   ]
  },
  {
   "cell_type": "code",
   "execution_count": 57,
   "metadata": {},
   "outputs": [
    {
     "data": {
      "text/plain": [
       "{'messages': [HumanMessage(content='How is the weather in Munich?', additional_kwargs={}, response_metadata={}, id='1890033d-58bb-43c1-8e21-caab2725232d'),\n",
       "  AIMessage(content='', additional_kwargs={'tool_calls': [{'id': 'call_sWjOHgpVGB9zJNC8WpRz5CAv', 'function': {'arguments': '{\"location\":\"Munich\"}', 'name': 'get_weather'}, 'type': 'function'}], 'refusal': None}, response_metadata={'token_usage': {'completion_tokens': 16, 'prompt_tokens': 72, 'total_tokens': 88, 'completion_tokens_details': {'accepted_prediction_tokens': 0, 'audio_tokens': 0, 'reasoning_tokens': 0, 'rejected_prediction_tokens': 0}, 'prompt_tokens_details': {'audio_tokens': 0, 'cached_tokens': 0}}, 'model_name': 'gpt-4o-2024-08-06', 'system_fingerprint': 'fp_eb9dce56a8', 'finish_reason': 'tool_calls', 'logprobs': None}, id='run-5916b31b-a351-4d74-be51-8dcbbe54a3b6-0', tool_calls=[{'name': 'get_weather', 'args': {'location': 'Munich'}, 'id': 'call_sWjOHgpVGB9zJNC8WpRz5CAv', 'type': 'tool_call'}], usage_metadata={'input_tokens': 72, 'output_tokens': 16, 'total_tokens': 88, 'input_token_details': {'audio': 0, 'cache_read': 0}, 'output_token_details': {'audio': 0, 'reasoning': 0}})]}"
      ]
     },
     "execution_count": 57,
     "metadata": {},
     "output_type": "execute_result"
    }
   ],
   "source": [
    "# StateSnapShot con indice più alto (l'ultimo) è il primo stato del grafo cioè quando entra nel grafo\n",
    "to_replay = all_checkpoints[4]\n",
    "to_replay.values"
   ]
  },
  {
   "cell_type": "code",
   "execution_count": 58,
   "metadata": {},
   "outputs": [
    {
     "data": {
      "text/plain": [
       "('tools',)"
      ]
     },
     "execution_count": 58,
     "metadata": {},
     "output_type": "execute_result"
    }
   ],
   "source": [
    "# dal checkpoint 4 il prossimo step sarebbe andare nel nodo ToolNode\n",
    "# che abbiamo simulato aggiungendo i messaggi a mano\n",
    "to_replay.next"
   ]
  },
  {
   "cell_type": "code",
   "execution_count": null,
   "metadata": {},
   "outputs": [
    {
     "data": {
      "text/plain": [
       "{'configurable': {'thread_id': '4',\n",
       "  'checkpoint_ns': '',\n",
       "  'checkpoint_id': '1efff432-ee61-604e-8001-78d59fd8b9bc'}}"
      ]
     },
     "execution_count": 59,
     "metadata": {},
     "output_type": "execute_result"
    }
   ],
   "source": [
    "# la configurazione al checkpoint 4 è:\n",
    "# vediamo che c'è il checkpoint_id\n",
    "to_replay.config"
   ]
  },
  {
   "cell_type": "code",
   "execution_count": 60,
   "metadata": {},
   "outputs": [
    {
     "data": {
      "text/plain": [
       "{'messages': [HumanMessage(content='How is the weather in Munich?', additional_kwargs={}, response_metadata={}, id='1890033d-58bb-43c1-8e21-caab2725232d'),\n",
       "  AIMessage(content='', additional_kwargs={'tool_calls': [{'id': 'call_sWjOHgpVGB9zJNC8WpRz5CAv', 'function': {'arguments': '{\"location\":\"Munich\"}', 'name': 'get_weather'}, 'type': 'function'}], 'refusal': None}, response_metadata={'token_usage': {'completion_tokens': 16, 'prompt_tokens': 72, 'total_tokens': 88, 'completion_tokens_details': {'accepted_prediction_tokens': 0, 'audio_tokens': 0, 'reasoning_tokens': 0, 'rejected_prediction_tokens': 0}, 'prompt_tokens_details': {'audio_tokens': 0, 'cached_tokens': 0}}, 'model_name': 'gpt-4o-2024-08-06', 'system_fingerprint': 'fp_eb9dce56a8', 'finish_reason': 'tool_calls', 'logprobs': None}, id='run-5916b31b-a351-4d74-be51-8dcbbe54a3b6-0', tool_calls=[{'name': 'get_weather', 'args': {'location': 'Munich'}, 'id': 'call_sWjOHgpVGB9zJNC8WpRz5CAv', 'type': 'tool_call'}], usage_metadata={'input_tokens': 72, 'output_tokens': 16, 'total_tokens': 88, 'input_token_details': {'audio': 0, 'cache_read': 0}, 'output_token_details': {'audio': 0, 'reasoning': 0}}),\n",
       "  ToolMessage(content=\"It's 15 degrees Celsius and cloudy.\", name='get_weather', id='9925021c-bdee-490c-a16f-b04c8b79ab12', tool_call_id='call_sWjOHgpVGB9zJNC8WpRz5CAv'),\n",
       "  AIMessage(content='The weather in Munich is currently 15 degrees Celsius and cloudy.', additional_kwargs={'refusal': None}, response_metadata={'token_usage': {'completion_tokens': 15, 'prompt_tokens': 103, 'total_tokens': 118, 'completion_tokens_details': {'accepted_prediction_tokens': 0, 'audio_tokens': 0, 'reasoning_tokens': 0, 'rejected_prediction_tokens': 0}, 'prompt_tokens_details': {'audio_tokens': 0, 'cached_tokens': 0}}, 'model_name': 'gpt-4o-2024-08-06', 'system_fingerprint': 'fp_eb9dce56a8', 'finish_reason': 'stop', 'logprobs': None}, id='run-2919ece5-9dcc-477e-bb45-8b7da375791d-0', usage_metadata={'input_tokens': 103, 'output_tokens': 15, 'total_tokens': 118, 'input_token_details': {'audio': 0, 'cache_read': 0}, 'output_token_details': {'audio': 0, 'reasoning': 0}})]}"
      ]
     },
     "execution_count": 60,
     "metadata": {},
     "output_type": "execute_result"
    }
   ],
   "source": [
    "# se chiamamo il grafo da questo punto passando come primo parametro\n",
    "# None dato che avevamo dato il messaggio all'inizio\n",
    "# da questo punto è dove si procede poi a chiamare il nodo tool\n",
    "graph.invoke(None, config=to_replay.config) "
   ]
  },
  {
   "cell_type": "markdown",
   "metadata": {},
   "source": [
    "## Branching off past state (diramazione dallo stato passato)\n",
    "\n",
    "Possiamo utilizzare questo meccanismo per tornare indietro nel tempo (in un checkpoint passato) e soltanto ripartire da un certo punto, ma possiamo anche editare un vecchio stato.\n",
    "\n",
    "Quindi in questo caso non vogliamo usare il tool \"get_weather\", ma vogliamo usare un'altro tool.\n",
    "\n",
    "Dunque, se prendiamo il nostro ultimo messaggio allora possiamo vedere che il tool call che che si userebbe è \"get_weather\" con argomento location: Munich.\n",
    "\n",
    "Tuttavia, avevamo creato un'altro tool chiamato \"broken_api\" con la stessa descrizione del tool \"get_weather\" ma che restituisce il messaggio \"Currently no weather data available for {location}\"\n",
    "\n",
    "Quindi, per fare ciò dobbiamo aggiornare il tool_calls attribute."
   ]
  },
  {
   "cell_type": "code",
   "execution_count": 61,
   "metadata": {},
   "outputs": [],
   "source": [
    "# prendiamo lo stato dove l'ultimo messagio è AIMessage con tool_calls \n",
    "# con \"get_weather\"\n",
    "last_message = to_replay.values['messages'][-1]"
   ]
  },
  {
   "cell_type": "code",
   "execution_count": 62,
   "metadata": {},
   "outputs": [
    {
     "data": {
      "text/plain": [
       "[{'name': 'get_weather',\n",
       "  'args': {'location': 'Munich'},\n",
       "  'id': 'call_sWjOHgpVGB9zJNC8WpRz5CAv',\n",
       "  'type': 'tool_call'}]"
      ]
     },
     "execution_count": 62,
     "metadata": {},
     "output_type": "execute_result"
    }
   ],
   "source": [
    "last_message.tool_calls"
   ]
  },
  {
   "cell_type": "code",
   "execution_count": 65,
   "metadata": {},
   "outputs": [
    {
     "data": {
      "text/plain": [
       "[{'name': 'broken_api',\n",
       "  'args': {'location': 'Munich'},\n",
       "  'id': 'call_sWjOHgpVGB9zJNC8WpRz5CAv',\n",
       "  'type': 'tool_call'}]"
      ]
     },
     "execution_count": 65,
     "metadata": {},
     "output_type": "execute_result"
    }
   ],
   "source": [
    "last_message.tool_calls[0][\"name\"] = \"broken_api\"\n",
    "last_message.tool_calls"
   ]
  },
  {
   "cell_type": "code",
   "execution_count": 66,
   "metadata": {},
   "outputs": [],
   "source": [
    "# aggiorniamo il tool_calls attribute per far si che chiami \n",
    "# il tool broke_api e non get_weather\n",
    "branch_config = graph.update_state(\n",
    "    to_replay.config,\n",
    "    {\"messages\": [last_message]}\n",
    ")"
   ]
  },
  {
   "cell_type": "code",
   "execution_count": 67,
   "metadata": {},
   "outputs": [
    {
     "data": {
      "text/plain": [
       "{'messages': [HumanMessage(content='How is the weather in Munich?', additional_kwargs={}, response_metadata={}, id='1890033d-58bb-43c1-8e21-caab2725232d'),\n",
       "  AIMessage(content='', additional_kwargs={'tool_calls': [{'id': 'call_sWjOHgpVGB9zJNC8WpRz5CAv', 'function': {'arguments': '{\"location\":\"Munich\"}', 'name': 'get_weather'}, 'type': 'function'}], 'refusal': None}, response_metadata={'token_usage': {'completion_tokens': 16, 'prompt_tokens': 72, 'total_tokens': 88, 'completion_tokens_details': {'accepted_prediction_tokens': 0, 'audio_tokens': 0, 'reasoning_tokens': 0, 'rejected_prediction_tokens': 0}, 'prompt_tokens_details': {'audio_tokens': 0, 'cached_tokens': 0}}, 'model_name': 'gpt-4o-2024-08-06', 'system_fingerprint': 'fp_eb9dce56a8', 'finish_reason': 'tool_calls', 'logprobs': None}, id='run-5916b31b-a351-4d74-be51-8dcbbe54a3b6-0', tool_calls=[{'name': 'broken_api', 'args': {'location': 'Munich'}, 'id': 'call_sWjOHgpVGB9zJNC8WpRz5CAv', 'type': 'tool_call'}], usage_metadata={'input_tokens': 72, 'output_tokens': 16, 'total_tokens': 88, 'input_token_details': {'audio': 0, 'cache_read': 0}, 'output_token_details': {'audio': 0, 'reasoning': 0}}),\n",
       "  ToolMessage(content='Currently no weather data available for Munich', name='broken_api', id='49e563f9-6255-4e20-8373-4d9d7ee2bf60', tool_call_id='call_sWjOHgpVGB9zJNC8WpRz5CAv'),\n",
       "  AIMessage(content='', additional_kwargs={'tool_calls': [{'id': 'call_MqQITJnzVNSZN04e1PC806FF', 'function': {'arguments': '{\"location\":\"Munich\"}', 'name': 'get_weather'}, 'type': 'function'}], 'refusal': None}, response_metadata={'token_usage': {'completion_tokens': 16, 'prompt_tokens': 103, 'total_tokens': 119, 'completion_tokens_details': {'accepted_prediction_tokens': 0, 'audio_tokens': 0, 'reasoning_tokens': 0, 'rejected_prediction_tokens': 0}, 'prompt_tokens_details': {'audio_tokens': 0, 'cached_tokens': 0}}, 'model_name': 'gpt-4o-2024-08-06', 'system_fingerprint': 'fp_eb9dce56a8', 'finish_reason': 'tool_calls', 'logprobs': None}, id='run-50840b1d-f89e-4e46-9f82-4d0592780ae7-0', tool_calls=[{'name': 'get_weather', 'args': {'location': 'Munich'}, 'id': 'call_MqQITJnzVNSZN04e1PC806FF', 'type': 'tool_call'}], usage_metadata={'input_tokens': 103, 'output_tokens': 16, 'total_tokens': 119, 'input_token_details': {'audio': 0, 'cache_read': 0}, 'output_token_details': {'audio': 0, 'reasoning': 0}})]}"
      ]
     },
     "execution_count": 67,
     "metadata": {},
     "output_type": "execute_result"
    }
   ],
   "source": [
    "# invochiamo il grafo a partire da questo stato aggiornato\n",
    "graph.invoke(None, config=branch_config)"
   ]
  },
  {
   "cell_type": "markdown",
   "metadata": {},
   "source": [
    "Vediamo che llm non restitusce una risposta dopo che è stato chiamato il tool \"broke_api\" quindi fa un'altro tool_call stavolta a \"get_weather\" il che significa che l'LLM ha identificato un'altro tool che può utilizzare dato che il tool \"broke_api\" non ha informazioni circa Munich.\n",
    "\n",
    "Ora andiamo avanti a partire da dove è arrivato lo stato cioè che fa la chiamata al tool \"get_weather\"."
   ]
  },
  {
   "cell_type": "code",
   "execution_count": 68,
   "metadata": {},
   "outputs": [
    {
     "data": {
      "text/plain": [
       "{'messages': [HumanMessage(content='How is the weather in Munich?', additional_kwargs={}, response_metadata={}, id='1890033d-58bb-43c1-8e21-caab2725232d'),\n",
       "  AIMessage(content='', additional_kwargs={'tool_calls': [{'id': 'call_sWjOHgpVGB9zJNC8WpRz5CAv', 'function': {'arguments': '{\"location\":\"Munich\"}', 'name': 'get_weather'}, 'type': 'function'}], 'refusal': None}, response_metadata={'token_usage': {'completion_tokens': 16, 'prompt_tokens': 72, 'total_tokens': 88, 'completion_tokens_details': {'accepted_prediction_tokens': 0, 'audio_tokens': 0, 'reasoning_tokens': 0, 'rejected_prediction_tokens': 0}, 'prompt_tokens_details': {'audio_tokens': 0, 'cached_tokens': 0}}, 'model_name': 'gpt-4o-2024-08-06', 'system_fingerprint': 'fp_eb9dce56a8', 'finish_reason': 'tool_calls', 'logprobs': None}, id='run-5916b31b-a351-4d74-be51-8dcbbe54a3b6-0', tool_calls=[{'name': 'broken_api', 'args': {'location': 'Munich'}, 'id': 'call_sWjOHgpVGB9zJNC8WpRz5CAv', 'type': 'tool_call'}], usage_metadata={'input_tokens': 72, 'output_tokens': 16, 'total_tokens': 88, 'input_token_details': {'audio': 0, 'cache_read': 0}, 'output_token_details': {'audio': 0, 'reasoning': 0}}),\n",
       "  ToolMessage(content='Currently no weather data available for Munich', name='broken_api', id='49e563f9-6255-4e20-8373-4d9d7ee2bf60', tool_call_id='call_sWjOHgpVGB9zJNC8WpRz5CAv'),\n",
       "  AIMessage(content='', additional_kwargs={'tool_calls': [{'id': 'call_MqQITJnzVNSZN04e1PC806FF', 'function': {'arguments': '{\"location\":\"Munich\"}', 'name': 'get_weather'}, 'type': 'function'}], 'refusal': None}, response_metadata={'token_usage': {'completion_tokens': 16, 'prompt_tokens': 103, 'total_tokens': 119, 'completion_tokens_details': {'accepted_prediction_tokens': 0, 'audio_tokens': 0, 'reasoning_tokens': 0, 'rejected_prediction_tokens': 0}, 'prompt_tokens_details': {'audio_tokens': 0, 'cached_tokens': 0}}, 'model_name': 'gpt-4o-2024-08-06', 'system_fingerprint': 'fp_eb9dce56a8', 'finish_reason': 'tool_calls', 'logprobs': None}, id='run-50840b1d-f89e-4e46-9f82-4d0592780ae7-0', tool_calls=[{'name': 'get_weather', 'args': {'location': 'Munich'}, 'id': 'call_MqQITJnzVNSZN04e1PC806FF', 'type': 'tool_call'}], usage_metadata={'input_tokens': 103, 'output_tokens': 16, 'total_tokens': 119, 'input_token_details': {'audio': 0, 'cache_read': 0}, 'output_token_details': {'audio': 0, 'reasoning': 0}}),\n",
       "  ToolMessage(content=\"It's 15 degrees Celsius and cloudy.\", name='get_weather', id='455d2c5a-8d28-472d-a67e-d6735254b053', tool_call_id='call_MqQITJnzVNSZN04e1PC806FF'),\n",
       "  AIMessage(content='The weather in Munich is currently 15 degrees Celsius and cloudy.', additional_kwargs={'refusal': None}, response_metadata={'token_usage': {'completion_tokens': 15, 'prompt_tokens': 134, 'total_tokens': 149, 'completion_tokens_details': {'accepted_prediction_tokens': 0, 'audio_tokens': 0, 'reasoning_tokens': 0, 'rejected_prediction_tokens': 0}, 'prompt_tokens_details': {'audio_tokens': 0, 'cached_tokens': 0}}, 'model_name': 'gpt-4o-2024-08-06', 'system_fingerprint': 'fp_eb9dce56a8', 'finish_reason': 'stop', 'logprobs': None}, id='run-d1088a3c-6bf3-43b5-94d4-e898c423a993-0', usage_metadata={'input_tokens': 134, 'output_tokens': 15, 'total_tokens': 149, 'input_token_details': {'audio': 0, 'cache_read': 0}, 'output_token_details': {'audio': 0, 'reasoning': 0}})]}"
      ]
     },
     "execution_count": 68,
     "metadata": {},
     "output_type": "execute_result"
    }
   ],
   "source": [
    "graph.invoke(None, config={\"configurable\": {\"thread_id\": \"4\"}})"
   ]
  },
  {
   "cell_type": "markdown",
   "metadata": {},
   "source": [
    "# Human expert as ToolNode\n",
    "\n",
    "## Wait for user input\n",
    "\n",
    "A volte l'LLM non è in grado di rispondere alla domanda stessa, o non dovrebbe essergli consentito di rispondere alla domanda.\n",
    "\n",
    "In una conversazione, vogliamo fare affidamento su un esperto umano per un task specifico.\n",
    "\n",
    "Questo può essere fatto utilizzando una **human note** e interrompendo il flusso prima di utilizzarla.\n",
    "\n",
    "Poi l'umano esperto risponderà la domanda e potremo continuare con l'esecuzione del grafo.\n",
    "\n",
    "Per determinare se dobbiamo chiedere all'esperto umano o no faremo uso del tool_calling in combinazione con un boolean flag nel nostro state object.  "
   ]
  },
  {
   "cell_type": "code",
   "execution_count": 69,
   "metadata": {},
   "outputs": [],
   "source": [
    "from typing import Annotated\n",
    "from langchain_openai import ChatOpenAI\n",
    "from typing_extensions import TypedDict\n",
    "\n",
    "from langgraph.graph import StateGraph\n",
    "from langgraph.graph.message import add_messages\n",
    "from langgraph.prebuilt import ToolNode, tools_condition\n",
    "\n",
    "class State(TypedDict):\n",
    "    messages: Annotated[list, add_messages]\n",
    "    ask_human: bool\n",
    "\n",
    "\n"
   ]
  },
  {
   "cell_type": "code",
   "execution_count": 70,
   "metadata": {},
   "outputs": [],
   "source": [
    "from langchain_core.tools import tool\n",
    "\n",
    "@tool \n",
    "def request_assistance():\n",
    "    \"\"\"Escalate the conversation to an expert. Use this if you are unable to assist directly or if the user requires suppoort beyond your permission.\n",
    "    \n",
    "    To use this function, relay the user's 'request' so the expert can provide the right guidance.\n",
    "    \"\"\"\n",
    "    return \"\" # non restituiamo niente dato che l'esperto deve rispondere"
   ]
  },
  {
   "cell_type": "code",
   "execution_count": 71,
   "metadata": {},
   "outputs": [],
   "source": [
    "tools = [get_weather]\n",
    "\n",
    "llm = ChatOpenAI(model=\"gpt-4o\")\n",
    "\n",
    "llm_with_tools = llm.bind_tools(tools + [request_assistance])\n",
    "\n",
    "def chatbot(state: State):\n",
    "    response = llm_with_tools.invoke(state['messages'])\n",
    "    ask_human = False\n",
    "    if response.tool_calls and response.tool_calls[0]['name'] == \"request_assistance\":\n",
    "        ask_human = True\n",
    "    return {\"messages\": [response], \"ask_human\": ask_human}"
   ]
  },
  {
   "cell_type": "code",
   "execution_count": null,
   "metadata": {},
   "outputs": [
    {
     "data": {
      "text/plain": [
       "<langgraph.graph.state.StateGraph at 0x23d6ac0ff10>"
      ]
     },
     "execution_count": 72,
     "metadata": {},
     "output_type": "execute_result"
    }
   ],
   "source": [
    "# ora creiamo il nostro grafo \n",
    "graph_builder = StateGraph(State)\n",
    "\n",
    "graph_builder.add_node(\"chatbot\", chatbot)\n",
    "graph_builder.add_node(\"tools\", ToolNode(tools=tools)) # al nodo ToolNode passo solo il tool \"get_weather\" no \"request_assistance\"\n",
    "\n"
   ]
  },
  {
   "cell_type": "code",
   "execution_count": 73,
   "metadata": {},
   "outputs": [
    {
     "data": {
      "text/plain": [
       "<langgraph.graph.state.StateGraph at 0x23d6ac0ff10>"
      ]
     },
     "execution_count": 73,
     "metadata": {},
     "output_type": "execute_result"
    }
   ],
   "source": [
    "from langchain_core.messages import AIMessage, ToolMessage\n",
    "\n",
    "def create_response(response: str, ai_message: AIMessage):\n",
    "    return ToolMessage(\n",
    "        content=response, \n",
    "        tool_call_id=ai_message.tool_calls[0]['id']\n",
    "    )\n",
    "\n",
    "\n",
    "def human_node(state: State):\n",
    "    new_messages = []\n",
    "    if not isinstance(state['messages'][-1], ToolMessage):\n",
    "        new_messages.append(\n",
    "            create_response(\"Plan your trip 3 months before and you don't carry a Real Madrid shirt with you\", \n",
    "            state['messages'][-1])\n",
    "        )\n",
    "    return {\n",
    "        \"messages\": new_messages, \n",
    "        \"ask_human\": False\n",
    "    }\n",
    "\n",
    "graph_builder.add_node(\"human\", human_node)"
   ]
  },
  {
   "cell_type": "code",
   "execution_count": 74,
   "metadata": {},
   "outputs": [
    {
     "data": {
      "text/plain": [
       "<langgraph.graph.state.StateGraph at 0x23d6ac0ff10>"
      ]
     },
     "execution_count": 74,
     "metadata": {},
     "output_type": "execute_result"
    }
   ],
   "source": [
    "# archi condizionali\n",
    "\n",
    "def select_next_node(state: State):\n",
    "    if state[\"ask_human\"]:\n",
    "        return \"human\"\n",
    "    return tools_condition(state) # nodo \"tools\" o nodo END\n",
    "\n",
    "graph_builder.add_conditional_edges(\n",
    "    \"chatbot\", \n",
    "    select_next_node,\n",
    "    path_map={\"human\": \"human\", \"tools\": \"tools\", \"__end__\": \"__end__\"} \n",
    ")\n"
   ]
  },
  {
   "cell_type": "code",
   "execution_count": 75,
   "metadata": {},
   "outputs": [],
   "source": [
    "graph_builder.add_edge(\"tools\", \"chatbot\")\n",
    "graph_builder.add_edge(\"human\", \"chatbot\")\n",
    "\n",
    "graph_builder.set_entry_point(\"chatbot\")\n",
    "\n",
    "checkpointer = MemorySaver()\n",
    "\n",
    "graph = graph_builder.compile(\n",
    "    checkpointer=checkpointer,\n",
    "    interrupt_before=[\"human\"]\n",
    ")"
   ]
  },
  {
   "cell_type": "code",
   "execution_count": 76,
   "metadata": {},
   "outputs": [
    {
     "data": {
      "text/plain": [
       "{'messages': [HumanMessage(content='I need some expert advice on how to plan a trip to barcelona', additional_kwargs={}, response_metadata={}, id='7a757faa-2ee7-45ea-b0f9-7e55f8aa59aa'),\n",
       "  AIMessage(content='', additional_kwargs={'tool_calls': [{'id': 'call_mLZt9DcuxUmsmsuBP71TWsyY', 'function': {'arguments': '{}', 'name': 'request_assistance'}, 'type': 'function'}], 'refusal': None}, response_metadata={'token_usage': {'completion_tokens': 12, 'prompt_tokens': 117, 'total_tokens': 129, 'completion_tokens_details': {'accepted_prediction_tokens': 0, 'audio_tokens': 0, 'reasoning_tokens': 0, 'rejected_prediction_tokens': 0}, 'prompt_tokens_details': {'audio_tokens': 0, 'cached_tokens': 0}}, 'model_name': 'gpt-4o-2024-08-06', 'system_fingerprint': 'fp_eb9dce56a8', 'finish_reason': 'tool_calls', 'logprobs': None}, id='run-e55c1867-c5d6-407f-82bb-f1d9887ff114-0', tool_calls=[{'name': 'request_assistance', 'args': {}, 'id': 'call_mLZt9DcuxUmsmsuBP71TWsyY', 'type': 'tool_call'}], usage_metadata={'input_tokens': 117, 'output_tokens': 12, 'total_tokens': 129, 'input_token_details': {'audio': 0, 'cache_read': 0}, 'output_token_details': {'audio': 0, 'reasoning': 0}})],\n",
       " 'ask_human': True}"
      ]
     },
     "execution_count": 76,
     "metadata": {},
     "output_type": "execute_result"
    }
   ],
   "source": [
    "config = {\"configurable\": {\"thread_id\": \"50\"}}\n",
    "\n",
    "input_message = HumanMessage(\n",
    "    content=\"I need some expert advice on how to plan a trip to barcelona\"\n",
    ")\n",
    "\n",
    "graph.invoke({\"messages\": input_message}, config=config)"
   ]
  },
  {
   "cell_type": "code",
   "execution_count": 77,
   "metadata": {},
   "outputs": [
    {
     "data": {
      "text/plain": [
       "{'messages': [HumanMessage(content='I need some expert advice on how to plan a trip to barcelona', additional_kwargs={}, response_metadata={}, id='7a757faa-2ee7-45ea-b0f9-7e55f8aa59aa'),\n",
       "  AIMessage(content='', additional_kwargs={'tool_calls': [{'id': 'call_mLZt9DcuxUmsmsuBP71TWsyY', 'function': {'arguments': '{}', 'name': 'request_assistance'}, 'type': 'function'}], 'refusal': None}, response_metadata={'token_usage': {'completion_tokens': 12, 'prompt_tokens': 117, 'total_tokens': 129, 'completion_tokens_details': {'accepted_prediction_tokens': 0, 'audio_tokens': 0, 'reasoning_tokens': 0, 'rejected_prediction_tokens': 0}, 'prompt_tokens_details': {'audio_tokens': 0, 'cached_tokens': 0}}, 'model_name': 'gpt-4o-2024-08-06', 'system_fingerprint': 'fp_eb9dce56a8', 'finish_reason': 'tool_calls', 'logprobs': None}, id='run-e55c1867-c5d6-407f-82bb-f1d9887ff114-0', tool_calls=[{'name': 'request_assistance', 'args': {}, 'id': 'call_mLZt9DcuxUmsmsuBP71TWsyY', 'type': 'tool_call'}], usage_metadata={'input_tokens': 117, 'output_tokens': 12, 'total_tokens': 129, 'input_token_details': {'audio': 0, 'cache_read': 0}, 'output_token_details': {'audio': 0, 'reasoning': 0}}),\n",
       "  ToolMessage(content=\"Plan your trip 3 months before and you don't carry a Real Madrid shirt with you\", id='bfc2259c-a459-4722-85a5-f418bdf32fbc', tool_call_id='call_mLZt9DcuxUmsmsuBP71TWsyY'),\n",
       "  AIMessage(content=\"I've escalated your request to an expert who can provide you with the best advice on planning your trip to Barcelona. They'll be in touch shortly! In the meantime, here's a tip: Plan your trip a few months in advance and maybe leave your Real Madrid shirt at home!\", additional_kwargs={'refusal': None}, response_metadata={'token_usage': {'completion_tokens': 57, 'prompt_tokens': 154, 'total_tokens': 211, 'completion_tokens_details': {'accepted_prediction_tokens': 0, 'audio_tokens': 0, 'reasoning_tokens': 0, 'rejected_prediction_tokens': 0}, 'prompt_tokens_details': {'audio_tokens': 0, 'cached_tokens': 0}}, 'model_name': 'gpt-4o-2024-08-06', 'system_fingerprint': 'fp_eb9dce56a8', 'finish_reason': 'stop', 'logprobs': None}, id='run-2a219112-b7f3-4fbf-a79c-26db6301acad-0', usage_metadata={'input_tokens': 154, 'output_tokens': 57, 'total_tokens': 211, 'input_token_details': {'audio': 0, 'cache_read': 0}, 'output_token_details': {'audio': 0, 'reasoning': 0}})],\n",
       " 'ask_human': False}"
      ]
     },
     "execution_count": 77,
     "metadata": {},
     "output_type": "execute_result"
    }
   ],
   "source": [
    "graph.invoke(None, config=config)"
   ]
  },
  {
   "cell_type": "markdown",
   "metadata": {},
   "source": [
    "# Command Class\n",
    "\n",
    "Nella versione 0.257 LangGraph ha introdotto la \"command class\" e la interrupt function come un nuovo modo per implementare human-in-the-loop workflows.\n",
    "\n",
    "Possiamo ancora usare l'interrupt parameter nello step di compilazione (.compile()) e LangGraph non farà apparire che è deprercato.\n",
    "\n",
    "Vediamo alcuni benefici della Command Class.\n",
    "\n",
    "La Command Class ci abilita a creare graph senza archi (edgeless), semplificando workflows consentendo transizioni più flessibili tra i nodi.\n",
    "\n",
    "Ecco come funziona:\n",
    "\n",
    "Definiamo una funzione, ma invece di restituire lo stato direttamente, restituiamo una istanza della classe command.\n",
    "\n",
    "Il costruttore di Command prende 2 parametri chiave:\n",
    "\n",
    "1. goto: specifica il prossimo nodo da eseguire \n",
    "2. update: aggiorna lo stato, il quale rimpiazza il valore che tipicamente restituiamo da un nodo. In altre parole, aggiorna lo stato per il nodo successivo (il quale è stato impostato in \"goto\")\n",
    "\n",
    "\n",
    "### New way Human in the loop: Interrupt + Command"
   ]
  },
  {
   "cell_type": "code",
   "execution_count": 2,
   "metadata": {},
   "outputs": [],
   "source": [
    "from typing import  TypedDict, Literal\n",
    "from langgraph.graph import START, END, StateGraph\n",
    "from langgraph.types import Command\n",
    "\n",
    "class InputState(TypedDict):\n",
    "    string_value: str\n",
    "    numeric_value: int\n",
    "\n",
    "def modify_state(input_state: InputState):\n",
    "    input_state[\"string_value\"] += \"a\"\n",
    "    input_state[\"numeric_value\"] += 1\n",
    "\n",
    "    return input_state\n",
    "\n",
    "\n",
    "def branch_a(state: InputState):\n",
    "    print(f\"branch_a: Current state: {state}\")\n",
    "\n",
    "    new_state = modify_state(state)\n",
    "\n",
    "    print(f\"branch_a: Updated state: {new_state}\")\n",
    "\n",
    "    return Command(\n",
    "        goto=\"branch_b\",\n",
    "        update=new_state\n",
    "    )\n",
    "\n",
    "\n",
    "def branch_b(state: InputState):\n",
    "    print(f\"branch_b: Current State: {state}\")\n",
    "\n",
    "    new_state = modify_state(state)\n",
    "\n",
    "    print(f\"branch_b: Updated state: {new_state}\")\n",
    "\n",
    "    return Command(\n",
    "        goto=\"branch_c\",\n",
    "        update=new_state\n",
    "    )\n",
    "\n",
    "\n",
    "def branch_c(state: InputState):\n",
    "    print(f\"branch_c: Current State: {state}\")\n",
    "    new_state = modify_state(state)\n",
    "    print(f\"branch_c: Updated state: {new_state}\")\n",
    "\n",
    "    return Command(\n",
    "        goto=END,\n",
    "        update=new_state\n",
    "    )"
   ]
  },
  {
   "cell_type": "code",
   "execution_count": 3,
   "metadata": {},
   "outputs": [],
   "source": [
    "# ora possiamo creare il grafo edgeless\n",
    "\n",
    "graph = StateGraph(InputState)\n",
    "\n",
    "graph.add_node(\"branch_a\", branch_a)\n",
    "graph.add_node(\"branch_b\", branch_b)\n",
    "graph.add_node(\"branch_c\", branch_c)\n",
    "graph.set_entry_point(\"branch_a\")\n",
    "\n",
    "runnable = graph.compile()"
   ]
  },
  {
   "cell_type": "code",
   "execution_count": 5,
   "metadata": {},
   "outputs": [
    {
     "name": "stdout",
     "output_type": "stream",
     "text": [
      "branch_a: Current state: {'string_value': 'Hello', 'numeric_value': 0}\n",
      "branch_a: Updated state: {'string_value': 'Helloa', 'numeric_value': 1}\n",
      "branch_b: Current State: {'string_value': 'Helloa', 'numeric_value': 1}\n",
      "branch_b: Updated state: {'string_value': 'Helloaa', 'numeric_value': 2}\n",
      "branch_c: Current State: {'string_value': 'Helloaa', 'numeric_value': 2}\n",
      "branch_c: Updated state: {'string_value': 'Helloaaa', 'numeric_value': 3}\n",
      "Final state: {'string_value': 'Helloaaa', 'numeric_value': 3}\n"
     ]
    }
   ],
   "source": [
    "initial_state = {\n",
    "    \"string_value\": \"Hello\",\n",
    "    \"numeric_value\": 0\n",
    "}\n",
    "\n",
    "final_state = runnable.invoke(initial_state)\n",
    "\n",
    "print(\"Final state:\", final_state)"
   ]
  },
  {
   "cell_type": "markdown",
   "metadata": {},
   "source": [
    "Ora implementiamo un Human in the loop workflow con interrupt function e command.\n",
    "\n",
    "Vedremo la funzione interrupt e come interagisce con Command.\n",
    "\n",
    "Interrupt è responsabile di stoppare il nodo che stiamo correntemente eseguendo.\n",
    "\n",
    "Nello step di interrupt l'utente vedrà che i dati che definiamo dentro la funzione interrupt.\n",
    "\n",
    "Memorizziamo il risultato della funzione interrupt dentro una nuova variabile chiamata human_review. \n",
    "\n",
    "Poi vedimao che ci sono due linee dove estraiamo le chiavi \"action\" e \"data\".\n",
    "\n",
    "Poi vediamo che ci sono delle codizioni in base a se il valore delle chiave \"action\" è \"update\" o \"continue.\n",
    "\n",
    "Ma dov'è che abbiamo effettivamente passato tali valori?\n",
    "\n",
    "Per questo necessitiamo della Command Class. Quando invokiamo il grafo passiamo in input una istanza di Command con uno dei suddetti valori ad es. Command(resume={\"action\": \"continue\"})\n",
    "\n",
    "Dunque la funzione interrupt utilizza i valori di Command passati nell'invocazione del grafo, estrae tali valori e determina la next action."
   ]
  },
  {
   "cell_type": "code",
   "execution_count": 18,
   "metadata": {},
   "outputs": [],
   "source": [
    "from typing import TypedDict, Literal\n",
    "from langgraph.graph import StateGraph, END, MessagesState\n",
    "from langgraph.prebuilt import ToolNode\n",
    "from langgraph.checkpoint.memory import MemorySaver\n",
    "from langgraph.types import Command, interrupt\n",
    "from langchain_openai import ChatOpenAI\n",
    "from langchain_core.tools import tool\n",
    "from IPython.display import Image, display\n",
    "\n",
    "\n",
    "@tool\n",
    "def weather_search(city: str):\n",
    "    \"\"\"Search for the weather in a specific city.\"\"\"\n",
    "\n",
    "    print(\"----\")\n",
    "    print(f\"Searching for: {city}\")\n",
    "    print(\"----\")\n",
    "    return \"Sunny!\"\n",
    "\n",
    "model = ChatOpenAI(model=\"gpt-4o\").bind_tools([weather_search])\n",
    "\n",
    "def call_llm(state):\n",
    "    return {\"messages\": [model.invoke(state[\"messages\"])]}\n",
    "\n",
    "\n",
    "def human_review_node(state) -> Command[Literal['call_llm', 'run_tool']]:\n",
    "    last_message = state['messages'][-1]\n",
    "\n",
    "    # dato che sappiamo che finiamo qui quando si fa una tool calling\n",
    "    # possiamo accedervi agli attributi del tool calling\n",
    "    tool_call = last_message.tool_calls[-1]\n",
    "\n",
    "    # funzione di interrupt\n",
    "    # come si deve comportare il workflow a questo punto\n",
    "    human_review = interrupt(\n",
    "        {\n",
    "            \"question\": \"Is this correct?\",\n",
    "            \"tool_call\": tool_call\n",
    "        }\n",
    "    )\n",
    "\n",
    "    print(\"Human review values:\", human_review)\n",
    "\n",
    "    review_action = human_review['action']\n",
    "\n",
    "    review_data = human_review.get('data')\n",
    "\n",
    "    # nel caso che dopo l'interruzione poi rieseguiamo il grafo\n",
    "    # passando in Command action = \"continue\"\n",
    "    if review_action == \"continue\":\n",
    "        return Command(goto=\"run_tool\")\n",
    "\n",
    "    # se vogliamo invece aggiornare lo stato con il feedback umano\n",
    "    # dobbiamo passare in Command, quando avviamo il grafo, sia i dati e l'azione \n",
    "    # \"update\"\n",
    "    if review_action == \"update\":\n",
    "        updated_message = {\n",
    "            \"role\": \"ai\",\n",
    "            \"content\": last_message.content,\n",
    "            \"tool_calls\": [\n",
    "                {\n",
    "                    \"id\": tool_call['id'],\n",
    "                    \"name\": tool_call['name'],\n",
    "                    \"args\": review_data\n",
    "                }\n",
    "            ],\n",
    "            \"id\": last_message.id\n",
    "        }\n",
    "\n",
    "        return Command(goto=\"run_tool\", update={\"messages\": [updated_message]})\n",
    "\n",
    "\n",
    "# arco condizionale \n",
    "def route_after_llm(state) -> Literal[END, \"human_review_node\"]:\n",
    "    if len(state['messages'][-1].tool_calls) == 0:\n",
    "        return END\n",
    "    else:\n",
    "        return \"human_review_node\"\n",
    "\n",
    "\n",
    "builder = StateGraph(MessagesState)\n",
    "\n",
    "builder.add_node(\"call_llm\", call_llm)\n",
    "builder.add_node(\"run_tool\", ToolNode(tools=[weather_search]))\n",
    "builder.add_node(\"human_review_node\", human_review_node)\n",
    "\n",
    "builder.add_conditional_edges(\n",
    "    \"call_llm\",\n",
    "    route_after_llm\n",
    ")\n",
    "\n",
    "builder.add_edge(\"run_tool\", \"call_llm\")\n",
    "\n",
    "builder.set_entry_point(\"call_llm\")\n",
    "\n",
    "memory = MemorySaver()\n",
    "\n",
    "graph = builder.compile(checkpointer=memory)\n"
   ]
  },
  {
   "cell_type": "code",
   "execution_count": 19,
   "metadata": {},
   "outputs": [
    {
     "data": {
      "image/png": "[encoded data removed]",
      "text/plain": [
       "<IPython.core.display.Image object>"
      ]
     },
     "metadata": {},
     "output_type": "display_data"
    }
   ],
   "source": [
    "display(Image(graph.get_graph().draw_mermaid_png()))"
   ]
  },
  {
   "cell_type": "code",
   "execution_count": 20,
   "metadata": {},
   "outputs": [
    {
     "data": {
      "text/plain": [
       "[{'call_llm': {'messages': [AIMessage(content='', additional_kwargs={'tool_calls': [{'id': 'call_GotH1qQLX3RyLRyFnRFklpmi', 'function': {'arguments': '{\"city\":\"Munich\"}', 'name': 'weather_search'}, 'type': 'function'}], 'refusal': None}, response_metadata={'token_usage': {'completion_tokens': 16, 'prompt_tokens': 53, 'total_tokens': 69, 'completion_tokens_details': {'accepted_prediction_tokens': 0, 'audio_tokens': 0, 'reasoning_tokens': 0, 'rejected_prediction_tokens': 0}, 'prompt_tokens_details': {'audio_tokens': 0, 'cached_tokens': 0}}, 'model_name': 'gpt-4o-2024-08-06', 'system_fingerprint': 'fp_8adc83c802', 'finish_reason': 'tool_calls', 'logprobs': None}, id='run-eb94e241-1f27-46f5-985f-e56da20a39d9-0', tool_calls=[{'name': 'weather_search', 'args': {'city': 'Munich'}, 'id': 'call_GotH1qQLX3RyLRyFnRFklpmi', 'type': 'tool_call'}], usage_metadata={'input_tokens': 53, 'output_tokens': 16, 'total_tokens': 69, 'input_token_details': {'audio': 0, 'cache_read': 0}, 'output_token_details': {'audio': 0, 'reasoning': 0}})]}},\n",
       " {'__interrupt__': (Interrupt(value={'question': 'Is this correct?', 'tool_call': {'name': 'weather_search', 'args': {'city': 'Munich'}, 'id': 'call_GotH1qQLX3RyLRyFnRFklpmi', 'type': 'tool_call'}}, resumable=True, ns=['human_review_node:075749a2-1d40-4674-6189-33577961d132'], when='during'),)}]"
      ]
     },
     "execution_count": 20,
     "metadata": {},
     "output_type": "execute_result"
    }
   ],
   "source": [
    "from langchain_core.messages import HumanMessage\n",
    "initial_input = {\"messages\": [HumanMessage(content=\"How is the weather in Munich?\")]}\n",
    "\n",
    "config = {\"configurable\": {\"thread_id\": \"5\"}}\n",
    "\n",
    "first_result = graph.invoke(input=initial_input, config=config, stream_mode=\"updates\")\n",
    "first_result"
   ]
  },
  {
   "cell_type": "code",
   "execution_count": 21,
   "metadata": {},
   "outputs": [
    {
     "name": "stdout",
     "output_type": "stream",
     "text": [
      "('human_review_node',)\n"
     ]
    }
   ],
   "source": [
    "print(graph.get_state(config).next)"
   ]
  },
  {
   "cell_type": "code",
   "execution_count": 22,
   "metadata": {},
   "outputs": [
    {
     "name": "stdout",
     "output_type": "stream",
     "text": [
      "Human review values: {'action': 'continue'}\n",
      "----\n",
      "Searching for: Munich\n",
      "----\n"
     ]
    },
    {
     "data": {
      "text/plain": [
       "{'messages': [HumanMessage(content='How is the weather in Munich?', additional_kwargs={}, response_metadata={}, id='aa3c64a3-0ec5-4b63-9550-3514bba8411a'),\n",
       "  AIMessage(content='', additional_kwargs={'tool_calls': [{'id': 'call_GotH1qQLX3RyLRyFnRFklpmi', 'function': {'arguments': '{\"city\":\"Munich\"}', 'name': 'weather_search'}, 'type': 'function'}], 'refusal': None}, response_metadata={'token_usage': {'completion_tokens': 16, 'prompt_tokens': 53, 'total_tokens': 69, 'completion_tokens_details': {'accepted_prediction_tokens': 0, 'audio_tokens': 0, 'reasoning_tokens': 0, 'rejected_prediction_tokens': 0}, 'prompt_tokens_details': {'audio_tokens': 0, 'cached_tokens': 0}}, 'model_name': 'gpt-4o-2024-08-06', 'system_fingerprint': 'fp_8adc83c802', 'finish_reason': 'tool_calls', 'logprobs': None}, id='run-eb94e241-1f27-46f5-985f-e56da20a39d9-0', tool_calls=[{'name': 'weather_search', 'args': {'city': 'Munich'}, 'id': 'call_GotH1qQLX3RyLRyFnRFklpmi', 'type': 'tool_call'}], usage_metadata={'input_tokens': 53, 'output_tokens': 16, 'total_tokens': 69, 'input_token_details': {'audio': 0, 'cache_read': 0}, 'output_token_details': {'audio': 0, 'reasoning': 0}}),\n",
       "  ToolMessage(content='Sunny!', name='weather_search', id='7b1e0369-c329-4db3-b7b5-55d58d7ba94f', tool_call_id='call_GotH1qQLX3RyLRyFnRFklpmi'),\n",
       "  AIMessage(content='The weather in Munich is currently sunny.', additional_kwargs={'refusal': None}, response_metadata={'token_usage': {'completion_tokens': 10, 'prompt_tokens': 78, 'total_tokens': 88, 'completion_tokens_details': {'accepted_prediction_tokens': 0, 'audio_tokens': 0, 'reasoning_tokens': 0, 'rejected_prediction_tokens': 0}, 'prompt_tokens_details': {'audio_tokens': 0, 'cached_tokens': 0}}, 'model_name': 'gpt-4o-2024-08-06', 'system_fingerprint': 'fp_8adc83c802', 'finish_reason': 'stop', 'logprobs': None}, id='run-15fc0195-04e3-4541-a4dd-4d1e148c3b42-0', usage_metadata={'input_tokens': 78, 'output_tokens': 10, 'total_tokens': 88, 'input_token_details': {'audio': 0, 'cache_read': 0}, 'output_token_details': {'audio': 0, 'reasoning': 0}})]}"
      ]
     },
     "execution_count": 22,
     "metadata": {},
     "output_type": "execute_result"
    }
   ],
   "source": [
    "# riprendiamo il flusso decidendo se continuare con la chiamta al tool\n",
    "# e con gli argomenti decisi dal modello o se aggiornare l'AIMessage con\n",
    "# i nostri argomenti \n",
    "graph.invoke(Command(resume={\"action\": \"continue\"}), config=config)"
   ]
  },
  {
   "cell_type": "code",
   "execution_count": 23,
   "metadata": {},
   "outputs": [
    {
     "data": {
      "text/plain": [
       "[{'call_llm': {'messages': [AIMessage(content='', additional_kwargs={'tool_calls': [{'id': 'call_MhJQVcbRcNuUYCvcEByOTSEv', 'function': {'arguments': '{\"city\":\"Paris\"}', 'name': 'weather_search'}, 'type': 'function'}], 'refusal': None}, response_metadata={'token_usage': {'completion_tokens': 15, 'prompt_tokens': 53, 'total_tokens': 68, 'completion_tokens_details': {'accepted_prediction_tokens': 0, 'audio_tokens': 0, 'reasoning_tokens': 0, 'rejected_prediction_tokens': 0}, 'prompt_tokens_details': {'audio_tokens': 0, 'cached_tokens': 0}}, 'model_name': 'gpt-4o-2024-08-06', 'system_fingerprint': 'fp_8adc83c802', 'finish_reason': 'tool_calls', 'logprobs': None}, id='run-d6af30db-9469-459d-ac30-516db98d9927-0', tool_calls=[{'name': 'weather_search', 'args': {'city': 'Paris'}, 'id': 'call_MhJQVcbRcNuUYCvcEByOTSEv', 'type': 'tool_call'}], usage_metadata={'input_tokens': 53, 'output_tokens': 15, 'total_tokens': 68, 'input_token_details': {'audio': 0, 'cache_read': 0}, 'output_token_details': {'audio': 0, 'reasoning': 0}})]}},\n",
       " {'__interrupt__': (Interrupt(value={'question': 'Is this correct?', 'tool_call': {'name': 'weather_search', 'args': {'city': 'Paris'}, 'id': 'call_MhJQVcbRcNuUYCvcEByOTSEv', 'type': 'tool_call'}}, resumable=True, ns=['human_review_node:44297b85-4941-d3f5-7d1d-ab3400238ab0'], when='during'),)}]"
      ]
     },
     "execution_count": 23,
     "metadata": {},
     "output_type": "execute_result"
    }
   ],
   "source": [
    "initial_input = {\"messages\": [HumanMessage(content=\"How is the weather in Paris?\")]}\n",
    "config = {\"configurable\": {\"thread_id\": \"6\"}}\n",
    "\n",
    "graph.invoke(initial_input, config=config, stream_mode=\"updates\")"
   ]
  },
  {
   "cell_type": "code",
   "execution_count": 14,
   "metadata": {},
   "outputs": [
    {
     "name": "stdout",
     "output_type": "stream",
     "text": [
      "('human_review_node',)\n"
     ]
    }
   ],
   "source": [
    "print(graph.get_state(config).next)"
   ]
  },
  {
   "cell_type": "code",
   "execution_count": 24,
   "metadata": {},
   "outputs": [
    {
     "name": "stdout",
     "output_type": "stream",
     "text": [
      "Human review values: {'action': 'update', 'data': {'city': 'Paris'}}\n",
      "----\n",
      "Searching for: Paris\n",
      "----\n"
     ]
    },
    {
     "data": {
      "text/plain": [
       "{'messages': [HumanMessage(content='How is the weather in Paris?', additional_kwargs={}, response_metadata={}, id='3565f464-72f7-4493-a581-357a27bdd0d3'),\n",
       "  AIMessage(content='', additional_kwargs={}, response_metadata={}, id='run-d6af30db-9469-459d-ac30-516db98d9927-0', tool_calls=[{'name': 'weather_search', 'args': {'city': 'Paris'}, 'id': 'call_MhJQVcbRcNuUYCvcEByOTSEv', 'type': 'tool_call'}]),\n",
       "  ToolMessage(content='Sunny!', name='weather_search', id='cd019357-1772-4a92-939e-7ca6a355a958', tool_call_id='call_MhJQVcbRcNuUYCvcEByOTSEv'),\n",
       "  AIMessage(content='The weather in Paris is currently sunny!', additional_kwargs={'refusal': None}, response_metadata={'token_usage': {'completion_tokens': 10, 'prompt_tokens': 77, 'total_tokens': 87, 'completion_tokens_details': {'accepted_prediction_tokens': 0, 'audio_tokens': 0, 'reasoning_tokens': 0, 'rejected_prediction_tokens': 0}, 'prompt_tokens_details': {'audio_tokens': 0, 'cached_tokens': 0}}, 'model_name': 'gpt-4o-2024-08-06', 'system_fingerprint': 'fp_8adc83c802', 'finish_reason': 'stop', 'logprobs': None}, id='run-6f4d3762-8520-4476-9727-7bec34a8c2ad-0', usage_metadata={'input_tokens': 77, 'output_tokens': 10, 'total_tokens': 87, 'input_token_details': {'audio': 0, 'cache_read': 0}, 'output_token_details': {'audio': 0, 'reasoning': 0}})]}"
      ]
     },
     "execution_count": 24,
     "metadata": {},
     "output_type": "execute_result"
    }
   ],
   "source": [
    "# riprendiamo il flusso ma stavolta con un nuovo argomento\n",
    "# voluto dallo human che la chiamata del tool weather_search\n",
    "\n",
    "graph.invoke(Command(resume={\"action\": \"update\", \"data\": {\"city\": \"Paris\"}}), config=config)"
   ]
  },
  {
   "cell_type": "code",
   "execution_count": null,
   "metadata": {},
   "outputs": [],
   "source": []
  }
 ],
 "metadata": {
  "kernelspec": {
   "display_name": ".venv",
   "language": "python",
   "name": "python3"
  },
  "language_info": {
   "codemirror_mode": {
    "name": "ipython",
    "version": 3
   },
   "file_extension": ".py",
   "mimetype": "text/x-python",
   "name": "python",
   "nbconvert_exporter": "python",
   "pygments_lexer": "ipython3",
   "version": "3.10.0"
  }
 },
 "nbformat": 4,
 "nbformat_minor": 2
}
