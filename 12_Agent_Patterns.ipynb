{
 "cells": [
  {
   "cell_type": "markdown",
   "metadata": {},
   "source": [
    "# Multi-Agent Workflows\n",
    "\n",
    "Con i sottografi abbiamo visto come integrare grafi indipendenti dentro sistemi più grandi.\n",
    "\n",
    "Quando sviluppiamo Agenti, la funzionalità diventa più complessa lungo il tempo, e questo può diventare difficile gestire tutto quanto all'interno di un singolo agente.\n",
    "\n",
    "Qui è dove entrano in gioco i sistemi multi-agente.\n",
    "\n",
    "La necessità di sistemi multi-agente si solleva quando parti specifiche della nostra appicazione richiedono un focus specializzato, come il planning, decision making o eseguire tasks complessi.\n",
    "\n",
    "Dividendo le funzionalità in molteplici agenti indipendenti, ciascuno con un chiaro e preciso ruolo, guadagniamo modularità, scalabilità e miglior controllo.\n",
    "\n",
    "I sistemi multi-agente consentono la specializzazione esperta dove un agente potrebbe essere un ricercatore, un'altro un pianificatore, e un'altro ancora un problem solver, lavorando tutti assieme ininterrottamente.\n",
    "\n",
    "Questo approccio assicura che il nostro sistema rimanga gestibile, efficiente e adattabile anche quando la sia complessità cresce.\n",
    "\n",
    "Ci sono molteplici **patterns** per progettare (pattern designs) milti-agent systems, ciascuno di essi adatto per diversi use cases e livello di complessità.\n",
    "\n",
    "![alt text](patterns.png)\n",
    "\n",
    "## Single-agent pattern\n",
    "\n",
    "Un singolo agente interagisce con i tools direttamente, ciò è adatto per semplici workflows dove un agente controlla l'intero processo.\n",
    "\n",
    "\n",
    "## Network pattern:\n",
    "\n",
    "Gli agenti sono connessi in una struttura many-to-many, permettendo a ciascun agente di comunicare e passare i tasks a ciascun altro agente.\n",
    "\n",
    "Questo pattern funziona bene con una gerarchia non predefinita o ordine.\n",
    "\n",
    "## Supervisor pattern:\n",
    "\n",
    "Un agente centrale supervisore decide quale agenti specializzati chiamare per il prossimo step.\n",
    "\n",
    "Questo pattern fornisce un controllo centralizzato e funziona bene per i workflow sequenziali.\n",
    "\n",
    "## Agents as Tools pattern:\n",
    "\n",
    "Un approccio simile al Supervisor è il **supervisor as tool**, in questa variante, agenti individuali sono trattati come tools.\n",
    "\n",
    "Il supervisore decide quale agente chiamare e fornisce gli argomenti ad esso.\n",
    "\n",
    "## Hierachical pattern:\n",
    "\n",
    "Molteplici supervisori gestiscono il loro proprio team di agenti, con un supervisore top-level che coordina tra gli agenti.\n",
    "\n",
    "Tale struttura è ideale per sistemi davvero grandi e complessi che richiedono una struttura chiara e gerarchica.\n",
    "\n",
    "## Custom pattern:\n",
    "\n",
    "Abbiamo anche la possibilità di fare il nostro custom workflow.\n",
    "\n",
    "Gli agenti sono connessi in un workflow customizzato dove alcune parti sono deterministiche (senza utilizzo degli LLMs) e altre hanno agenti che decidono quali agenti chiamare.\n",
    "\n",
    "Questo pattern è molto flessibile e possiamo adattarlo in base ai nostri requisiti.\n",
    "\n",
    "\n",
    "## Re-cap\n",
    "Tutti questi patterns hanno diversi vantaggi e compromessi, il loro utilizzo dipende dalla complessità del nostro sistema e dalla necessità di specializzazione o controllo.\n",
    "\n",
    "# Caso di studio \n",
    "\n",
    "Di seguito progetteremo un workflow complesso multi-agent per un football news agency.\n",
    "\n",
    "Il sistema includerà agenti specializzati, ciascuno di essi gestirà task specifici.\n",
    "\n",
    "Ad esempio, un agente ricercatore dovrà raccogliere informazioni come il player market value (valore di mercato di un giocatore), mentre un'altro agente dovrà retrievare l'informazione circa la squadra attuale del giocatore.\n",
    "\n",
    "Inoltre, un agente text writer dovrà creare un articolo di blog basato sui dati raccolti, operando indipendentemente dagli altri agenti.\n",
    "\n",
    "Un agente supervisore coordinerà il workflow, assegnando i compiti agli agenti esperti/specializzati ed assicuarndo che ciascuno step sia completato.\n",
    "\n",
    "Una volta che i tasks sono completati, l'agente supervisore sarà il responsabile per la pubblicazione dell'articolo.\n",
    "\n",
    "Importante da notare è che mentre l'agente supervisore ispeziona l'intero processo, gli agenti esperti non comunicheranno tra di loro, dunque enfatizzeremo i ruoli chiari e modulari all'interno del sistema."
   ]
  },
  {
   "cell_type": "markdown",
   "metadata": {},
   "source": [
    "Iniziamo con l'implementazione degli agenti esperti indipendenti prima di creare l'agente supervisore.\n",
    "\n",
    "Iniziamo con il primo agente esperto che è una agente che retrieva il current club (squadra corrente) da un database fake."
   ]
  },
  {
   "cell_type": "code",
   "execution_count": 9,
   "metadata": {},
   "outputs": [
    {
     "data": {
      "text/plain": [
       "True"
      ]
     },
     "execution_count": 9,
     "metadata": {},
     "output_type": "execute_result"
    }
   ],
   "source": [
    "from dotenv import load_dotenv\n",
    "load_dotenv()"
   ]
  },
  {
   "cell_type": "code",
   "execution_count": 19,
   "metadata": {},
   "outputs": [],
   "source": [
    "from typing import TypedDict, Literal, Annotated, List\n",
    "from operator import add\n",
    "from langchain_core.messages import HumanMessage, SystemMessage, BaseMessage\n",
    "from langgraph.graph import END, START, StateGraph\n",
    "from langgraph.prebuilt import ToolNode\n",
    "from langchain_openai import ChatOpenAI\n",
    "from langchain_core.tools import tool\n",
    "\n",
    "# definiamo un InputState ed un OutputState perchè vogliamo un agente snello\n",
    "# Snello significa che l'agente esperto lavorerà con due records e creerà la sua \n",
    "# propria history che salveremo nel messages object.\n",
    "# Tuttavia l'agente supervisore è interessato solo alla risposta finale\n",
    "# quindi forniamo solo l'output dell'agente esperto all'agente supervisore \n",
    "class InputState(TypedDict):\n",
    "    article: str\n",
    "\n",
    "class OutputState(TypedDict):\n",
    "    agent_output: str\n",
    "\n",
    "class OverallState(InputState, OutputState):\n",
    "    messages: Annotated[List[BaseMessage], add]\n",
    "\n",
    "# l'agente esperoìto sarà responsabile di ottenere la squadra corrente di un giocatore\n",
    "@tool\n",
    "def get_current_club(player_name: str):\n",
    "    \"\"\"Gets current club of a player.\"\"\"\n",
    "    fake_db = {\n",
    "        \"Lionel Messi\": \"Paris Saint-Germain\",\n",
    "        \"Cristiano Ronaldo\": \"Al Nassr FC\",\n",
    "    }\n",
    "    return fake_db.get(player_name, \"Current club information not available.\")\n",
    "\n",
    "tools1 = [get_current_club]\n",
    "model_1 = ChatOpenAI(model=\"gpt-4o-mini\").bind_tools(tools1)\n"
   ]
  },
  {
   "cell_type": "code",
   "execution_count": 20,
   "metadata": {},
   "outputs": [],
   "source": [
    "def call_model_current_club(state: OverallState):\n",
    "    local_messages = state.get('messages', [])\n",
    "\n",
    "    if not local_messages:\n",
    "      human_message = HumanMessage(content=state['article'])\n",
    "      local_messages.append(human_message)\n",
    "\n",
    "    system_message = SystemMessage(content=\"\"\"You are an agent tasked with determining the current club of a player.\n",
    "    If the current club is metioned, return it. Otherwise, return 'Current club information not available.'\"\"\") \n",
    "    \n",
    "    response = model_1.invoke([system_message] + local_messages) \n",
    "\n",
    "    state['agent_output'] = response.content\n",
    "\n",
    "    state['messages'] = local_messages + [response]\n",
    "\n",
    "    return state\n",
    "\n",
    "# funzione per l'arco condizionale\n",
    "def should_continue(state: OverallState) -> Literal[\"tools\", END]:\n",
    "    last_message = state[\"messages\"][-1]\n",
    "    if getattr(last_message, \"tool_calls\", None):\n",
    "        return \"tools\"\n",
    "    else:\n",
    "        return END\n",
    "\n",
    "tool_node = ToolNode(tools1)\n",
    "\n",
    "current_club_graph = StateGraph(OverallState, input=InputState, output=OutputState)\n",
    "\n",
    "current_club_graph.add_node(\"call_model_current_club\", call_model_current_club)\n",
    "current_club_graph.add_node(\"tools\", tool_node)\n",
    "current_club_graph.add_edge(START, \"call_model_current_club\")\n",
    "current_club_graph.add_conditional_edges(\n",
    "    \"call_model_current_club\", \n",
    "    should_continue,\n",
    "    path_map={\n",
    "        \"tools\": \"tools\",\n",
    "        END: END\n",
    "    }\n",
    "    )\n",
    "\n",
    "current_club_graph.add_edge(\n",
    "    \"tools\",\n",
    "    \"call_model_current_club\"\n",
    ")\n",
    "\n",
    "current_club_graph.add_edge(\"call_model_current_club\", END)\n",
    "\n",
    "\n",
    "current_club_researcher_agent = current_club_graph.compile()"
   ]
  },
  {
   "cell_type": "code",
   "execution_count": 21,
   "metadata": {},
   "outputs": [
    {
     "data": {
      "text/plain": [
       "{'agent_output': 'Lionel Messi is currently playing for Paris Saint-Germain.'}"
      ]
     },
     "execution_count": 21,
     "metadata": {},
     "output_type": "execute_result"
    }
   ],
   "source": [
    "initial_state = {\"article\": \"Lionel Messi will join Real Madrid 2025\"}\n",
    "\n",
    "current_club_reasearcher_agent.invoke(initial_state)"
   ]
  },
  {
   "cell_type": "code",
   "execution_count": 22,
   "metadata": {},
   "outputs": [
    {
     "data": {
      "text/plain": [
       "{'agent_output': 'Current club information not available.'}"
      ]
     },
     "execution_count": 22,
     "metadata": {},
     "output_type": "execute_result"
    }
   ],
   "source": [
    "initial_state = {\"article\": \"Thomas Muller will join Real Madrid 2025\"}\n",
    "\n",
    "current_club_researcher_agent.invoke(initial_state)"
   ]
  },
  {
   "cell_type": "markdown",
   "metadata": {},
   "source": [
    "Dato che il primo agente funziona correttamente procediamo con la creazione del secondo agente che retrieva il market value di un giocatore.\n",
    "\n",
    "Anche col secondo agente diamo in output solo la risposta finale dunque creiamo lo stato snello (cioè suddiviso in più parti)."
   ]
  },
  {
   "cell_type": "code",
   "execution_count": 26,
   "metadata": {},
   "outputs": [],
   "source": [
    "class InputState(TypedDict):\n",
    "    article: str\n",
    "\n",
    "class OutputState(TypedDict):\n",
    "    agent_output: str\n",
    "\n",
    "class OverallState(InputState, OutputState):\n",
    "    messages: Annotated[List[BaseMessage], add]\n",
    "\n",
    "@tool\n",
    "def get_market_value(player_name: str):\n",
    "    \"\"\"Gets current market value of a player\"\"\"\n",
    "    fake_market_value_db = {\n",
    "        \"Lionel Messi\": \"$50 million\",\n",
    "        \"Cristiano Ronaldo\": \"$30 million\"\n",
    "    }\n",
    "    return fake_market_value_db.get(player_name, \"Market value information not available.\")\n",
    "\n",
    "\n",
    "tools2 = [get_market_value]\n",
    "\n",
    "model_2 = ChatOpenAI(model=\"gpt-4o-mini\").bind_tools(tools2)\n",
    "\n",
    "def call_model_market_value(state: OverallState):\n",
    "    local_messages = state.get(\"messages\", [])\n",
    "    if not local_messages:\n",
    "        human_message = HumanMessage(content=state['article'])\n",
    "        local_messages.append(human_message)\n",
    "\n",
    "    system_message = SystemMessage(content=\"\"\"You are an agent tasked with determining the market value of a palyer.\n",
    "    If the market value is mentioned, return it. Otherwise, return 'Market value information not available.'\"\"\")\n",
    "\n",
    "    response = model_2.invoke([system_message] + local_messages)\n",
    "\n",
    "    state['agent_output'] = response.content\n",
    "\n",
    "    state['messages'] = local_messages + [response]\n",
    "\n",
    "    return state\n",
    "\n",
    "def should_continue(state: OverallState) -> Literal['tools', END]:\n",
    "    last_message = state['messages'][-1]\n",
    "\n",
    "    if getattr(last_message, \"tool_calls\", None):\n",
    "        return \"tools\"\n",
    "    else:\n",
    "        return END\n",
    "    \n",
    "market_value_graph = StateGraph(OverallState, input=InputState, output=OutputState)\n",
    "market_value_graph.add_node(\"call_model_market_value\", call_model_market_value)\n",
    "market_value_graph.add_node(\"tools\", ToolNode(tools2))\n",
    "market_value_graph.add_edge(START, \"call_model_market_value\")\n",
    "market_value_graph.add_conditional_edges(\"call_model_market_value\", should_continue)\n",
    "market_value_graph.add_edge(\"tools\", \"call_model_market_value\")\n",
    "\n",
    "market_value_researcher_agent = market_value_graph.compile()"
   ]
  },
  {
   "cell_type": "code",
   "execution_count": 27,
   "metadata": {},
   "outputs": [
    {
     "data": {
      "text/plain": [
       "{'agent_output': 'The market value of Lionel Messi is $50 million.'}"
      ]
     },
     "execution_count": 27,
     "metadata": {},
     "output_type": "execute_result"
    }
   ],
   "source": [
    "market_value_researcher_agent.invoke({\"article\": \"Lionel Messi will switch from FC Barcelona to Real Madrid in 2025\"})"
   ]
  },
  {
   "cell_type": "code",
   "execution_count": 28,
   "metadata": {},
   "outputs": [
    {
     "data": {
      "text/plain": [
       "{'agent_output': 'Market value information not available.'}"
      ]
     },
     "execution_count": 28,
     "metadata": {},
     "output_type": "execute_result"
    }
   ],
   "source": [
    "market_value_researcher_agent.invoke({\"article\": \"Thomas Muller will join Real Madrid 2025\"})"
   ]
  },
  {
   "cell_type": "markdown",
   "metadata": {},
   "source": [
    "Dunque, abbiamo i nostri due agenti specializzati nel retrievare il club corrente ed il market value di un determinato giocatore.\n",
    "\n",
    "Il nostro terzo agente è un agente che convertirà queste semplici informazioni, come 'Lionel Messi will switch from FC Barcelona to Real Madrid in 2025' in un articolo di 100 parole.\n",
    "\n",
    "Anche qui usiamo lo stato snello."
   ]
  },
  {
   "cell_type": "code",
   "execution_count": 29,
   "metadata": {},
   "outputs": [],
   "source": [
    "class InputState(TypedDict):\n",
    "    article: str\n",
    "\n",
    "class OutputState(TypedDict):\n",
    "    agent_output: str\n",
    "\n",
    "class OverallState(InputState, OutputState):\n",
    "    pass\n",
    "\n",
    "# stavolta non necessitiamo di un tool\n",
    "\n",
    "model_text_writer = ChatOpenAI(model=\"gpt-4o-mini\")\n",
    "\n",
    "def expand_text_to_100_words(state: OverallState):\n",
    "    human_message = HumanMessage(content=state['article'])\n",
    "    system_message = SystemMessage(content=\"Expand the following text to be at least 100 words. Maintain the original meaning while adding detail.\")\n",
    "\n",
    "    response = model_text_writer.invoke([system_message, human_message])\n",
    "\n",
    "    state['agent_output'] = response.content\n",
    "\n",
    "    return state\n",
    "\n",
    "text_writer_graph = StateGraph(OverallState, input=InputState, output=OutputState)\n",
    "\n",
    "text_writer_graph.add_node(\"expand_text_to_100_words\", expand_text_to_100_words)\n",
    "text_writer_graph.add_edge(START, \"expand_text_to_100_words\")\n",
    "text_writer_graph.add_edge(\"expand_text_to_100_words\", END)\n",
    "\n",
    "text_writer_agent = text_writer_graph.compile()"
   ]
  },
  {
   "cell_type": "code",
   "execution_count": 30,
   "metadata": {},
   "outputs": [
    {
     "data": {
      "text/plain": [
       "{'agent_output': \"Lionel Messi, one of the most celebrated football players in history, is set to make a significant transition in his illustrious career by moving from FC Barcelona to their arch-rivals, Real Madrid, in the year 2025. This monumental switch, which has been the subject of much speculation among fans and analysts alike, marks a major shift in the landscape of football. Messi, who has spent the majority of his professional life at Barcelona, where he achieved numerous records and accolades, will bring his exceptional skills and experience to Real Madrid, a club with its own rich legacy. This decision is poised to ignite fierce discussions among supporters of both clubs and could have a profound impact on the dynamics of La Liga. The potential transfer not only highlights Messi's versatility and ambition but also raises questions about the future strategies of both teams as they navigate the ever-evolving world of football.\"}"
      ]
     },
     "execution_count": 30,
     "metadata": {},
     "output_type": "execute_result"
    }
   ],
   "source": [
    "text_writer_agent.invoke({'article': \"Lionel Messi will switch from FC Barcelona to Real Madrid in 2025\"})"
   ]
  },
  {
   "cell_type": "markdown",
   "metadata": {},
   "source": [
    "## Supervisor Agent\n",
    "\n",
    "Il nostro agente supervisore prende l'articolo e lo valuta in base a diversi criteri.\n",
    "\n",
    "Prima di tutto l'articolo sarà valutato se è on o off topic.\n",
    "\n",
    "Se è off-topic allora non procediamo.\n",
    "\n",
    "Dunque, l'agente supervisore dovrebbe valutare l'articolo se è riguardante a football transfers, yes or no.\n",
    "\n",
    "Poi vogliamo sapere se il **market value** è menzionato, yes or no.\n",
    "\n",
    "Se è menzionato, allora non dobbiamo passarlo all'agente specializzato **market_value_researcher**.\n",
    "\n",
    "Lo stesso ragionamento lo facciamo per il **current club information**.\n",
    "Se il current club è menzionato, allora non dobbiamo fornire l'articolo all'agente specilaizzato **current_club_researcher**.\n",
    "\n",
    "Lo stesso facciamo per il text writer.\n",
    "\n",
    "Se l'articolo ha già 100 parole e tutte queste informazioni sono nell'articolo, allora abbiamo bidìsogno del text writer per scrivere un nuovo articolo, ma possiamo passarlo così com'è. Per determninare ciò andremo ad usare il structured output quindi creando una classe Pydantic."
   ]
  },
  {
   "cell_type": "code",
   "execution_count": 37,
   "metadata": {},
   "outputs": [],
   "source": [
    "from langchain_openai import ChatOpenAI\n",
    "from langchain_core.prompts import ChatPromptTemplate\n",
    "from pydantic import BaseModel, Field\n",
    "\n",
    "class ArticlePostabilityGrader(BaseModel):\n",
    "    \"\"\"Binary scores for verifyung if an article mentions market value, current club, and meets the minimum word count of 100 words.\"\"\"\n",
    "\n",
    "    off_or_ontopic: str = Field(\n",
    "        description=\"The Article is about football transfers, 'yes' or 'no'\"\n",
    "    )\n",
    "    mentions_market_value: str = Field(\n",
    "        description=\"The article mentions market the player's market value, 'yes' or 'no'\"\n",
    "    )\n",
    "    mentions_current_club: str = Field(\n",
    "        description=\"The article mentions the player's current club, 'yes' or 'no'\"\n",
    "    )\n",
    "    meets_100_words: str = Field(\n",
    "        description=\"The article has at least 100 words, 'yes' or 'no'\"\n",
    "    )\n",
    "\n",
    "llm_postability = ChatOpenAI(model=\"gpt-4o-mini\", temperature=0)\n",
    "\n",
    "structured_llm_postability_grader = llm_postability.with_structured_output(\n",
    "    ArticlePostabilityGrader\n",
    ")\n",
    "\n",
    "postability_system = \"\"\"\n",
    "You are a grader assessing whether a news article meets the following criteria:\n",
    "1. The article is about football transfers or not. If yes answer with 'yes', anotherwise with 'no'.\n",
    "2. The article explicity mentions the player's market value, for example, by stating \"market value\" or a specific currency amout (e.g. $50 million) If this is present, respond with 'yes' for mentions_market_value; otherwise, responnd 'no'.\n",
    "3. The article mentions the player's current club or indicates that the current club information is unvailable (e.g., \"Current club information not available\"). If this is present, respond with 'yes' for mentions_current_club; otherwise, respond 'no'. \n",
    "4. The article contains at least 100 words. If this is met, respond with 'yes' for meets_100_words; otherwise, respond 'no'.\n",
    "\n",
    "Provide four binary scores ('yes' or 'no') as follows:\n",
    "- off_or_ontopic: 'yes' or 'no' depending on whether the article is related to football transfers or not.\n",
    "- mentions_market_value: 'yes' or 'no' depending on whether the article mentions the player's market value.\n",
    "- mentions_current_club: 'yes' or 'no' depending on whether the article mentions the player's current club or states that the information is unavailable.\n",
    "- meets_100_words: 'yes' or 'no' depending on whether the article has at least 100 words.\n",
    "\"\"\"\n",
    "\n",
    "postability_grade_prompt = ChatPromptTemplate.from_messages(\n",
    "    [\n",
    "        (\"system\", postability_system),\n",
    "        (\"human\", \"News article: \\n\\n{article}\")\n",
    "    ]\n",
    ")\n",
    "\n",
    "# LCEL\n",
    "news_chef = postability_grade_prompt | structured_llm_postability_grader"
   ]
  },
  {
   "cell_type": "code",
   "execution_count": 38,
   "metadata": {},
   "outputs": [
    {
     "data": {
      "text/plain": [
       "ArticlePostabilityGrader(off_or_ontopic='yes', mentions_market_value='no', mentions_current_club='no', meets_100_words='no')"
      ]
     },
     "execution_count": 38,
     "metadata": {},
     "output_type": "execute_result"
    }
   ],
   "source": [
    "news_chef.invoke({\"article\": \"Lionel Messi will switch to Real Madrid in 2025\"})"
   ]
  },
  {
   "cell_type": "code",
   "execution_count": 39,
   "metadata": {},
   "outputs": [
    {
     "data": {
      "text/plain": [
       "ArticlePostabilityGrader(off_or_ontopic='no', mentions_market_value='no', mentions_current_club='no', meets_100_words='no')"
      ]
     },
     "execution_count": 39,
     "metadata": {},
     "output_type": "execute_result"
    }
   ],
   "source": [
    "news_chef.invoke({\"article\": \"Today in Munich will be 9 degrees\"})"
   ]
  },
  {
   "cell_type": "markdown",
   "metadata": {},
   "source": [
    "Ora abbiamo 4 agenti che lavorano indipendentemente, possiamo combinare questi 4 agenti in un unico grafo.\n",
    "\n",
    "## Workflow"
   ]
  },
  {
   "cell_type": "code",
   "execution_count": 44,
   "metadata": {},
   "outputs": [],
   "source": [
    "from typing import TypedDict, Literal\n",
    "from langgraph.graph import END, StateGraph\n",
    "\n",
    "# creiamo lo stato snello (InputState, OtputState e IntermidiateState)\n",
    "class InputArticleState(TypedDict):\n",
    "    article: str\n",
    "\n",
    "class OutputFinalArticleState(TypedDict):\n",
    "    final_article: str\n",
    "    off_or_ontopic: str\n",
    "\n",
    "# stato intermedio (solo il news_chef agent è interessato ad esso)\n",
    "# gli attributi di questo stato vengono usati per scrivere il final_article\n",
    "# ma non abbiamo bisogno di questi attributi come output\n",
    "class SharedArticleState(InputArticleState, OutputFinalArticleState):\n",
    "    mentions_market_value: str\n",
    "    mentions_current_club: str\n",
    "    meets_100_words: str\n",
    "\n",
    "def update_article_state(state: SharedArticleState) -> SharedArticleState:\n",
    "    response = news_chef.invoke({\"article\": state['article']})\n",
    "    state[\"off_or_ontopic\"] = response.off_or_ontopic\n",
    "    state[\"mentions_market_value\"] = response.mentions_market_value\n",
    "    state[\"mentions_current_club\"] = response.mentions_current_club\n",
    "    state[\"meets_100_words\"] = response.meets_100_words\n",
    "    print(\"State after update_article_state:\", state)\n",
    "    return state\n",
    "\n",
    "# mettiamo gli agenti specializzati (grafi) dentro dei nodi di questo nuovo grafo\n",
    "\n",
    "# funzione che usa l'agente che cerca il market value\n",
    "def market_value_researcher_node(state: SharedArticleState) -> SharedArticleState:\n",
    "    # invochiamo il grafo che fa l'agente specializzato\n",
    "    response = market_value_researcher_agent.invoke({\"article\": state[\"article\"]})\n",
    "    state['article'] += f\" {response['agent_output']}\"\n",
    "    return state\n",
    "\n",
    "def current_club_researcher_node(state: SharedArticleState) -> SharedArticleState: \n",
    "    # invochiamo il grafo che fa l'agente specializzato\n",
    "    response = current_club_researcher_agent.invoke({\"article\": state[\"article\"]})\n",
    "    state['article'] += f\" {response['agent_output']}\"\n",
    "\n",
    "    return state\n",
    "\n",
    "def word_count_rewriter_node(state: SharedArticleState) -> SharedArticleState:\n",
    "    response = text_writer_agent.invoke({\"article\": state[\"article\"]})\n",
    "    state['article'] += f\" {response['agent_output']}\"\n",
    "    state[\"final_article\"] = response['agent_output']\n",
    "    return state\n",
    "\n",
    "# news_chef compila gli attibuti dello stato\n",
    "# intermedio ed in base a questi decidiamo verso quale agente (nodo) andare\n",
    "def news_chef_decider(state: SharedArticleState) -> Literal['market_value_researcher', 'current_club_researcher', 'word_count_rewriter', END]:\n",
    "    if state[\"off_or_ontopic\"] == 'no':\n",
    "        return END\n",
    "    if state[\"mentions_market_value\"] == \"no\":\n",
    "        return \"market_value_researcher\"\n",
    "    elif state[\"mentions_current_club\"] == \"no\":\n",
    "        return \"current_club_researcher\"\n",
    "    elif state[\"meets_100_words\"] == \"no\" and state[\"mentions_market_value\"] == \"yes\" and state[\"mentions_current_club\"] == \"yes\":\n",
    "        return \"word_count_rewriter\"\n",
    "    else:\n",
    "        return END # se tutti gli attributi sono a \"yes\" allora restituiamo lo stato con il final_article "
   ]
  },
  {
   "cell_type": "code",
   "execution_count": 45,
   "metadata": {},
   "outputs": [],
   "source": [
    "# ora possiamo creare il nostro workflow\n",
    "\n",
    "workflow = StateGraph(SharedArticleState, input=InputArticleState, output=OutputFinalArticleState)\n",
    "\n",
    "workflow.add_node(\"news_chef\", update_article_state)\n",
    "workflow.add_node(\"market_value_researcher\", market_value_researcher_node)\n",
    "workflow.add_node(\"current_club_researcher\", current_club_researcher_node)\n",
    "workflow.add_node(\"word_count_rewriter\", word_count_rewriter_node)\n",
    "\n",
    "workflow.set_entry_point(\"news_chef\")\n",
    "\n",
    "workflow.add_conditional_edges(\n",
    "    \"news_chef\",\n",
    "    news_chef_decider,\n",
    "    {\n",
    "        \"market_value_researcher\": \"market_value_researcher\",\n",
    "        \"current_club_researcher\": \"current_club_researcher\",\n",
    "        \"word_count_rewriter\": \"word_count_rewriter\",\n",
    "        END: END,\n",
    "    },\n",
    ")\n",
    "\n",
    "# i loop\n",
    "workflow.add_edge(\"market_value_researcher\", \"news_chef\")\n",
    "workflow.add_edge(\"current_club_researcher\", \"news_chef\")\n",
    "workflow.add_edge(\"word_count_rewriter\", \"news_chef\")\n",
    "\n",
    "app = workflow.compile()"
   ]
  },
  {
   "cell_type": "code",
   "execution_count": 46,
   "metadata": {},
   "outputs": [
    {
     "name": "stdout",
     "output_type": "stream",
     "text": [
      "State after update_article_state: {'article': 'Today in Munich will be 9 degrees', 'off_or_ontopic': 'no', 'mentions_market_value': 'no', 'mentions_current_club': 'no', 'meets_100_words': 'no'}\n"
     ]
    },
    {
     "data": {
      "text/plain": [
       "{'off_or_ontopic': 'no'}"
      ]
     },
     "execution_count": 46,
     "metadata": {},
     "output_type": "execute_result"
    }
   ],
   "source": [
    "app.invoke({\"article\": \"Today in Munich will be 9 degrees\"})"
   ]
  },
  {
   "cell_type": "code",
   "execution_count": 47,
   "metadata": {},
   "outputs": [
    {
     "name": "stdout",
     "output_type": "stream",
     "text": [
      "State after update_article_state: {'article': 'Lionel Messi will to Real Madrid in 2025', 'off_or_ontopic': 'yes', 'mentions_market_value': 'no', 'mentions_current_club': 'no', 'meets_100_words': 'no'}\n",
      "State after update_article_state: {'article': 'Lionel Messi will to Real Madrid in 2025 The market value of Lionel Messi is $50 million.', 'off_or_ontopic': 'yes', 'mentions_market_value': 'yes', 'mentions_current_club': 'no', 'meets_100_words': 'no'}\n",
      "State after update_article_state: {'article': \"Lionel Messi will to Real Madrid in 2025 The market value of Lionel Messi is $50 million. Lionel Messi's current club is Paris Saint-Germain.\", 'off_or_ontopic': 'yes', 'mentions_market_value': 'yes', 'mentions_current_club': 'yes', 'meets_100_words': 'no'}\n",
      "State after update_article_state: {'article': \"Lionel Messi will to Real Madrid in 2025 The market value of Lionel Messi is $50 million. Lionel Messi's current club is Paris Saint-Germain. Lionel Messi, the renowned Argentine footballer, is expected to make a significant move to Real Madrid in 2025, a transfer that has the potential to shake up the footballing world. As of now, Messi plays for Paris Saint-Germain (PSG), where he has continued to showcase his extraordinary skills and goal-scoring ability. His impressive performances have kept his market value at a remarkable $50 million, a testament to his enduring talent and influence on the field. Fans and analysts alike are eagerly anticipating how this potential transfer will unfold, as Messi's move to one of PSG's biggest rivals could create a new chapter in his illustrious career and further intensify the historic rivalry between the two clubs.\", 'final_article': \"Lionel Messi, the renowned Argentine footballer, is expected to make a significant move to Real Madrid in 2025, a transfer that has the potential to shake up the footballing world. As of now, Messi plays for Paris Saint-Germain (PSG), where he has continued to showcase his extraordinary skills and goal-scoring ability. His impressive performances have kept his market value at a remarkable $50 million, a testament to his enduring talent and influence on the field. Fans and analysts alike are eagerly anticipating how this potential transfer will unfold, as Messi's move to one of PSG's biggest rivals could create a new chapter in his illustrious career and further intensify the historic rivalry between the two clubs.\", 'off_or_ontopic': 'yes', 'mentions_market_value': 'yes', 'mentions_current_club': 'yes', 'meets_100_words': 'yes'}\n"
     ]
    },
    {
     "data": {
      "text/plain": [
       "{'final_article': \"Lionel Messi, the renowned Argentine footballer, is expected to make a significant move to Real Madrid in 2025, a transfer that has the potential to shake up the footballing world. As of now, Messi plays for Paris Saint-Germain (PSG), where he has continued to showcase his extraordinary skills and goal-scoring ability. His impressive performances have kept his market value at a remarkable $50 million, a testament to his enduring talent and influence on the field. Fans and analysts alike are eagerly anticipating how this potential transfer will unfold, as Messi's move to one of PSG's biggest rivals could create a new chapter in his illustrious career and further intensify the historic rivalry between the two clubs.\",\n",
       " 'off_or_ontopic': 'yes'}"
      ]
     },
     "execution_count": 47,
     "metadata": {},
     "output_type": "execute_result"
    }
   ],
   "source": [
    "app.invoke({\"article\": \"Lionel Messi will to Real Madrid in 2025\"})"
   ]
  },
  {
   "cell_type": "markdown",
   "metadata": {},
   "source": [
    "## Add Human in the Loop\n",
    "\n",
    "Aggiungiamo un utente umano che revisiona il contenuto prima che venga pubblicato. Aggiungiamo il workflow dell'app come un nodo (sottografo) di un grafo più grade.\n",
    "\n",
    "Come sappiamo quando aggiungiamo l'human in the loop dobbiamo salvare tutti gli stati in modo da fermare il flusso e riprenderlo da un punto specifico. Questo lo facciamo con i checkpointers.\n",
    "\n",
    "Dunque, arrestiamo il workflow e esaminiamo se l'agente supervisore (news_chef) crea un risultato desiderato o non desiderato.\n",
    "\n",
    "Nelle applicazioni del mondo reale con una UI, di norma abbiamo un API layer tra l'agente e l'UI. E postiamo l'articolo in un database o cose del genere, e normalmente le API ci danno una risposta se l'articolo è stato salvato con successo nel db o meno. Quindi abbiamo come risposta un testo (api_response) e lo status_code come 200."
   ]
  },
  {
   "cell_type": "code",
   "execution_count": 108,
   "metadata": {},
   "outputs": [],
   "source": [
    "from langgraph.graph import StateGraph, END\n",
    "from langgraph.checkpoint.memory import MemorySaver\n",
    "\n",
    "checkpointer = MemorySaver()\n",
    "\n",
    "class InputState(TypedDict):\n",
    "    question: str\n",
    "\n",
    "class IntermediateState(InputState):\n",
    "    off_or_ontopic: str\n",
    "    answer: str\n",
    "\n",
    "class FinalState(IntermediateState):\n",
    "    api_response: str\n",
    "    status_code: int"
   ]
  },
  {
   "cell_type": "code",
   "execution_count": 109,
   "metadata": {},
   "outputs": [],
   "source": [
    "def input_node(state: InputState) -> InputState:\n",
    "    return state\n",
    "\n",
    "def newsagent_node(state: IntermediateState) -> IntermediateState:\n",
    "    response = app.invoke({\"article\": state['question']})\n",
    "    state['answer'] = response.get(\"final_article\", \"Article not relevant for news agency\")\n",
    "    state[\"off_or_ontopic\"] = response[\"off_or_ontopic\"]\n",
    "\n",
    "    return state\n",
    "\n",
    "def api_call_node(state: FinalState) -> FinalState:\n",
    "    state[\"status_code\"] = 200\n",
    "    state[\"api_response\"] = f\"API received answer: {state['answer']}\"\n",
    "    return state"
   ]
  },
  {
   "cell_type": "code",
   "execution_count": 110,
   "metadata": {},
   "outputs": [
    {
     "data": {
      "text/plain": [
       "<langgraph.graph.state.StateGraph at 0x25a29cafca0>"
      ]
     },
     "execution_count": 110,
     "metadata": {},
     "output_type": "execute_result"
    }
   ],
   "source": [
    "workflow = StateGraph(FinalState, input=InputState, output=FinalState)\n",
    "\n",
    "workflow.add_node(\"newsagent_node\", newsagent_node)\n",
    "workflow.add_node(\"api_call_node\", api_call_node)\n",
    "\n",
    "workflow.set_entry_point(\"newsagent_node\")\n",
    "\n",
    "workflow.add_edge(\"newsagent_node\", \"api_call_node\")\n",
    "workflow.add_edge(\"api_call_node\", END)"
   ]
  },
  {
   "cell_type": "code",
   "execution_count": 111,
   "metadata": {},
   "outputs": [],
   "source": [
    "human_app = workflow.compile(checkpointer=checkpointer, interrupt_after=[\"newsagent_node\"])"
   ]
  },
  {
   "cell_type": "code",
   "execution_count": 112,
   "metadata": {},
   "outputs": [
    {
     "data": {
      "image/png": "[encoded data removed]",
      "text/plain": [
       "<IPython.core.display.Image object>"
      ]
     },
     "metadata": {},
     "output_type": "display_data"
    }
   ],
   "source": [
    "from IPython.display import Image, display\n",
    "from langchain_core.runnables.graph import MermaidDrawMethod\n",
    "\n",
    "display(\n",
    "    Image(\n",
    "        human_app.get_graph().draw_mermaid_png(\n",
    "            draw_method=MermaidDrawMethod.API\n",
    "        )\n",
    "    )\n",
    ")"
   ]
  },
  {
   "cell_type": "code",
   "execution_count": 113,
   "metadata": {},
   "outputs": [],
   "source": [
    "config = {\"configurable\": {\"thread_id\": \"1\"}}\n",
    "config2 = {\"configurable\": {\"thread_id\": \"2\"}}\n"
   ]
  },
  {
   "cell_type": "code",
   "execution_count": 114,
   "metadata": {},
   "outputs": [
    {
     "name": "stdout",
     "output_type": "stream",
     "text": [
      "State after update_article_state: {'article': 'The weather will be 9 degrees in Munich', 'off_or_ontopic': 'no', 'mentions_market_value': 'no', 'mentions_current_club': 'no', 'meets_100_words': 'no'}\n"
     ]
    },
    {
     "data": {
      "text/plain": [
       "((),\n",
       " {'question': 'The weather will be 9 degrees in Munich',\n",
       "  'off_or_ontopic': 'no',\n",
       "  'answer': 'Article not relevant for news agency'})"
      ]
     },
     "execution_count": 114,
     "metadata": {},
     "output_type": "execute_result"
    }
   ],
   "source": [
    "human_app.invoke({\"question\": \"The weather will be 9 degrees in Munich\"}, config=config2, subgraphs=True)"
   ]
  },
  {
   "cell_type": "code",
   "execution_count": 115,
   "metadata": {},
   "outputs": [
    {
     "data": {
      "text/plain": [
       "('api_call_node',)"
      ]
     },
     "execution_count": 115,
     "metadata": {},
     "output_type": "execute_result"
    }
   ],
   "source": [
    "snapshot = human_app.get_state(config2)\n",
    "snapshot.next"
   ]
  },
  {
   "cell_type": "code",
   "execution_count": 116,
   "metadata": {},
   "outputs": [
    {
     "data": {
      "text/plain": [
       "{'question': 'The weather will be 9 degrees in Munich',\n",
       " 'off_or_ontopic': 'no',\n",
       " 'answer': 'Article not relevant for news agency',\n",
       " 'api_response': 'API received answer: Article not relevant for news agency',\n",
       " 'status_code': 200}"
      ]
     },
     "execution_count": 116,
     "metadata": {},
     "output_type": "execute_result"
    }
   ],
   "source": [
    "human_app.invoke(None, config=config2)"
   ]
  },
  {
   "cell_type": "code",
   "execution_count": 117,
   "metadata": {},
   "outputs": [
    {
     "name": "stdout",
     "output_type": "stream",
     "text": [
      "State after update_article_state: {'article': 'Lionel Messi will to Real Madrid in 2025', 'off_or_ontopic': 'yes', 'mentions_market_value': 'no', 'mentions_current_club': 'no', 'meets_100_words': 'no'}\n",
      "State after update_article_state: {'article': 'Lionel Messi will to Real Madrid in 2025 The market value of Lionel Messi is $50 million.', 'off_or_ontopic': 'yes', 'mentions_market_value': 'yes', 'mentions_current_club': 'no', 'meets_100_words': 'no'}\n",
      "State after update_article_state: {'article': \"Lionel Messi will to Real Madrid in 2025 The market value of Lionel Messi is $50 million. Lionel Messi's current club is Paris Saint-Germain.\", 'off_or_ontopic': 'yes', 'mentions_market_value': 'yes', 'mentions_current_club': 'yes', 'meets_100_words': 'no'}\n",
      "State after update_article_state: {'article': \"Lionel Messi will to Real Madrid in 2025 The market value of Lionel Messi is $50 million. Lionel Messi's current club is Paris Saint-Germain. As of October 2023, it has been reported that the legendary Argentine footballer Lionel Messi is set to join the prestigious Spanish club Real Madrid in the year 2025. This move is highly anticipated by fans and analysts alike, as it marks a significant shift in his illustrious career. Currently, Messi's market value is estimated at approximately $50 million, reflecting his immense talent and experience on the field. Presently, he is playing for Paris Saint-Germain (PSG), where he has continued to showcase his exceptional skills and leadership. Messi's potential transfer to Real Madrid could reshape the dynamics of football, considering the intense rivalry between the two clubs, which has been historically marked by fierce competition and memorable matches. As the football world eagerly awaits this development, Messi's future at Real Madrid promises to be an exciting chapter in his storied career.\", 'final_article': \"As of October 2023, it has been reported that the legendary Argentine footballer Lionel Messi is set to join the prestigious Spanish club Real Madrid in the year 2025. This move is highly anticipated by fans and analysts alike, as it marks a significant shift in his illustrious career. Currently, Messi's market value is estimated at approximately $50 million, reflecting his immense talent and experience on the field. Presently, he is playing for Paris Saint-Germain (PSG), where he has continued to showcase his exceptional skills and leadership. Messi's potential transfer to Real Madrid could reshape the dynamics of football, considering the intense rivalry between the two clubs, which has been historically marked by fierce competition and memorable matches. As the football world eagerly awaits this development, Messi's future at Real Madrid promises to be an exciting chapter in his storied career.\", 'off_or_ontopic': 'yes', 'mentions_market_value': 'yes', 'mentions_current_club': 'yes', 'meets_100_words': 'yes'}\n"
     ]
    },
    {
     "data": {
      "text/plain": [
       "((),\n",
       " {'question': 'Lionel Messi will to Real Madrid in 2025',\n",
       "  'off_or_ontopic': 'yes',\n",
       "  'answer': \"As of October 2023, it has been reported that the legendary Argentine footballer Lionel Messi is set to join the prestigious Spanish club Real Madrid in the year 2025. This move is highly anticipated by fans and analysts alike, as it marks a significant shift in his illustrious career. Currently, Messi's market value is estimated at approximately $50 million, reflecting his immense talent and experience on the field. Presently, he is playing for Paris Saint-Germain (PSG), where he has continued to showcase his exceptional skills and leadership. Messi's potential transfer to Real Madrid could reshape the dynamics of football, considering the intense rivalry between the two clubs, which has been historically marked by fierce competition and memorable matches. As the football world eagerly awaits this development, Messi's future at Real Madrid promises to be an exciting chapter in his storied career.\"})"
      ]
     },
     "execution_count": 117,
     "metadata": {},
     "output_type": "execute_result"
    }
   ],
   "source": [
    "human_app.invoke({\"question\": \"Lionel Messi will to Real Madrid in 2025\"}, config=config, subgraphs=True)"
   ]
  },
  {
   "cell_type": "code",
   "execution_count": 118,
   "metadata": {},
   "outputs": [
    {
     "data": {
      "text/plain": [
       "('api_call_node',)"
      ]
     },
     "execution_count": 118,
     "metadata": {},
     "output_type": "execute_result"
    }
   ],
   "source": [
    "snapshot = human_app.get_state(config)\n",
    "\n",
    "snapshot.next"
   ]
  },
  {
   "cell_type": "code",
   "execution_count": 119,
   "metadata": {},
   "outputs": [
    {
     "data": {
      "text/plain": [
       "{'question': 'Lionel Messi will to Real Madrid in 2025',\n",
       " 'off_or_ontopic': 'yes',\n",
       " 'answer': \"As of October 2023, it has been reported that the legendary Argentine footballer Lionel Messi is set to join the prestigious Spanish club Real Madrid in the year 2025. This move is highly anticipated by fans and analysts alike, as it marks a significant shift in his illustrious career. Currently, Messi's market value is estimated at approximately $50 million, reflecting his immense talent and experience on the field. Presently, he is playing for Paris Saint-Germain (PSG), where he has continued to showcase his exceptional skills and leadership. Messi's potential transfer to Real Madrid could reshape the dynamics of football, considering the intense rivalry between the two clubs, which has been historically marked by fierce competition and memorable matches. As the football world eagerly awaits this development, Messi's future at Real Madrid promises to be an exciting chapter in his storied career.\"}"
      ]
     },
     "execution_count": 119,
     "metadata": {},
     "output_type": "execute_result"
    }
   ],
   "source": [
    "snapshot = human_app.get_state(config)\n",
    "\n",
    "existing_message = snapshot.values\n",
    "existing_message"
   ]
  },
  {
   "cell_type": "code",
   "execution_count": 120,
   "metadata": {},
   "outputs": [
    {
     "data": {
      "text/plain": [
       "{'configurable': {'thread_id': '1',\n",
       "  'checkpoint_ns': '',\n",
       "  'checkpoint_id': '1f002887-96c8-6fc6-8002-fbff0400f6d6'}}"
      ]
     },
     "execution_count": 120,
     "metadata": {},
     "output_type": "execute_result"
    }
   ],
   "source": [
    "human_app.update_state(\n",
    "    config, \n",
    "    {\n",
    "        \"answer\": \"Fake news!!!\"\n",
    "    }\n",
    ")"
   ]
  },
  {
   "cell_type": "code",
   "execution_count": 121,
   "metadata": {},
   "outputs": [
    {
     "data": {
      "text/plain": [
       "{'question': 'Lionel Messi will to Real Madrid in 2025',\n",
       " 'off_or_ontopic': 'yes',\n",
       " 'answer': 'Fake news!!!',\n",
       " 'api_response': 'API received answer: Fake news!!!',\n",
       " 'status_code': 200}"
      ]
     },
     "execution_count": 121,
     "metadata": {},
     "output_type": "execute_result"
    }
   ],
   "source": [
    "human_app.invoke(None, config=config)"
   ]
  },
  {
   "cell_type": "code",
   "execution_count": null,
   "metadata": {},
   "outputs": [],
   "source": []
  }
 ],
 "metadata": {
  "kernelspec": {
   "display_name": ".venv",
   "language": "python",
   "name": "python3"
  },
  "language_info": {
   "codemirror_mode": {
    "name": "ipython",
    "version": 3
   },
   "file_extension": ".py",
   "mimetype": "text/x-python",
   "name": "python",
   "nbconvert_exporter": "python",
   "pygments_lexer": "ipython3",
   "version": "3.10.0"
  }
 },
 "nbformat": 4,
 "nbformat_minor": 2
}
